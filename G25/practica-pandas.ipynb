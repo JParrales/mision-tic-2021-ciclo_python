{
 "metadata": {
  "language_info": {
   "codemirror_mode": {
    "name": "ipython",
    "version": 3
   },
   "file_extension": ".py",
   "mimetype": "text/x-python",
   "name": "python",
   "nbconvert_exporter": "python",
   "pygments_lexer": "ipython3",
   "version": "3.8.5"
  },
  "orig_nbformat": 4,
  "kernelspec": {
   "name": "python3",
   "display_name": "Python 3.8.5 64-bit"
  },
  "interpreter": {
   "hash": "31f2aee4e71d21fbe5cf8b01ff0e069b9275f58929596ceb00d14d90e3e16cd6"
  }
 },
 "nbformat": 4,
 "nbformat_minor": 2,
 "cells": [
  {
   "cell_type": "code",
   "execution_count": null,
   "metadata": {},
   "outputs": [],
   "source": [
    "import numpy as np\n",
    "import pandas as pd"
   ]
  },
  {
   "cell_type": "code",
   "execution_count": null,
   "metadata": {},
   "outputs": [],
   "source": [
    "filas = list('XYZ')\n",
    "filas"
   ]
  },
  {
   "cell_type": "code",
   "execution_count": null,
   "metadata": {},
   "outputs": [],
   "source": [
    "columnas = list('ABCDE')\n",
    "columnas"
   ]
  },
  {
   "cell_type": "code",
   "execution_count": null,
   "metadata": {},
   "outputs": [],
   "source": [
    "data = np.round(np.random.randn(3,5), 2)\n",
    "data"
   ]
  },
  {
   "cell_type": "code",
   "execution_count": null,
   "metadata": {},
   "outputs": [],
   "source": [
    "df = pd.DataFrame(data, filas, columnas)\n",
    "df"
   ]
  },
  {
   "cell_type": "code",
   "execution_count": null,
   "metadata": {},
   "outputs": [],
   "source": [
    "df['A']"
   ]
  },
  {
   "cell_type": "code",
   "execution_count": null,
   "metadata": {},
   "outputs": [],
   "source": [
    "df['E']"
   ]
  },
  {
   "cell_type": "code",
   "execution_count": null,
   "metadata": {},
   "outputs": [],
   "source": [
    "df[['B', 'D']]"
   ]
  },
  {
   "cell_type": "code",
   "execution_count": null,
   "metadata": {},
   "outputs": [],
   "source": [
    "df"
   ]
  },
  {
   "cell_type": "code",
   "execution_count": null,
   "metadata": {},
   "outputs": [],
   "source": [
    "df['C']['Y']"
   ]
  },
  {
   "cell_type": "code",
   "execution_count": null,
   "metadata": {},
   "outputs": [],
   "source": [
    "llaves = list(range(1,10))\n",
    "valores = list('ABCDEFGHI')\n",
    "dicc = dict(zip(llaves, valores))\n",
    "dicc"
   ]
  },
  {
   "cell_type": "code",
   "execution_count": null,
   "metadata": {},
   "outputs": [],
   "source": [
    "pd.Series(dicc)"
   ]
  },
  {
   "cell_type": "code",
   "execution_count": 15,
   "metadata": {},
   "outputs": [
    {
     "output_type": "execute_result",
     "data": {
      "text/plain": [
       "      A     B     C     D     E\n",
       "X -0.95  1.39 -0.76  1.04 -0.11\n",
       "Y  0.24  0.72 -2.52 -0.05 -0.30\n",
       "Z -0.04 -0.62 -0.63 -2.25 -0.14"
      ],
      "text/html": "<div>\n<style scoped>\n    .dataframe tbody tr th:only-of-type {\n        vertical-align: middle;\n    }\n\n    .dataframe tbody tr th {\n        vertical-align: top;\n    }\n\n    .dataframe thead th {\n        text-align: right;\n    }\n</style>\n<table border=\"1\" class=\"dataframe\">\n  <thead>\n    <tr style=\"text-align: right;\">\n      <th></th>\n      <th>A</th>\n      <th>B</th>\n      <th>C</th>\n      <th>D</th>\n      <th>E</th>\n    </tr>\n  </thead>\n  <tbody>\n    <tr>\n      <th>X</th>\n      <td>-0.95</td>\n      <td>1.39</td>\n      <td>-0.76</td>\n      <td>1.04</td>\n      <td>-0.11</td>\n    </tr>\n    <tr>\n      <th>Y</th>\n      <td>0.24</td>\n      <td>0.72</td>\n      <td>-2.52</td>\n      <td>-0.05</td>\n      <td>-0.30</td>\n    </tr>\n    <tr>\n      <th>Z</th>\n      <td>-0.04</td>\n      <td>-0.62</td>\n      <td>-0.63</td>\n      <td>-2.25</td>\n      <td>-0.14</td>\n    </tr>\n  </tbody>\n</table>\n</div>"
     },
     "metadata": {},
     "execution_count": 15
    }
   ],
   "source": [
    "df"
   ]
  },
  {
   "cell_type": "code",
   "execution_count": 17,
   "metadata": {},
   "outputs": [
    {
     "output_type": "execute_result",
     "data": {
      "text/plain": [
       "      A     B     C     D     E   A+B\n",
       "X -0.95  1.39 -0.76  1.04 -0.11  0.44\n",
       "Y  0.24  0.72 -2.52 -0.05 -0.30  0.96\n",
       "Z -0.04 -0.62 -0.63 -2.25 -0.14 -0.66"
      ],
      "text/html": "<div>\n<style scoped>\n    .dataframe tbody tr th:only-of-type {\n        vertical-align: middle;\n    }\n\n    .dataframe tbody tr th {\n        vertical-align: top;\n    }\n\n    .dataframe thead th {\n        text-align: right;\n    }\n</style>\n<table border=\"1\" class=\"dataframe\">\n  <thead>\n    <tr style=\"text-align: right;\">\n      <th></th>\n      <th>A</th>\n      <th>B</th>\n      <th>C</th>\n      <th>D</th>\n      <th>E</th>\n      <th>A+B</th>\n    </tr>\n  </thead>\n  <tbody>\n    <tr>\n      <th>X</th>\n      <td>-0.95</td>\n      <td>1.39</td>\n      <td>-0.76</td>\n      <td>1.04</td>\n      <td>-0.11</td>\n      <td>0.44</td>\n    </tr>\n    <tr>\n      <th>Y</th>\n      <td>0.24</td>\n      <td>0.72</td>\n      <td>-2.52</td>\n      <td>-0.05</td>\n      <td>-0.30</td>\n      <td>0.96</td>\n    </tr>\n    <tr>\n      <th>Z</th>\n      <td>-0.04</td>\n      <td>-0.62</td>\n      <td>-0.63</td>\n      <td>-2.25</td>\n      <td>-0.14</td>\n      <td>-0.66</td>\n    </tr>\n  </tbody>\n</table>\n</div>"
     },
     "metadata": {},
     "execution_count": 17
    }
   ],
   "source": [
    "df['A+B'] = df['A'] + df['B']\n",
    "df"
   ]
  },
  {
   "cell_type": "code",
   "execution_count": 20,
   "metadata": {},
   "outputs": [],
   "source": [
    "df.drop('A+B', axis=1, inplace=True)"
   ]
  },
  {
   "cell_type": "code",
   "execution_count": 21,
   "metadata": {},
   "outputs": [
    {
     "output_type": "execute_result",
     "data": {
      "text/plain": [
       "      A     B     C     D     E\n",
       "X -0.95  1.39 -0.76  1.04 -0.11\n",
       "Y  0.24  0.72 -2.52 -0.05 -0.30\n",
       "Z -0.04 -0.62 -0.63 -2.25 -0.14"
      ],
      "text/html": "<div>\n<style scoped>\n    .dataframe tbody tr th:only-of-type {\n        vertical-align: middle;\n    }\n\n    .dataframe tbody tr th {\n        vertical-align: top;\n    }\n\n    .dataframe thead th {\n        text-align: right;\n    }\n</style>\n<table border=\"1\" class=\"dataframe\">\n  <thead>\n    <tr style=\"text-align: right;\">\n      <th></th>\n      <th>A</th>\n      <th>B</th>\n      <th>C</th>\n      <th>D</th>\n      <th>E</th>\n    </tr>\n  </thead>\n  <tbody>\n    <tr>\n      <th>X</th>\n      <td>-0.95</td>\n      <td>1.39</td>\n      <td>-0.76</td>\n      <td>1.04</td>\n      <td>-0.11</td>\n    </tr>\n    <tr>\n      <th>Y</th>\n      <td>0.24</td>\n      <td>0.72</td>\n      <td>-2.52</td>\n      <td>-0.05</td>\n      <td>-0.30</td>\n    </tr>\n    <tr>\n      <th>Z</th>\n      <td>-0.04</td>\n      <td>-0.62</td>\n      <td>-0.63</td>\n      <td>-2.25</td>\n      <td>-0.14</td>\n    </tr>\n  </tbody>\n</table>\n</div>"
     },
     "metadata": {},
     "execution_count": 21
    }
   ],
   "source": [
    "df"
   ]
  },
  {
   "cell_type": "code",
   "execution_count": 22,
   "metadata": {},
   "outputs": [
    {
     "output_type": "execute_result",
     "data": {
      "text/plain": [
       "      A     B     C     D     E   A+B\n",
       "X -0.95  1.39 -0.76  1.04 -0.11  0.44\n",
       "Y  0.24  0.72 -2.52 -0.05 -0.30  0.96\n",
       "Z -0.04 -0.62 -0.63 -2.25 -0.14 -0.66"
      ],
      "text/html": "<div>\n<style scoped>\n    .dataframe tbody tr th:only-of-type {\n        vertical-align: middle;\n    }\n\n    .dataframe tbody tr th {\n        vertical-align: top;\n    }\n\n    .dataframe thead th {\n        text-align: right;\n    }\n</style>\n<table border=\"1\" class=\"dataframe\">\n  <thead>\n    <tr style=\"text-align: right;\">\n      <th></th>\n      <th>A</th>\n      <th>B</th>\n      <th>C</th>\n      <th>D</th>\n      <th>E</th>\n      <th>A+B</th>\n    </tr>\n  </thead>\n  <tbody>\n    <tr>\n      <th>X</th>\n      <td>-0.95</td>\n      <td>1.39</td>\n      <td>-0.76</td>\n      <td>1.04</td>\n      <td>-0.11</td>\n      <td>0.44</td>\n    </tr>\n    <tr>\n      <th>Y</th>\n      <td>0.24</td>\n      <td>0.72</td>\n      <td>-2.52</td>\n      <td>-0.05</td>\n      <td>-0.30</td>\n      <td>0.96</td>\n    </tr>\n    <tr>\n      <th>Z</th>\n      <td>-0.04</td>\n      <td>-0.62</td>\n      <td>-0.63</td>\n      <td>-2.25</td>\n      <td>-0.14</td>\n      <td>-0.66</td>\n    </tr>\n  </tbody>\n</table>\n</div>"
     },
     "metadata": {},
     "execution_count": 22
    }
   ],
   "source": [
    "df['A+B'] = df['A'] + df['B']\n",
    "df"
   ]
  },
  {
   "cell_type": "code",
   "execution_count": 23,
   "metadata": {},
   "outputs": [],
   "source": [
    "df = df.drop('A+B', axis=1)"
   ]
  },
  {
   "cell_type": "code",
   "execution_count": 24,
   "metadata": {},
   "outputs": [
    {
     "output_type": "execute_result",
     "data": {
      "text/plain": [
       "      A     B     C     D     E\n",
       "X -0.95  1.39 -0.76  1.04 -0.11\n",
       "Y  0.24  0.72 -2.52 -0.05 -0.30\n",
       "Z -0.04 -0.62 -0.63 -2.25 -0.14"
      ],
      "text/html": "<div>\n<style scoped>\n    .dataframe tbody tr th:only-of-type {\n        vertical-align: middle;\n    }\n\n    .dataframe tbody tr th {\n        vertical-align: top;\n    }\n\n    .dataframe thead th {\n        text-align: right;\n    }\n</style>\n<table border=\"1\" class=\"dataframe\">\n  <thead>\n    <tr style=\"text-align: right;\">\n      <th></th>\n      <th>A</th>\n      <th>B</th>\n      <th>C</th>\n      <th>D</th>\n      <th>E</th>\n    </tr>\n  </thead>\n  <tbody>\n    <tr>\n      <th>X</th>\n      <td>-0.95</td>\n      <td>1.39</td>\n      <td>-0.76</td>\n      <td>1.04</td>\n      <td>-0.11</td>\n    </tr>\n    <tr>\n      <th>Y</th>\n      <td>0.24</td>\n      <td>0.72</td>\n      <td>-2.52</td>\n      <td>-0.05</td>\n      <td>-0.30</td>\n    </tr>\n    <tr>\n      <th>Z</th>\n      <td>-0.04</td>\n      <td>-0.62</td>\n      <td>-0.63</td>\n      <td>-2.25</td>\n      <td>-0.14</td>\n    </tr>\n  </tbody>\n</table>\n</div>"
     },
     "metadata": {},
     "execution_count": 24
    }
   ],
   "source": [
    "df"
   ]
  },
  {
   "cell_type": "code",
   "execution_count": 25,
   "metadata": {},
   "outputs": [
    {
     "output_type": "execute_result",
     "data": {
      "text/plain": [
       "      A     B     C     D     E\n",
       "X -0.95  1.39 -0.76  1.04 -0.11\n",
       "Y  0.24  0.72 -2.52 -0.05 -0.30"
      ],
      "text/html": "<div>\n<style scoped>\n    .dataframe tbody tr th:only-of-type {\n        vertical-align: middle;\n    }\n\n    .dataframe tbody tr th {\n        vertical-align: top;\n    }\n\n    .dataframe thead th {\n        text-align: right;\n    }\n</style>\n<table border=\"1\" class=\"dataframe\">\n  <thead>\n    <tr style=\"text-align: right;\">\n      <th></th>\n      <th>A</th>\n      <th>B</th>\n      <th>C</th>\n      <th>D</th>\n      <th>E</th>\n    </tr>\n  </thead>\n  <tbody>\n    <tr>\n      <th>X</th>\n      <td>-0.95</td>\n      <td>1.39</td>\n      <td>-0.76</td>\n      <td>1.04</td>\n      <td>-0.11</td>\n    </tr>\n    <tr>\n      <th>Y</th>\n      <td>0.24</td>\n      <td>0.72</td>\n      <td>-2.52</td>\n      <td>-0.05</td>\n      <td>-0.30</td>\n    </tr>\n  </tbody>\n</table>\n</div>"
     },
     "metadata": {},
     "execution_count": 25
    }
   ],
   "source": [
    "df.drop('Z')"
   ]
  },
  {
   "cell_type": "code",
   "execution_count": 26,
   "metadata": {},
   "outputs": [
    {
     "output_type": "execute_result",
     "data": {
      "text/plain": [
       "A   -0.95\n",
       "B    1.39\n",
       "C   -0.76\n",
       "D    1.04\n",
       "E   -0.11\n",
       "Name: X, dtype: float64"
      ]
     },
     "metadata": {},
     "execution_count": 26
    }
   ],
   "source": [
    "df.loc['X']"
   ]
  },
  {
   "cell_type": "code",
   "execution_count": 27,
   "metadata": {},
   "outputs": [
    {
     "output_type": "execute_result",
     "data": {
      "text/plain": [
       "A   -0.95\n",
       "B    1.39\n",
       "C   -0.76\n",
       "D    1.04\n",
       "E   -0.11\n",
       "Name: X, dtype: float64"
      ]
     },
     "metadata": {},
     "execution_count": 27
    }
   ],
   "source": [
    "df.iloc[0]"
   ]
  },
  {
   "cell_type": "code",
   "execution_count": 28,
   "metadata": {},
   "outputs": [
    {
     "output_type": "execute_result",
     "data": {
      "text/plain": [
       "      A     B     C     D     E\n",
       "X -0.95  1.39 -0.76  1.04 -0.11\n",
       "Y  0.24  0.72 -2.52 -0.05 -0.30\n",
       "Z -0.04 -0.62 -0.63 -2.25 -0.14"
      ],
      "text/html": "<div>\n<style scoped>\n    .dataframe tbody tr th:only-of-type {\n        vertical-align: middle;\n    }\n\n    .dataframe tbody tr th {\n        vertical-align: top;\n    }\n\n    .dataframe thead th {\n        text-align: right;\n    }\n</style>\n<table border=\"1\" class=\"dataframe\">\n  <thead>\n    <tr style=\"text-align: right;\">\n      <th></th>\n      <th>A</th>\n      <th>B</th>\n      <th>C</th>\n      <th>D</th>\n      <th>E</th>\n    </tr>\n  </thead>\n  <tbody>\n    <tr>\n      <th>X</th>\n      <td>-0.95</td>\n      <td>1.39</td>\n      <td>-0.76</td>\n      <td>1.04</td>\n      <td>-0.11</td>\n    </tr>\n    <tr>\n      <th>Y</th>\n      <td>0.24</td>\n      <td>0.72</td>\n      <td>-2.52</td>\n      <td>-0.05</td>\n      <td>-0.30</td>\n    </tr>\n    <tr>\n      <th>Z</th>\n      <td>-0.04</td>\n      <td>-0.62</td>\n      <td>-0.63</td>\n      <td>-2.25</td>\n      <td>-0.14</td>\n    </tr>\n  </tbody>\n</table>\n</div>"
     },
     "metadata": {},
     "execution_count": 28
    }
   ],
   "source": [
    "df"
   ]
  },
  {
   "cell_type": "code",
   "execution_count": 29,
   "metadata": {},
   "outputs": [
    {
     "output_type": "execute_result",
     "data": {
      "text/plain": [
       "(3, 5)"
      ]
     },
     "metadata": {},
     "execution_count": 29
    }
   ],
   "source": [
    "df.shape"
   ]
  },
  {
   "cell_type": "code",
   "execution_count": 31,
   "metadata": {},
   "outputs": [
    {
     "output_type": "execute_result",
     "data": {
      "text/plain": [
       "      A     B\n",
       "X -0.95  1.39\n",
       "Y  0.24  0.72"
      ],
      "text/html": "<div>\n<style scoped>\n    .dataframe tbody tr th:only-of-type {\n        vertical-align: middle;\n    }\n\n    .dataframe tbody tr th {\n        vertical-align: top;\n    }\n\n    .dataframe thead th {\n        text-align: right;\n    }\n</style>\n<table border=\"1\" class=\"dataframe\">\n  <thead>\n    <tr style=\"text-align: right;\">\n      <th></th>\n      <th>A</th>\n      <th>B</th>\n    </tr>\n  </thead>\n  <tbody>\n    <tr>\n      <th>X</th>\n      <td>-0.95</td>\n      <td>1.39</td>\n    </tr>\n    <tr>\n      <th>Y</th>\n      <td>0.24</td>\n      <td>0.72</td>\n    </tr>\n  </tbody>\n</table>\n</div>"
     },
     "metadata": {},
     "execution_count": 31
    }
   ],
   "source": [
    "df[['A', 'B']].loc[['X', 'Y']]"
   ]
  },
  {
   "cell_type": "code",
   "execution_count": 32,
   "metadata": {},
   "outputs": [
    {
     "output_type": "execute_result",
     "data": {
      "text/plain": [
       "      A     B     C     D     E\n",
       "X -0.95  1.39 -0.76  1.04 -0.11\n",
       "Y  0.24  0.72 -2.52 -0.05 -0.30\n",
       "Z -0.04 -0.62 -0.63 -2.25 -0.14"
      ],
      "text/html": "<div>\n<style scoped>\n    .dataframe tbody tr th:only-of-type {\n        vertical-align: middle;\n    }\n\n    .dataframe tbody tr th {\n        vertical-align: top;\n    }\n\n    .dataframe thead th {\n        text-align: right;\n    }\n</style>\n<table border=\"1\" class=\"dataframe\">\n  <thead>\n    <tr style=\"text-align: right;\">\n      <th></th>\n      <th>A</th>\n      <th>B</th>\n      <th>C</th>\n      <th>D</th>\n      <th>E</th>\n    </tr>\n  </thead>\n  <tbody>\n    <tr>\n      <th>X</th>\n      <td>-0.95</td>\n      <td>1.39</td>\n      <td>-0.76</td>\n      <td>1.04</td>\n      <td>-0.11</td>\n    </tr>\n    <tr>\n      <th>Y</th>\n      <td>0.24</td>\n      <td>0.72</td>\n      <td>-2.52</td>\n      <td>-0.05</td>\n      <td>-0.30</td>\n    </tr>\n    <tr>\n      <th>Z</th>\n      <td>-0.04</td>\n      <td>-0.62</td>\n      <td>-0.63</td>\n      <td>-2.25</td>\n      <td>-0.14</td>\n    </tr>\n  </tbody>\n</table>\n</div>"
     },
     "metadata": {},
     "execution_count": 32
    }
   ],
   "source": [
    "df"
   ]
  },
  {
   "cell_type": "code",
   "execution_count": 33,
   "metadata": {},
   "outputs": [
    {
     "output_type": "execute_result",
     "data": {
      "text/plain": [
       "      A      B     C      D     E\n",
       "X  True  False  True  False  True\n",
       "Y  True  False  True   True  True\n",
       "Z  True   True  True   True  True"
      ],
      "text/html": "<div>\n<style scoped>\n    .dataframe tbody tr th:only-of-type {\n        vertical-align: middle;\n    }\n\n    .dataframe tbody tr th {\n        vertical-align: top;\n    }\n\n    .dataframe thead th {\n        text-align: right;\n    }\n</style>\n<table border=\"1\" class=\"dataframe\">\n  <thead>\n    <tr style=\"text-align: right;\">\n      <th></th>\n      <th>A</th>\n      <th>B</th>\n      <th>C</th>\n      <th>D</th>\n      <th>E</th>\n    </tr>\n  </thead>\n  <tbody>\n    <tr>\n      <th>X</th>\n      <td>True</td>\n      <td>False</td>\n      <td>True</td>\n      <td>False</td>\n      <td>True</td>\n    </tr>\n    <tr>\n      <th>Y</th>\n      <td>True</td>\n      <td>False</td>\n      <td>True</td>\n      <td>True</td>\n      <td>True</td>\n    </tr>\n    <tr>\n      <th>Z</th>\n      <td>True</td>\n      <td>True</td>\n      <td>True</td>\n      <td>True</td>\n      <td>True</td>\n    </tr>\n  </tbody>\n</table>\n</div>"
     },
     "metadata": {},
     "execution_count": 33
    }
   ],
   "source": [
    "df < 0.5"
   ]
  },
  {
   "cell_type": "code",
   "execution_count": 37,
   "metadata": {},
   "outputs": [
    {
     "output_type": "execute_result",
     "data": {
      "text/plain": [
       "X    False\n",
       "Y    False\n",
       "Z     True\n",
       "Name: B, dtype: bool"
      ]
     },
     "metadata": {},
     "execution_count": 37
    }
   ],
   "source": [
    "df['B'] < 0.5"
   ]
  },
  {
   "cell_type": "code",
   "execution_count": 38,
   "metadata": {},
   "outputs": [
    {
     "output_type": "execute_result",
     "data": {
      "text/plain": [
       "      A     B     C     D     E\n",
       "Z -0.04 -0.62 -0.63 -2.25 -0.14"
      ],
      "text/html": "<div>\n<style scoped>\n    .dataframe tbody tr th:only-of-type {\n        vertical-align: middle;\n    }\n\n    .dataframe tbody tr th {\n        vertical-align: top;\n    }\n\n    .dataframe thead th {\n        text-align: right;\n    }\n</style>\n<table border=\"1\" class=\"dataframe\">\n  <thead>\n    <tr style=\"text-align: right;\">\n      <th></th>\n      <th>A</th>\n      <th>B</th>\n      <th>C</th>\n      <th>D</th>\n      <th>E</th>\n    </tr>\n  </thead>\n  <tbody>\n    <tr>\n      <th>Z</th>\n      <td>-0.04</td>\n      <td>-0.62</td>\n      <td>-0.63</td>\n      <td>-2.25</td>\n      <td>-0.14</td>\n    </tr>\n  </tbody>\n</table>\n</div>"
     },
     "metadata": {},
     "execution_count": 38
    }
   ],
   "source": [
    "df[df['B']< 0.5]"
   ]
  },
  {
   "cell_type": "code",
   "execution_count": 39,
   "metadata": {},
   "outputs": [
    {
     "output_type": "execute_result",
     "data": {
      "text/plain": [
       "      A     B     C     D     E\n",
       "X -0.95  1.39 -0.76  1.04 -0.11\n",
       "Y  0.24  0.72 -2.52 -0.05 -0.30\n",
       "Z -0.04 -0.62 -0.63 -2.25 -0.14"
      ],
      "text/html": "<div>\n<style scoped>\n    .dataframe tbody tr th:only-of-type {\n        vertical-align: middle;\n    }\n\n    .dataframe tbody tr th {\n        vertical-align: top;\n    }\n\n    .dataframe thead th {\n        text-align: right;\n    }\n</style>\n<table border=\"1\" class=\"dataframe\">\n  <thead>\n    <tr style=\"text-align: right;\">\n      <th></th>\n      <th>A</th>\n      <th>B</th>\n      <th>C</th>\n      <th>D</th>\n      <th>E</th>\n    </tr>\n  </thead>\n  <tbody>\n    <tr>\n      <th>X</th>\n      <td>-0.95</td>\n      <td>1.39</td>\n      <td>-0.76</td>\n      <td>1.04</td>\n      <td>-0.11</td>\n    </tr>\n    <tr>\n      <th>Y</th>\n      <td>0.24</td>\n      <td>0.72</td>\n      <td>-2.52</td>\n      <td>-0.05</td>\n      <td>-0.30</td>\n    </tr>\n    <tr>\n      <th>Z</th>\n      <td>-0.04</td>\n      <td>-0.62</td>\n      <td>-0.63</td>\n      <td>-2.25</td>\n      <td>-0.14</td>\n    </tr>\n  </tbody>\n</table>\n</div>"
     },
     "metadata": {},
     "execution_count": 39
    }
   ],
   "source": [
    "df"
   ]
  },
  {
   "cell_type": "code",
   "execution_count": 40,
   "metadata": {},
   "outputs": [
    {
     "output_type": "execute_result",
     "data": {
      "text/plain": [
       "          B     C     D     E\n",
       "A                            \n",
       "-0.95  1.39 -0.76  1.04 -0.11\n",
       " 0.24  0.72 -2.52 -0.05 -0.30\n",
       "-0.04 -0.62 -0.63 -2.25 -0.14"
      ],
      "text/html": "<div>\n<style scoped>\n    .dataframe tbody tr th:only-of-type {\n        vertical-align: middle;\n    }\n\n    .dataframe tbody tr th {\n        vertical-align: top;\n    }\n\n    .dataframe thead th {\n        text-align: right;\n    }\n</style>\n<table border=\"1\" class=\"dataframe\">\n  <thead>\n    <tr style=\"text-align: right;\">\n      <th></th>\n      <th>B</th>\n      <th>C</th>\n      <th>D</th>\n      <th>E</th>\n    </tr>\n    <tr>\n      <th>A</th>\n      <th></th>\n      <th></th>\n      <th></th>\n      <th></th>\n    </tr>\n  </thead>\n  <tbody>\n    <tr>\n      <th>-0.95</th>\n      <td>1.39</td>\n      <td>-0.76</td>\n      <td>1.04</td>\n      <td>-0.11</td>\n    </tr>\n    <tr>\n      <th>0.24</th>\n      <td>0.72</td>\n      <td>-2.52</td>\n      <td>-0.05</td>\n      <td>-0.30</td>\n    </tr>\n    <tr>\n      <th>-0.04</th>\n      <td>-0.62</td>\n      <td>-0.63</td>\n      <td>-2.25</td>\n      <td>-0.14</td>\n    </tr>\n  </tbody>\n</table>\n</div>"
     },
     "metadata": {},
     "execution_count": 40
    }
   ],
   "source": [
    "df.set_index('A')"
   ]
  },
  {
   "cell_type": "code",
   "execution_count": 41,
   "metadata": {},
   "outputs": [
    {
     "output_type": "execute_result",
     "data": {
      "text/plain": [
       "      A     B     C     D     E\n",
       "X -0.95  1.39 -0.76  1.04 -0.11\n",
       "Y  0.24  0.72 -2.52 -0.05 -0.30\n",
       "Z -0.04 -0.62 -0.63 -2.25 -0.14"
      ],
      "text/html": "<div>\n<style scoped>\n    .dataframe tbody tr th:only-of-type {\n        vertical-align: middle;\n    }\n\n    .dataframe tbody tr th {\n        vertical-align: top;\n    }\n\n    .dataframe thead th {\n        text-align: right;\n    }\n</style>\n<table border=\"1\" class=\"dataframe\">\n  <thead>\n    <tr style=\"text-align: right;\">\n      <th></th>\n      <th>A</th>\n      <th>B</th>\n      <th>C</th>\n      <th>D</th>\n      <th>E</th>\n    </tr>\n  </thead>\n  <tbody>\n    <tr>\n      <th>X</th>\n      <td>-0.95</td>\n      <td>1.39</td>\n      <td>-0.76</td>\n      <td>1.04</td>\n      <td>-0.11</td>\n    </tr>\n    <tr>\n      <th>Y</th>\n      <td>0.24</td>\n      <td>0.72</td>\n      <td>-2.52</td>\n      <td>-0.05</td>\n      <td>-0.30</td>\n    </tr>\n    <tr>\n      <th>Z</th>\n      <td>-0.04</td>\n      <td>-0.62</td>\n      <td>-0.63</td>\n      <td>-2.25</td>\n      <td>-0.14</td>\n    </tr>\n  </tbody>\n</table>\n</div>"
     },
     "metadata": {},
     "execution_count": 41
    }
   ],
   "source": [
    "df"
   ]
  },
  {
   "cell_type": "code",
   "execution_count": 42,
   "metadata": {},
   "outputs": [
    {
     "output_type": "execute_result",
     "data": {
      "text/plain": [
       "      1     2     3     4     5\n",
       "X -0.95  1.39 -0.76  1.04 -0.11\n",
       "Y  0.24  0.72 -2.52 -0.05 -0.30\n",
       "Z -0.04 -0.62 -0.63 -2.25 -0.14"
      ],
      "text/html": "<div>\n<style scoped>\n    .dataframe tbody tr th:only-of-type {\n        vertical-align: middle;\n    }\n\n    .dataframe tbody tr th {\n        vertical-align: top;\n    }\n\n    .dataframe thead th {\n        text-align: right;\n    }\n</style>\n<table border=\"1\" class=\"dataframe\">\n  <thead>\n    <tr style=\"text-align: right;\">\n      <th></th>\n      <th>1</th>\n      <th>2</th>\n      <th>3</th>\n      <th>4</th>\n      <th>5</th>\n    </tr>\n  </thead>\n  <tbody>\n    <tr>\n      <th>X</th>\n      <td>-0.95</td>\n      <td>1.39</td>\n      <td>-0.76</td>\n      <td>1.04</td>\n      <td>-0.11</td>\n    </tr>\n    <tr>\n      <th>Y</th>\n      <td>0.24</td>\n      <td>0.72</td>\n      <td>-2.52</td>\n      <td>-0.05</td>\n      <td>-0.30</td>\n    </tr>\n    <tr>\n      <th>Z</th>\n      <td>-0.04</td>\n      <td>-0.62</td>\n      <td>-0.63</td>\n      <td>-2.25</td>\n      <td>-0.14</td>\n    </tr>\n  </tbody>\n</table>\n</div>"
     },
     "metadata": {},
     "execution_count": 42
    }
   ],
   "source": [
    "df.columns = [1,2,3,4,5]\n",
    "df"
   ]
  },
  {
   "cell_type": "code",
   "execution_count": 43,
   "metadata": {},
   "outputs": [
    {
     "output_type": "execute_result",
     "data": {
      "text/plain": [
       "     A    B    C\n",
       "0  1.0  5.0  1.0\n",
       "1  1.0  NaN  2.0\n",
       "2  NaN  NaN  3.0"
      ],
      "text/html": "<div>\n<style scoped>\n    .dataframe tbody tr th:only-of-type {\n        vertical-align: middle;\n    }\n\n    .dataframe tbody tr th {\n        vertical-align: top;\n    }\n\n    .dataframe thead th {\n        text-align: right;\n    }\n</style>\n<table border=\"1\" class=\"dataframe\">\n  <thead>\n    <tr style=\"text-align: right;\">\n      <th></th>\n      <th>A</th>\n      <th>B</th>\n      <th>C</th>\n    </tr>\n  </thead>\n  <tbody>\n    <tr>\n      <th>0</th>\n      <td>1.0</td>\n      <td>5.0</td>\n      <td>1.0</td>\n    </tr>\n    <tr>\n      <th>1</th>\n      <td>1.0</td>\n      <td>NaN</td>\n      <td>2.0</td>\n    </tr>\n    <tr>\n      <th>2</th>\n      <td>NaN</td>\n      <td>NaN</td>\n      <td>3.0</td>\n    </tr>\n  </tbody>\n</table>\n</div>"
     },
     "metadata": {},
     "execution_count": 43
    }
   ],
   "source": [
    "df = pd.DataFrame(np.array([[1 ,5, 1], [1, np.nan, 2], [np.nan, np.nan, 3]]))\n",
    "df.columns = ['A', 'B', 'C']\n",
    "df"
   ]
  },
  {
   "cell_type": "code",
   "execution_count": 47,
   "metadata": {},
   "outputs": [
    {
     "output_type": "execute_result",
     "data": {
      "text/plain": [
       "     A    B    C\n",
       "0  1.0  5.0  1.0"
      ],
      "text/html": "<div>\n<style scoped>\n    .dataframe tbody tr th:only-of-type {\n        vertical-align: middle;\n    }\n\n    .dataframe tbody tr th {\n        vertical-align: top;\n    }\n\n    .dataframe thead th {\n        text-align: right;\n    }\n</style>\n<table border=\"1\" class=\"dataframe\">\n  <thead>\n    <tr style=\"text-align: right;\">\n      <th></th>\n      <th>A</th>\n      <th>B</th>\n      <th>C</th>\n    </tr>\n  </thead>\n  <tbody>\n    <tr>\n      <th>0</th>\n      <td>1.0</td>\n      <td>5.0</td>\n      <td>1.0</td>\n    </tr>\n  </tbody>\n</table>\n</div>"
     },
     "metadata": {},
     "execution_count": 47
    }
   ],
   "source": [
    "df.dropna()"
   ]
  },
  {
   "cell_type": "code",
   "execution_count": 48,
   "metadata": {},
   "outputs": [
    {
     "output_type": "execute_result",
     "data": {
      "text/plain": [
       "     C\n",
       "0  1.0\n",
       "1  2.0\n",
       "2  3.0"
      ],
      "text/html": "<div>\n<style scoped>\n    .dataframe tbody tr th:only-of-type {\n        vertical-align: middle;\n    }\n\n    .dataframe tbody tr th {\n        vertical-align: top;\n    }\n\n    .dataframe thead th {\n        text-align: right;\n    }\n</style>\n<table border=\"1\" class=\"dataframe\">\n  <thead>\n    <tr style=\"text-align: right;\">\n      <th></th>\n      <th>C</th>\n    </tr>\n  </thead>\n  <tbody>\n    <tr>\n      <th>0</th>\n      <td>1.0</td>\n    </tr>\n    <tr>\n      <th>1</th>\n      <td>2.0</td>\n    </tr>\n    <tr>\n      <th>2</th>\n      <td>3.0</td>\n    </tr>\n  </tbody>\n</table>\n</div>"
     },
     "metadata": {},
     "execution_count": 48
    }
   ],
   "source": [
    "df.dropna(axis=1)"
   ]
  },
  {
   "cell_type": "code",
   "execution_count": 49,
   "metadata": {},
   "outputs": [
    {
     "output_type": "execute_result",
     "data": {
      "text/plain": [
       "     A    B    C\n",
       "0  1.0  5.0  1.0\n",
       "1  1.0  NaN  2.0\n",
       "2  NaN  NaN  3.0"
      ],
      "text/html": "<div>\n<style scoped>\n    .dataframe tbody tr th:only-of-type {\n        vertical-align: middle;\n    }\n\n    .dataframe tbody tr th {\n        vertical-align: top;\n    }\n\n    .dataframe thead th {\n        text-align: right;\n    }\n</style>\n<table border=\"1\" class=\"dataframe\">\n  <thead>\n    <tr style=\"text-align: right;\">\n      <th></th>\n      <th>A</th>\n      <th>B</th>\n      <th>C</th>\n    </tr>\n  </thead>\n  <tbody>\n    <tr>\n      <th>0</th>\n      <td>1.0</td>\n      <td>5.0</td>\n      <td>1.0</td>\n    </tr>\n    <tr>\n      <th>1</th>\n      <td>1.0</td>\n      <td>NaN</td>\n      <td>2.0</td>\n    </tr>\n    <tr>\n      <th>2</th>\n      <td>NaN</td>\n      <td>NaN</td>\n      <td>3.0</td>\n    </tr>\n  </tbody>\n</table>\n</div>"
     },
     "metadata": {},
     "execution_count": 49
    }
   ],
   "source": [
    "df"
   ]
  },
  {
   "cell_type": "code",
   "execution_count": 52,
   "metadata": {},
   "outputs": [
    {
     "output_type": "execute_result",
     "data": {
      "text/plain": [
       "     A    B    C\n",
       "0  1.0  5.0  1.0\n",
       "1  1.0  0.0  2.0\n",
       "2  0.0  0.0  3.0"
      ],
      "text/html": "<div>\n<style scoped>\n    .dataframe tbody tr th:only-of-type {\n        vertical-align: middle;\n    }\n\n    .dataframe tbody tr th {\n        vertical-align: top;\n    }\n\n    .dataframe thead th {\n        text-align: right;\n    }\n</style>\n<table border=\"1\" class=\"dataframe\">\n  <thead>\n    <tr style=\"text-align: right;\">\n      <th></th>\n      <th>A</th>\n      <th>B</th>\n      <th>C</th>\n    </tr>\n  </thead>\n  <tbody>\n    <tr>\n      <th>0</th>\n      <td>1.0</td>\n      <td>5.0</td>\n      <td>1.0</td>\n    </tr>\n    <tr>\n      <th>1</th>\n      <td>1.0</td>\n      <td>0.0</td>\n      <td>2.0</td>\n    </tr>\n    <tr>\n      <th>2</th>\n      <td>0.0</td>\n      <td>0.0</td>\n      <td>3.0</td>\n    </tr>\n  </tbody>\n</table>\n</div>"
     },
     "metadata": {},
     "execution_count": 52
    }
   ],
   "source": [
    "df.fillna(0)"
   ]
  },
  {
   "cell_type": "code",
   "execution_count": 53,
   "metadata": {},
   "outputs": [
    {
     "output_type": "execute_result",
     "data": {
      "text/plain": [
       "        0          1    2\n",
       "0  Andres     Google  200\n",
       "1  Carlos     Google  120\n",
       "2    Juan   Facebook  125\n",
       "3   Cindy   Facebook  250\n",
       "4   Laura  Instagram  120\n",
       "5   Diego  Instagram  500"
      ],
      "text/html": "<div>\n<style scoped>\n    .dataframe tbody tr th:only-of-type {\n        vertical-align: middle;\n    }\n\n    .dataframe tbody tr th {\n        vertical-align: top;\n    }\n\n    .dataframe thead th {\n        text-align: right;\n    }\n</style>\n<table border=\"1\" class=\"dataframe\">\n  <thead>\n    <tr style=\"text-align: right;\">\n      <th></th>\n      <th>0</th>\n      <th>1</th>\n      <th>2</th>\n    </tr>\n  </thead>\n  <tbody>\n    <tr>\n      <th>0</th>\n      <td>Andres</td>\n      <td>Google</td>\n      <td>200</td>\n    </tr>\n    <tr>\n      <th>1</th>\n      <td>Carlos</td>\n      <td>Google</td>\n      <td>120</td>\n    </tr>\n    <tr>\n      <th>2</th>\n      <td>Juan</td>\n      <td>Facebook</td>\n      <td>125</td>\n    </tr>\n    <tr>\n      <th>3</th>\n      <td>Cindy</td>\n      <td>Facebook</td>\n      <td>250</td>\n    </tr>\n    <tr>\n      <th>4</th>\n      <td>Laura</td>\n      <td>Instagram</td>\n      <td>120</td>\n    </tr>\n    <tr>\n      <th>5</th>\n      <td>Diego</td>\n      <td>Instagram</td>\n      <td>500</td>\n    </tr>\n  </tbody>\n</table>\n</div>"
     },
     "metadata": {},
     "execution_count": 53
    }
   ],
   "source": [
    "df = pd.DataFrame(\n",
    "    [\n",
    "        ['Andres', 'Google', 200],\n",
    "        ['Carlos', 'Google', 120],\n",
    "        ['Juan', 'Facebook', 125],\n",
    "        ['Cindy', 'Facebook', 250],\n",
    "        ['Laura', 'Instagram', 120],\n",
    "        ['Diego', 'Instagram', 500],\n",
    "\n",
    "    ]\n",
    ")\n",
    "df"
   ]
  },
  {
   "cell_type": "code",
   "execution_count": 56,
   "metadata": {},
   "outputs": [
    {
     "output_type": "execute_result",
     "data": {
      "text/plain": [
       "   Nombre    Empresa  Ingresos\n",
       "0  Andres     Google       200\n",
       "1  Carlos     Google       120\n",
       "2    Juan   Facebook       125\n",
       "3   Cindy   Facebook       250\n",
       "4   Laura  Instagram       120\n",
       "5   Diego  Instagram       500"
      ],
      "text/html": "<div>\n<style scoped>\n    .dataframe tbody tr th:only-of-type {\n        vertical-align: middle;\n    }\n\n    .dataframe tbody tr th {\n        vertical-align: top;\n    }\n\n    .dataframe thead th {\n        text-align: right;\n    }\n</style>\n<table border=\"1\" class=\"dataframe\">\n  <thead>\n    <tr style=\"text-align: right;\">\n      <th></th>\n      <th>Nombre</th>\n      <th>Empresa</th>\n      <th>Ingresos</th>\n    </tr>\n  </thead>\n  <tbody>\n    <tr>\n      <th>0</th>\n      <td>Andres</td>\n      <td>Google</td>\n      <td>200</td>\n    </tr>\n    <tr>\n      <th>1</th>\n      <td>Carlos</td>\n      <td>Google</td>\n      <td>120</td>\n    </tr>\n    <tr>\n      <th>2</th>\n      <td>Juan</td>\n      <td>Facebook</td>\n      <td>125</td>\n    </tr>\n    <tr>\n      <th>3</th>\n      <td>Cindy</td>\n      <td>Facebook</td>\n      <td>250</td>\n    </tr>\n    <tr>\n      <th>4</th>\n      <td>Laura</td>\n      <td>Instagram</td>\n      <td>120</td>\n    </tr>\n    <tr>\n      <th>5</th>\n      <td>Diego</td>\n      <td>Instagram</td>\n      <td>500</td>\n    </tr>\n  </tbody>\n</table>\n</div>"
     },
     "metadata": {},
     "execution_count": 56
    }
   ],
   "source": [
    "df.columns = ['Nombre', 'Empresa', 'Ingresos']\n",
    "df"
   ]
  },
  {
   "cell_type": "code",
   "execution_count": 57,
   "metadata": {},
   "outputs": [
    {
     "output_type": "execute_result",
     "data": {
      "text/plain": [
       "<pandas.core.groupby.generic.DataFrameGroupBy object at 0x7eff0468b400>"
      ]
     },
     "metadata": {},
     "execution_count": 57
    }
   ],
   "source": [
    "df.groupby('Empresa')"
   ]
  },
  {
   "cell_type": "code",
   "execution_count": 58,
   "metadata": {},
   "outputs": [
    {
     "output_type": "execute_result",
     "data": {
      "text/plain": [
       "           Ingresos\n",
       "Empresa            \n",
       "Facebook      187.5\n",
       "Google        160.0\n",
       "Instagram     310.0"
      ],
      "text/html": "<div>\n<style scoped>\n    .dataframe tbody tr th:only-of-type {\n        vertical-align: middle;\n    }\n\n    .dataframe tbody tr th {\n        vertical-align: top;\n    }\n\n    .dataframe thead th {\n        text-align: right;\n    }\n</style>\n<table border=\"1\" class=\"dataframe\">\n  <thead>\n    <tr style=\"text-align: right;\">\n      <th></th>\n      <th>Ingresos</th>\n    </tr>\n    <tr>\n      <th>Empresa</th>\n      <th></th>\n    </tr>\n  </thead>\n  <tbody>\n    <tr>\n      <th>Facebook</th>\n      <td>187.5</td>\n    </tr>\n    <tr>\n      <th>Google</th>\n      <td>160.0</td>\n    </tr>\n    <tr>\n      <th>Instagram</th>\n      <td>310.0</td>\n    </tr>\n  </tbody>\n</table>\n</div>"
     },
     "metadata": {},
     "execution_count": 58
    }
   ],
   "source": [
    "df.groupby('Empresa').mean()"
   ]
  },
  {
   "cell_type": "code",
   "execution_count": 59,
   "metadata": {},
   "outputs": [
    {
     "output_type": "execute_result",
     "data": {
      "text/plain": [
       "           Ingresos\n",
       "Empresa            \n",
       "Facebook        375\n",
       "Google          320\n",
       "Instagram       620"
      ],
      "text/html": "<div>\n<style scoped>\n    .dataframe tbody tr th:only-of-type {\n        vertical-align: middle;\n    }\n\n    .dataframe tbody tr th {\n        vertical-align: top;\n    }\n\n    .dataframe thead th {\n        text-align: right;\n    }\n</style>\n<table border=\"1\" class=\"dataframe\">\n  <thead>\n    <tr style=\"text-align: right;\">\n      <th></th>\n      <th>Ingresos</th>\n    </tr>\n    <tr>\n      <th>Empresa</th>\n      <th></th>\n    </tr>\n  </thead>\n  <tbody>\n    <tr>\n      <th>Facebook</th>\n      <td>375</td>\n    </tr>\n    <tr>\n      <th>Google</th>\n      <td>320</td>\n    </tr>\n    <tr>\n      <th>Instagram</th>\n      <td>620</td>\n    </tr>\n  </tbody>\n</table>\n</div>"
     },
     "metadata": {},
     "execution_count": 59
    }
   ],
   "source": [
    "df.groupby('Empresa').sum()"
   ]
  },
  {
   "cell_type": "code",
   "execution_count": 61,
   "metadata": {},
   "outputs": [
    {
     "output_type": "execute_result",
     "data": {
      "text/plain": [
       "             Ingresos\n",
       "Empresa              \n",
       "Facebook    88.388348\n",
       "Google      56.568542\n",
       "Instagram  268.700577"
      ],
      "text/html": "<div>\n<style scoped>\n    .dataframe tbody tr th:only-of-type {\n        vertical-align: middle;\n    }\n\n    .dataframe tbody tr th {\n        vertical-align: top;\n    }\n\n    .dataframe thead th {\n        text-align: right;\n    }\n</style>\n<table border=\"1\" class=\"dataframe\">\n  <thead>\n    <tr style=\"text-align: right;\">\n      <th></th>\n      <th>Ingresos</th>\n    </tr>\n    <tr>\n      <th>Empresa</th>\n      <th></th>\n    </tr>\n  </thead>\n  <tbody>\n    <tr>\n      <th>Facebook</th>\n      <td>88.388348</td>\n    </tr>\n    <tr>\n      <th>Google</th>\n      <td>56.568542</td>\n    </tr>\n    <tr>\n      <th>Instagram</th>\n      <td>268.700577</td>\n    </tr>\n  </tbody>\n</table>\n</div>"
     },
     "metadata": {},
     "execution_count": 61
    }
   ],
   "source": [
    "df.groupby('Empresa').std()"
   ]
  },
  {
   "cell_type": "code",
   "execution_count": 62,
   "metadata": {},
   "outputs": [
    {
     "output_type": "execute_result",
     "data": {
      "text/plain": [
       "           Nombre  Ingresos\n",
       "Empresa                    \n",
       "Facebook        2         2\n",
       "Google          2         2\n",
       "Instagram       2         2"
      ],
      "text/html": "<div>\n<style scoped>\n    .dataframe tbody tr th:only-of-type {\n        vertical-align: middle;\n    }\n\n    .dataframe tbody tr th {\n        vertical-align: top;\n    }\n\n    .dataframe thead th {\n        text-align: right;\n    }\n</style>\n<table border=\"1\" class=\"dataframe\">\n  <thead>\n    <tr style=\"text-align: right;\">\n      <th></th>\n      <th>Nombre</th>\n      <th>Ingresos</th>\n    </tr>\n    <tr>\n      <th>Empresa</th>\n      <th></th>\n      <th></th>\n    </tr>\n  </thead>\n  <tbody>\n    <tr>\n      <th>Facebook</th>\n      <td>2</td>\n      <td>2</td>\n    </tr>\n    <tr>\n      <th>Google</th>\n      <td>2</td>\n      <td>2</td>\n    </tr>\n    <tr>\n      <th>Instagram</th>\n      <td>2</td>\n      <td>2</td>\n    </tr>\n  </tbody>\n</table>\n</div>"
     },
     "metadata": {},
     "execution_count": 62
    }
   ],
   "source": [
    "df.groupby('Empresa').count()"
   ]
  },
  {
   "cell_type": "code",
   "execution_count": 64,
   "metadata": {},
   "outputs": [
    {
     "output_type": "execute_result",
     "data": {
      "text/plain": [
       "           Nombre  Ingresos\n",
       "Empresa                    \n",
       "Facebook     Juan       250\n",
       "Google     Carlos       200\n",
       "Instagram   Laura       500"
      ],
      "text/html": "<div>\n<style scoped>\n    .dataframe tbody tr th:only-of-type {\n        vertical-align: middle;\n    }\n\n    .dataframe tbody tr th {\n        vertical-align: top;\n    }\n\n    .dataframe thead th {\n        text-align: right;\n    }\n</style>\n<table border=\"1\" class=\"dataframe\">\n  <thead>\n    <tr style=\"text-align: right;\">\n      <th></th>\n      <th>Nombre</th>\n      <th>Ingresos</th>\n    </tr>\n    <tr>\n      <th>Empresa</th>\n      <th></th>\n      <th></th>\n    </tr>\n  </thead>\n  <tbody>\n    <tr>\n      <th>Facebook</th>\n      <td>Juan</td>\n      <td>250</td>\n    </tr>\n    <tr>\n      <th>Google</th>\n      <td>Carlos</td>\n      <td>200</td>\n    </tr>\n    <tr>\n      <th>Instagram</th>\n      <td>Laura</td>\n      <td>500</td>\n    </tr>\n  </tbody>\n</table>\n</div>"
     },
     "metadata": {},
     "execution_count": 64
    }
   ],
   "source": [
    "df.groupby('Empresa').max()"
   ]
  },
  {
   "cell_type": "code",
   "execution_count": 65,
   "metadata": {},
   "outputs": [
    {
     "output_type": "execute_result",
     "data": {
      "text/plain": [
       "           Nombre  Ingresos\n",
       "Empresa                    \n",
       "Facebook    Cindy       125\n",
       "Google     Andres       120\n",
       "Instagram   Diego       120"
      ],
      "text/html": "<div>\n<style scoped>\n    .dataframe tbody tr th:only-of-type {\n        vertical-align: middle;\n    }\n\n    .dataframe tbody tr th {\n        vertical-align: top;\n    }\n\n    .dataframe thead th {\n        text-align: right;\n    }\n</style>\n<table border=\"1\" class=\"dataframe\">\n  <thead>\n    <tr style=\"text-align: right;\">\n      <th></th>\n      <th>Nombre</th>\n      <th>Ingresos</th>\n    </tr>\n    <tr>\n      <th>Empresa</th>\n      <th></th>\n      <th></th>\n    </tr>\n  </thead>\n  <tbody>\n    <tr>\n      <th>Facebook</th>\n      <td>Cindy</td>\n      <td>125</td>\n    </tr>\n    <tr>\n      <th>Google</th>\n      <td>Andres</td>\n      <td>120</td>\n    </tr>\n    <tr>\n      <th>Instagram</th>\n      <td>Diego</td>\n      <td>120</td>\n    </tr>\n  </tbody>\n</table>\n</div>"
     },
     "metadata": {},
     "execution_count": 65
    }
   ],
   "source": [
    "df.groupby('Empresa').min()"
   ]
  },
  {
   "cell_type": "code",
   "execution_count": null,
   "metadata": {},
   "outputs": [],
   "source": []
  }
 ]
}