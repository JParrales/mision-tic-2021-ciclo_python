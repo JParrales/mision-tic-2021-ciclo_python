{
 "metadata": {
  "language_info": {
   "codemirror_mode": {
    "name": "ipython",
    "version": 3
   },
   "file_extension": ".py",
   "mimetype": "text/x-python",
   "name": "python",
   "nbconvert_exporter": "python",
   "pygments_lexer": "ipython3",
   "version": "3.8.5"
  },
  "orig_nbformat": 4,
  "kernelspec": {
   "name": "python3",
   "display_name": "Python 3.8.5 64-bit"
  },
  "interpreter": {
   "hash": "31f2aee4e71d21fbe5cf8b01ff0e069b9275f58929596ceb00d14d90e3e16cd6"
  }
 },
 "nbformat": 4,
 "nbformat_minor": 2,
 "cells": [
  {
   "cell_type": "code",
   "execution_count": 1,
   "metadata": {},
   "outputs": [
    {
     "output_type": "execute_result",
     "data": {
      "text/plain": [
       "{'manzanas': [3, 2, 0, 1], 'naranjas': [0, 3, 7, 2]}"
      ]
     },
     "metadata": {},
     "execution_count": 1
    }
   ],
   "source": [
    "datos = {'manzanas': [3,2,0,1], 'naranjas': [0,3,7,2]}\n",
    "datos"
   ]
  },
  {
   "cell_type": "code",
   "execution_count": 3,
   "metadata": {},
   "outputs": [
    {
     "output_type": "execute_result",
     "data": {
      "text/plain": [
       "   manzanas  naranjas\n",
       "0         3         0\n",
       "1         2         3\n",
       "2         0         7\n",
       "3         1         2"
      ],
      "text/html": "<div>\n<style scoped>\n    .dataframe tbody tr th:only-of-type {\n        vertical-align: middle;\n    }\n\n    .dataframe tbody tr th {\n        vertical-align: top;\n    }\n\n    .dataframe thead th {\n        text-align: right;\n    }\n</style>\n<table border=\"1\" class=\"dataframe\">\n  <thead>\n    <tr style=\"text-align: right;\">\n      <th></th>\n      <th>manzanas</th>\n      <th>naranjas</th>\n    </tr>\n  </thead>\n  <tbody>\n    <tr>\n      <th>0</th>\n      <td>3</td>\n      <td>0</td>\n    </tr>\n    <tr>\n      <th>1</th>\n      <td>2</td>\n      <td>3</td>\n    </tr>\n    <tr>\n      <th>2</th>\n      <td>0</td>\n      <td>7</td>\n    </tr>\n    <tr>\n      <th>3</th>\n      <td>1</td>\n      <td>2</td>\n    </tr>\n  </tbody>\n</table>\n</div>"
     },
     "metadata": {},
     "execution_count": 3
    }
   ],
   "source": [
    "import pandas as pd\n",
    "compras = pd.DataFrame(datos)\n",
    "compras"
   ]
  },
  {
   "cell_type": "code",
   "execution_count": 5,
   "metadata": {},
   "outputs": [
    {
     "output_type": "execute_result",
     "data": {
      "text/plain": [
       "        manzanas  naranjas\n",
       "Juno           3         0\n",
       "Robert         2         3\n",
       "Lily           0         7\n",
       "David          1         2"
      ],
      "text/html": "<div>\n<style scoped>\n    .dataframe tbody tr th:only-of-type {\n        vertical-align: middle;\n    }\n\n    .dataframe tbody tr th {\n        vertical-align: top;\n    }\n\n    .dataframe thead th {\n        text-align: right;\n    }\n</style>\n<table border=\"1\" class=\"dataframe\">\n  <thead>\n    <tr style=\"text-align: right;\">\n      <th></th>\n      <th>manzanas</th>\n      <th>naranjas</th>\n    </tr>\n  </thead>\n  <tbody>\n    <tr>\n      <th>Juno</th>\n      <td>3</td>\n      <td>0</td>\n    </tr>\n    <tr>\n      <th>Robert</th>\n      <td>2</td>\n      <td>3</td>\n    </tr>\n    <tr>\n      <th>Lily</th>\n      <td>0</td>\n      <td>7</td>\n    </tr>\n    <tr>\n      <th>David</th>\n      <td>1</td>\n      <td>2</td>\n    </tr>\n  </tbody>\n</table>\n</div>"
     },
     "metadata": {},
     "execution_count": 5
    }
   ],
   "source": [
    "compras = pd.DataFrame(datos, index= ['Juno', 'Robert', 'Lily', 'David'])\n",
    "compras"
   ]
  },
  {
   "cell_type": "code",
   "execution_count": 6,
   "metadata": {},
   "outputs": [
    {
     "output_type": "execute_result",
     "data": {
      "text/plain": [
       "Index(['Juno', 'Robert', 'Lily', 'David'], dtype='object')"
      ]
     },
     "metadata": {},
     "execution_count": 6
    }
   ],
   "source": [
    "compras.index"
   ]
  },
  {
   "cell_type": "code",
   "execution_count": 7,
   "metadata": {},
   "outputs": [
    {
     "output_type": "execute_result",
     "data": {
      "text/plain": [
       "array([[3, 0],\n",
       "       [2, 3],\n",
       "       [0, 7],\n",
       "       [1, 2]])"
      ]
     },
     "metadata": {},
     "execution_count": 7
    }
   ],
   "source": [
    "compras.values"
   ]
  },
  {
   "cell_type": "code",
   "execution_count": 8,
   "metadata": {},
   "outputs": [
    {
     "output_type": "execute_result",
     "data": {
      "text/plain": [
       "Index(['manzanas', 'naranjas'], dtype='object')"
      ]
     },
     "metadata": {},
     "execution_count": 8
    }
   ],
   "source": [
    "compras.columns"
   ]
  },
  {
   "cell_type": "code",
   "execution_count": 9,
   "metadata": {},
   "outputs": [
    {
     "output_type": "execute_result",
     "data": {
      "text/plain": [
       "[Index(['Juno', 'Robert', 'Lily', 'David'], dtype='object'),\n",
       " Index(['manzanas', 'naranjas'], dtype='object')]"
      ]
     },
     "metadata": {},
     "execution_count": 9
    }
   ],
   "source": [
    "compras.axes"
   ]
  },
  {
   "cell_type": "code",
   "execution_count": 12,
   "metadata": {},
   "outputs": [
    {
     "output_type": "execute_result",
     "data": {
      "text/plain": [
       "Frutas    manzanas  naranjas\n",
       "Clientes                    \n",
       "Juno             3         0\n",
       "Robert           2         3\n",
       "Lily             0         7\n",
       "David            1         2"
      ],
      "text/html": "<div>\n<style scoped>\n    .dataframe tbody tr th:only-of-type {\n        vertical-align: middle;\n    }\n\n    .dataframe tbody tr th {\n        vertical-align: top;\n    }\n\n    .dataframe thead th {\n        text-align: right;\n    }\n</style>\n<table border=\"1\" class=\"dataframe\">\n  <thead>\n    <tr style=\"text-align: right;\">\n      <th>Frutas</th>\n      <th>manzanas</th>\n      <th>naranjas</th>\n    </tr>\n    <tr>\n      <th>Clientes</th>\n      <th></th>\n      <th></th>\n    </tr>\n  </thead>\n  <tbody>\n    <tr>\n      <th>Juno</th>\n      <td>3</td>\n      <td>0</td>\n    </tr>\n    <tr>\n      <th>Robert</th>\n      <td>2</td>\n      <td>3</td>\n    </tr>\n    <tr>\n      <th>Lily</th>\n      <td>0</td>\n      <td>7</td>\n    </tr>\n    <tr>\n      <th>David</th>\n      <td>1</td>\n      <td>2</td>\n    </tr>\n  </tbody>\n</table>\n</div>"
     },
     "metadata": {},
     "execution_count": 12
    }
   ],
   "source": [
    "compras.index.name = 'Clientes'\n",
    "compras.columns.name = 'Frutas'\n",
    "compras"
   ]
  },
  {
   "cell_type": "code",
   "execution_count": 13,
   "metadata": {},
   "outputs": [
    {
     "output_type": "execute_result",
     "data": {
      "text/plain": [
       "array([[3, 0],\n",
       "       [2, 3],\n",
       "       [0, 7],\n",
       "       [1, 2]])"
      ]
     },
     "metadata": {},
     "execution_count": 13
    }
   ],
   "source": [
    "compras.values"
   ]
  },
  {
   "cell_type": "code",
   "execution_count": 14,
   "metadata": {},
   "outputs": [
    {
     "output_type": "execute_result",
     "data": {
      "text/plain": [
       "(4, 2)"
      ]
     },
     "metadata": {},
     "execution_count": 14
    }
   ],
   "source": [
    "compras.shape"
   ]
  },
  {
   "cell_type": "code",
   "execution_count": 15,
   "metadata": {},
   "outputs": [
    {
     "output_type": "execute_result",
     "data": {
      "text/plain": [
       "' Creacion de dtaframes '"
      ]
     },
     "metadata": {},
     "execution_count": 15
    }
   ],
   "source": [
    "\"\"\" Creacion de dtaframes \"\"\""
   ]
  },
  {
   "cell_type": "code",
   "execution_count": 25,
   "metadata": {},
   "outputs": [
    {
     "output_type": "execute_result",
     "data": {
      "text/plain": [
       "{'Numero atómico': [1, 6, 4, 88],\n",
       " 'Masa atómica': [1.008, 12.011, 107.87, 226],\n",
       " 'Familia': ['No metales', 'No Metales', 'Metal', 'Metal']}"
      ]
     },
     "metadata": {},
     "execution_count": 25
    }
   ],
   "source": [
    "elementos = {\n",
    "    \"Numero atómico\": [1,6,4,88],\n",
    "    \"Masa atómica\": [1.008, 12.011, 107.87, 226],\n",
    "    \"Familia\": [\"No metales\", \"No Metales\", \"Metal\", \"Metal\"]\n",
    "}\n",
    "\n",
    "elementos"
   ]
  },
  {
   "cell_type": "code",
   "execution_count": 26,
   "metadata": {},
   "outputs": [
    {
     "output_type": "execute_result",
     "data": {
      "text/plain": [
       "   Numero atómico  Masa atómica     Familia\n",
       "0               1         1.008  No metales\n",
       "1               6        12.011  No Metales\n",
       "2               4       107.870       Metal\n",
       "3              88       226.000       Metal"
      ],
      "text/html": "<div>\n<style scoped>\n    .dataframe tbody tr th:only-of-type {\n        vertical-align: middle;\n    }\n\n    .dataframe tbody tr th {\n        vertical-align: top;\n    }\n\n    .dataframe thead th {\n        text-align: right;\n    }\n</style>\n<table border=\"1\" class=\"dataframe\">\n  <thead>\n    <tr style=\"text-align: right;\">\n      <th></th>\n      <th>Numero atómico</th>\n      <th>Masa atómica</th>\n      <th>Familia</th>\n    </tr>\n  </thead>\n  <tbody>\n    <tr>\n      <th>0</th>\n      <td>1</td>\n      <td>1.008</td>\n      <td>No metales</td>\n    </tr>\n    <tr>\n      <th>1</th>\n      <td>6</td>\n      <td>12.011</td>\n      <td>No Metales</td>\n    </tr>\n    <tr>\n      <th>2</th>\n      <td>4</td>\n      <td>107.870</td>\n      <td>Metal</td>\n    </tr>\n    <tr>\n      <th>3</th>\n      <td>88</td>\n      <td>226.000</td>\n      <td>Metal</td>\n    </tr>\n  </tbody>\n</table>\n</div>"
     },
     "metadata": {},
     "execution_count": 26
    }
   ],
   "source": [
    "tabla = pd.DataFrame(elementos)\n",
    "tabla"
   ]
  },
  {
   "cell_type": "code",
   "execution_count": 30,
   "metadata": {},
   "outputs": [
    {
     "output_type": "execute_result",
     "data": {
      "text/plain": [
       "       Familia  Numero atómico  Masa atómica\n",
       "H   No metales               1         1.008\n",
       "C   No Metales               6        12.011\n",
       "Ag       Metal               4       107.870\n",
       "Ra       Metal              88       226.000"
      ],
      "text/html": "<div>\n<style scoped>\n    .dataframe tbody tr th:only-of-type {\n        vertical-align: middle;\n    }\n\n    .dataframe tbody tr th {\n        vertical-align: top;\n    }\n\n    .dataframe thead th {\n        text-align: right;\n    }\n</style>\n<table border=\"1\" class=\"dataframe\">\n  <thead>\n    <tr style=\"text-align: right;\">\n      <th></th>\n      <th>Familia</th>\n      <th>Numero atómico</th>\n      <th>Masa atómica</th>\n    </tr>\n  </thead>\n  <tbody>\n    <tr>\n      <th>H</th>\n      <td>No metales</td>\n      <td>1</td>\n      <td>1.008</td>\n    </tr>\n    <tr>\n      <th>C</th>\n      <td>No Metales</td>\n      <td>6</td>\n      <td>12.011</td>\n    </tr>\n    <tr>\n      <th>Ag</th>\n      <td>Metal</td>\n      <td>4</td>\n      <td>107.870</td>\n    </tr>\n    <tr>\n      <th>Ra</th>\n      <td>Metal</td>\n      <td>88</td>\n      <td>226.000</td>\n    </tr>\n  </tbody>\n</table>\n</div>"
     },
     "metadata": {},
     "execution_count": 30
    }
   ],
   "source": [
    "tabla = pd.DataFrame(elementos,index = [\"H\", \"C\", \"Ag\", \"Ra\"],\n",
    "columns = [\"Familia\", \"Numero atómico\", \"Masa atómica\"])\n",
    "tabla"
   ]
  },
  {
   "cell_type": "code",
   "execution_count": 22,
   "metadata": {},
   "outputs": [
    {
     "output_type": "execute_result",
     "data": {
      "text/plain": [
       "array([[2, 5, 3, 2],\n",
       "       [4, 6, 7, 2],\n",
       "       [3, 2, 4, 1]])"
      ]
     },
     "metadata": {},
     "execution_count": 22
    }
   ],
   "source": [
    "import numpy as np\n",
    "\n",
    "unidades_datos = np.array([[2,5,3,2], [4,6,7,2], [3,2,4,1]])\n",
    "unidades_datos"
   ]
  },
  {
   "cell_type": "code",
   "execution_count": 23,
   "metadata": {},
   "outputs": [
    {
     "output_type": "execute_result",
     "data": {
      "text/plain": [
       "   0  1  2  3\n",
       "0  2  5  3  2\n",
       "1  4  6  7  2\n",
       "2  3  2  4  1"
      ],
      "text/html": "<div>\n<style scoped>\n    .dataframe tbody tr th:only-of-type {\n        vertical-align: middle;\n    }\n\n    .dataframe tbody tr th {\n        vertical-align: top;\n    }\n\n    .dataframe thead th {\n        text-align: right;\n    }\n</style>\n<table border=\"1\" class=\"dataframe\">\n  <thead>\n    <tr style=\"text-align: right;\">\n      <th></th>\n      <th>0</th>\n      <th>1</th>\n      <th>2</th>\n      <th>3</th>\n    </tr>\n  </thead>\n  <tbody>\n    <tr>\n      <th>0</th>\n      <td>2</td>\n      <td>5</td>\n      <td>3</td>\n      <td>2</td>\n    </tr>\n    <tr>\n      <th>1</th>\n      <td>4</td>\n      <td>6</td>\n      <td>7</td>\n      <td>2</td>\n    </tr>\n    <tr>\n      <th>2</th>\n      <td>3</td>\n      <td>2</td>\n      <td>4</td>\n      <td>1</td>\n    </tr>\n  </tbody>\n</table>\n</div>"
     },
     "metadata": {},
     "execution_count": 23
    }
   ],
   "source": [
    "unidades = pd.DataFrame(unidades_datos)\n",
    "unidades"
   ]
  },
  {
   "cell_type": "code",
   "execution_count": 31,
   "metadata": {},
   "outputs": [
    {
     "output_type": "execute_result",
     "data": {
      "text/plain": [
       "      Ag  Au  Cu  Pt\n",
       "2015   2   5   3   2\n",
       "2016   4   6   7   2\n",
       "2017   3   2   4   1"
      ],
      "text/html": "<div>\n<style scoped>\n    .dataframe tbody tr th:only-of-type {\n        vertical-align: middle;\n    }\n\n    .dataframe tbody tr th {\n        vertical-align: top;\n    }\n\n    .dataframe thead th {\n        text-align: right;\n    }\n</style>\n<table border=\"1\" class=\"dataframe\">\n  <thead>\n    <tr style=\"text-align: right;\">\n      <th></th>\n      <th>Ag</th>\n      <th>Au</th>\n      <th>Cu</th>\n      <th>Pt</th>\n    </tr>\n  </thead>\n  <tbody>\n    <tr>\n      <th>2015</th>\n      <td>2</td>\n      <td>5</td>\n      <td>3</td>\n      <td>2</td>\n    </tr>\n    <tr>\n      <th>2016</th>\n      <td>4</td>\n      <td>6</td>\n      <td>7</td>\n      <td>2</td>\n    </tr>\n    <tr>\n      <th>2017</th>\n      <td>3</td>\n      <td>2</td>\n      <td>4</td>\n      <td>1</td>\n    </tr>\n  </tbody>\n</table>\n</div>"
     },
     "metadata": {},
     "execution_count": 31
    }
   ],
   "source": [
    "unidades = pd.DataFrame(unidades_datos, index= [2015, 2016, 2017],\n",
    "columns = [\"Ag\", \"Au\", \"Cu\", \"Pt\"])\n",
    "unidades"
   ]
  },
  {
   "cell_type": "code",
   "execution_count": 32,
   "metadata": {},
   "outputs": [],
   "source": [
    "u_2015 = {\"Ag\":2,  \"Au\":5, \"Cu\": 3, \"Pt\":2}\n",
    "u_2016 = {\"Ag\":4,  \"Au\":6, \"Cu\": 7, \"Pt\":2}\n",
    "u_2017 = {\"Ag\":3,  \"Au\":2, \"Cu\": 4, \"Pt\":1}"
   ]
  },
  {
   "cell_type": "code",
   "execution_count": 34,
   "metadata": {},
   "outputs": [
    {
     "output_type": "execute_result",
     "data": {
      "text/plain": [
       "      Ag  Au  Cu  Pt\n",
       "2015   2   5   3   2\n",
       "2016   4   6   7   2\n",
       "2017   3   2   4   1"
      ],
      "text/html": "<div>\n<style scoped>\n    .dataframe tbody tr th:only-of-type {\n        vertical-align: middle;\n    }\n\n    .dataframe tbody tr th {\n        vertical-align: top;\n    }\n\n    .dataframe thead th {\n        text-align: right;\n    }\n</style>\n<table border=\"1\" class=\"dataframe\">\n  <thead>\n    <tr style=\"text-align: right;\">\n      <th></th>\n      <th>Ag</th>\n      <th>Au</th>\n      <th>Cu</th>\n      <th>Pt</th>\n    </tr>\n  </thead>\n  <tbody>\n    <tr>\n      <th>2015</th>\n      <td>2</td>\n      <td>5</td>\n      <td>3</td>\n      <td>2</td>\n    </tr>\n    <tr>\n      <th>2016</th>\n      <td>4</td>\n      <td>6</td>\n      <td>7</td>\n      <td>2</td>\n    </tr>\n    <tr>\n      <th>2017</th>\n      <td>3</td>\n      <td>2</td>\n      <td>4</td>\n      <td>1</td>\n    </tr>\n  </tbody>\n</table>\n</div>"
     },
     "metadata": {},
     "execution_count": 34
    }
   ],
   "source": [
    "unidades = pd.DataFrame([u_2015, u_2016, u_2017], index= [2015,2016,2017])\n",
    "unidades"
   ]
  },
  {
   "cell_type": "code",
   "execution_count": 36,
   "metadata": {},
   "outputs": [
    {
     "output_type": "execute_result",
     "data": {
      "text/plain": [
       "ene    11\n",
       "feb    18\n",
       "mar    12\n",
       "abr    16\n",
       "may     9\n",
       "jun    16\n",
       "jul    22\n",
       "ago    28\n",
       "sep    31\n",
       "oct    29\n",
       "nov    30\n",
       "dic    12\n",
       "dtype: int64"
      ]
     },
     "metadata": {},
     "execution_count": 36
    }
   ],
   "source": [
    "#metodos\n",
    "entrada = pd.Series([11, 18,12,16, 9 ,16,22,28,31,29,30,12],\n",
    "index = [\"ene\", \"feb\", \"mar\", \"abr\", \"may\", \"jun\", \"jul\", \"ago\", \"sep\", \"oct\", \"nov\", \"dic\"])\n",
    "\n",
    "entrada"
   ]
  },
  {
   "cell_type": "code",
   "execution_count": 38,
   "metadata": {},
   "outputs": [
    {
     "output_type": "execute_result",
     "data": {
      "text/plain": [
       "ene    11\n",
       "feb    18\n",
       "mar    12\n",
       "abr    16\n",
       "may     9\n",
       "jun    16\n",
       "jul    22\n",
       "ago    28\n",
       "sep    31\n",
       "oct    29\n",
       "dtype: int64"
      ]
     },
     "metadata": {},
     "execution_count": 38
    }
   ],
   "source": [
    "entrada.head(10)"
   ]
  },
  {
   "cell_type": "code",
   "execution_count": 40,
   "metadata": {},
   "outputs": [
    {
     "output_type": "execute_result",
     "data": {
      "text/plain": [
       "jun    16\n",
       "jul    22\n",
       "ago    28\n",
       "sep    31\n",
       "oct    29\n",
       "nov    30\n",
       "dic    12\n",
       "dtype: int64"
      ]
     },
     "metadata": {},
     "execution_count": 40
    }
   ],
   "source": [
    "entrada.tail(7)"
   ]
  },
  {
   "cell_type": "code",
   "execution_count": 45,
   "metadata": {},
   "outputs": [
    {
     "output_type": "execute_result",
     "data": {
      "text/plain": [
       "mar    12\n",
       "may     9\n",
       "feb    18\n",
       "ene    11\n",
       "oct    29\n",
       "sep    31\n",
       "dtype: int64"
      ]
     },
     "metadata": {},
     "execution_count": 45
    }
   ],
   "source": [
    "entrada.sample(6)"
   ]
  },
  {
   "cell_type": "code",
   "execution_count": 47,
   "metadata": {},
   "outputs": [
    {
     "output_type": "execute_result",
     "data": {
      "text/plain": [
       "ene     9\n",
       "feb    26\n",
       "mar    18\n",
       "abr    15\n",
       "may     6\n",
       "jun    22\n",
       "jul    19\n",
       "ago    25\n",
       "sep    34\n",
       "oct    22\n",
       "nov    21\n",
       "dic    14\n",
       "dtype: int64"
      ]
     },
     "metadata": {},
     "execution_count": 47
    }
   ],
   "source": [
    "salida = pd.Series([9, 26, 18, 15, 6, 22, 19, 25, 34, 22, 21, 14],\n",
    "index = [\"ene\", \"feb\", \"mar\", \"abr\", \"may\", \"jun\", \"jul\", \"ago\", \"sep\", \"oct\", \"nov\", \"dic\"])\n",
    "salida"
   ]
  },
  {
   "cell_type": "code",
   "execution_count": 50,
   "metadata": {},
   "outputs": [
    {
     "output_type": "execute_result",
     "data": {
      "text/plain": [
       "     entradas  salidas\n",
       "ene        11        9\n",
       "feb        18       26\n",
       "mar        12       18\n",
       "abr        16       15\n",
       "may         9        6\n",
       "jun        16       22\n",
       "jul        22       19\n",
       "ago        28       25\n",
       "sep        31       34\n",
       "oct        29       22\n",
       "nov        30       21\n",
       "dic        12       14"
      ],
      "text/html": "<div>\n<style scoped>\n    .dataframe tbody tr th:only-of-type {\n        vertical-align: middle;\n    }\n\n    .dataframe tbody tr th {\n        vertical-align: top;\n    }\n\n    .dataframe thead th {\n        text-align: right;\n    }\n</style>\n<table border=\"1\" class=\"dataframe\">\n  <thead>\n    <tr style=\"text-align: right;\">\n      <th></th>\n      <th>entradas</th>\n      <th>salidas</th>\n    </tr>\n  </thead>\n  <tbody>\n    <tr>\n      <th>ene</th>\n      <td>11</td>\n      <td>9</td>\n    </tr>\n    <tr>\n      <th>feb</th>\n      <td>18</td>\n      <td>26</td>\n    </tr>\n    <tr>\n      <th>mar</th>\n      <td>12</td>\n      <td>18</td>\n    </tr>\n    <tr>\n      <th>abr</th>\n      <td>16</td>\n      <td>15</td>\n    </tr>\n    <tr>\n      <th>may</th>\n      <td>9</td>\n      <td>6</td>\n    </tr>\n    <tr>\n      <th>jun</th>\n      <td>16</td>\n      <td>22</td>\n    </tr>\n    <tr>\n      <th>jul</th>\n      <td>22</td>\n      <td>19</td>\n    </tr>\n    <tr>\n      <th>ago</th>\n      <td>28</td>\n      <td>25</td>\n    </tr>\n    <tr>\n      <th>sep</th>\n      <td>31</td>\n      <td>34</td>\n    </tr>\n    <tr>\n      <th>oct</th>\n      <td>29</td>\n      <td>22</td>\n    </tr>\n    <tr>\n      <th>nov</th>\n      <td>30</td>\n      <td>21</td>\n    </tr>\n    <tr>\n      <th>dic</th>\n      <td>12</td>\n      <td>14</td>\n    </tr>\n  </tbody>\n</table>\n</div>"
     },
     "metadata": {},
     "execution_count": 50
    }
   ],
   "source": [
    "almacen = pd.DataFrame({\"entradas\": entrada, \"salidas\": salida})\n",
    "almacen"
   ]
  },
  {
   "cell_type": "code",
   "execution_count": 53,
   "metadata": {},
   "outputs": [
    {
     "output_type": "execute_result",
     "data": {
      "text/plain": [
       "     entradas  salidas  neto\n",
       "ene        11        9     2\n",
       "feb        18       26    -8\n",
       "mar        12       18    -6\n",
       "abr        16       15     1\n",
       "may         9        6     3\n",
       "jun        16       22    -6\n",
       "jul        22       19     3\n",
       "ago        28       25     3\n",
       "sep        31       34    -3\n",
       "oct        29       22     7\n",
       "nov        30       21     9\n",
       "dic        12       14    -2"
      ],
      "text/html": "<div>\n<style scoped>\n    .dataframe tbody tr th:only-of-type {\n        vertical-align: middle;\n    }\n\n    .dataframe tbody tr th {\n        vertical-align: top;\n    }\n\n    .dataframe thead th {\n        text-align: right;\n    }\n</style>\n<table border=\"1\" class=\"dataframe\">\n  <thead>\n    <tr style=\"text-align: right;\">\n      <th></th>\n      <th>entradas</th>\n      <th>salidas</th>\n      <th>neto</th>\n    </tr>\n  </thead>\n  <tbody>\n    <tr>\n      <th>ene</th>\n      <td>11</td>\n      <td>9</td>\n      <td>2</td>\n    </tr>\n    <tr>\n      <th>feb</th>\n      <td>18</td>\n      <td>26</td>\n      <td>-8</td>\n    </tr>\n    <tr>\n      <th>mar</th>\n      <td>12</td>\n      <td>18</td>\n      <td>-6</td>\n    </tr>\n    <tr>\n      <th>abr</th>\n      <td>16</td>\n      <td>15</td>\n      <td>1</td>\n    </tr>\n    <tr>\n      <th>may</th>\n      <td>9</td>\n      <td>6</td>\n      <td>3</td>\n    </tr>\n    <tr>\n      <th>jun</th>\n      <td>16</td>\n      <td>22</td>\n      <td>-6</td>\n    </tr>\n    <tr>\n      <th>jul</th>\n      <td>22</td>\n      <td>19</td>\n      <td>3</td>\n    </tr>\n    <tr>\n      <th>ago</th>\n      <td>28</td>\n      <td>25</td>\n      <td>3</td>\n    </tr>\n    <tr>\n      <th>sep</th>\n      <td>31</td>\n      <td>34</td>\n      <td>-3</td>\n    </tr>\n    <tr>\n      <th>oct</th>\n      <td>29</td>\n      <td>22</td>\n      <td>7</td>\n    </tr>\n    <tr>\n      <th>nov</th>\n      <td>30</td>\n      <td>21</td>\n      <td>9</td>\n    </tr>\n    <tr>\n      <th>dic</th>\n      <td>12</td>\n      <td>14</td>\n      <td>-2</td>\n    </tr>\n  </tbody>\n</table>\n</div>"
     },
     "metadata": {},
     "execution_count": 53
    }
   ],
   "source": [
    "almacen[\"neto\"] = almacen.entradas - almacen.salidas\n",
    "almacen"
   ]
  },
  {
   "cell_type": "code",
   "execution_count": 54,
   "metadata": {},
   "outputs": [
    {
     "output_type": "execute_result",
     "data": {
      "text/plain": [
       "       entradas    salidas       neto\n",
       "count  12.00000  12.000000  12.000000\n",
       "mean   19.50000  19.250000   0.250000\n",
       "std     8.16311   7.641097   5.310795\n",
       "min     9.00000   6.000000  -8.000000\n",
       "25%    12.00000  14.750000  -3.750000\n",
       "50%    17.00000  20.000000   1.500000\n",
       "75%    28.25000  22.750000   3.000000\n",
       "max    31.00000  34.000000   9.000000"
      ],
      "text/html": "<div>\n<style scoped>\n    .dataframe tbody tr th:only-of-type {\n        vertical-align: middle;\n    }\n\n    .dataframe tbody tr th {\n        vertical-align: top;\n    }\n\n    .dataframe thead th {\n        text-align: right;\n    }\n</style>\n<table border=\"1\" class=\"dataframe\">\n  <thead>\n    <tr style=\"text-align: right;\">\n      <th></th>\n      <th>entradas</th>\n      <th>salidas</th>\n      <th>neto</th>\n    </tr>\n  </thead>\n  <tbody>\n    <tr>\n      <th>count</th>\n      <td>12.00000</td>\n      <td>12.000000</td>\n      <td>12.000000</td>\n    </tr>\n    <tr>\n      <th>mean</th>\n      <td>19.50000</td>\n      <td>19.250000</td>\n      <td>0.250000</td>\n    </tr>\n    <tr>\n      <th>std</th>\n      <td>8.16311</td>\n      <td>7.641097</td>\n      <td>5.310795</td>\n    </tr>\n    <tr>\n      <th>min</th>\n      <td>9.00000</td>\n      <td>6.000000</td>\n      <td>-8.000000</td>\n    </tr>\n    <tr>\n      <th>25%</th>\n      <td>12.00000</td>\n      <td>14.750000</td>\n      <td>-3.750000</td>\n    </tr>\n    <tr>\n      <th>50%</th>\n      <td>17.00000</td>\n      <td>20.000000</td>\n      <td>1.500000</td>\n    </tr>\n    <tr>\n      <th>75%</th>\n      <td>28.25000</td>\n      <td>22.750000</td>\n      <td>3.000000</td>\n    </tr>\n    <tr>\n      <th>max</th>\n      <td>31.00000</td>\n      <td>34.000000</td>\n      <td>9.000000</td>\n    </tr>\n  </tbody>\n</table>\n</div>"
     },
     "metadata": {},
     "execution_count": 54
    }
   ],
   "source": [
    "almacen.describe()"
   ]
  },
  {
   "cell_type": "code",
   "execution_count": 55,
   "metadata": {},
   "outputs": [
    {
     "output_type": "stream",
     "name": "stdout",
     "text": [
      "<class 'pandas.core.frame.DataFrame'>\nIndex: 12 entries, ene to dic\nData columns (total 3 columns):\n #   Column    Non-Null Count  Dtype\n---  ------    --------------  -----\n 0   entradas  12 non-null     int64\n 1   salidas   12 non-null     int64\n 2   neto      12 non-null     int64\ndtypes: int64(3)\nmemory usage: 684.0+ bytes\n"
     ]
    }
   ],
   "source": [
    "almacen.info()"
   ]
  },
  {
   "cell_type": "code",
   "execution_count": 57,
   "metadata": {},
   "outputs": [
    {
     "output_type": "execute_result",
     "data": {
      "text/plain": [
       "0    3.0\n",
       "1    1.0\n",
       "2    2.0\n",
       "3    1.0\n",
       "4    1.0\n",
       "5    4.0\n",
       "6    1.0\n",
       "7    2.0\n",
       "8    NaN\n",
       "dtype: float64"
      ]
     },
     "metadata": {},
     "execution_count": 57
    }
   ],
   "source": [
    "serie = pd.Series([3,1,2,1,1,4,1,2, np.nan])\n",
    "serie"
   ]
  },
  {
   "cell_type": "code",
   "execution_count": 59,
   "metadata": {},
   "outputs": [
    {
     "output_type": "execute_result",
     "data": {
      "text/plain": [
       "1.0    4\n",
       "2.0    2\n",
       "3.0    1\n",
       "4.0    1\n",
       "NaN    1\n",
       "dtype: int64"
      ]
     },
     "metadata": {},
     "execution_count": 59
    }
   ],
   "source": [
    "serie.value_counts(dropna = False)"
   ]
  },
  {
   "cell_type": "code",
   "execution_count": 62,
   "metadata": {},
   "outputs": [
    {
     "output_type": "execute_result",
     "data": {
      "text/plain": [
       "(0.996, 1.6]    4\n",
       "(1.6, 2.2]      2\n",
       "(2.8, 3.4]      1\n",
       "(3.4, 4.0]      1\n",
       "(2.2, 2.8]      0\n",
       "dtype: int64"
      ]
     },
     "metadata": {},
     "execution_count": 62
    }
   ],
   "source": [
    "serie.value_counts(bins=5)"
   ]
  },
  {
   "cell_type": "code",
   "execution_count": null,
   "metadata": {},
   "outputs": [],
   "source": []
  }
 ]
}