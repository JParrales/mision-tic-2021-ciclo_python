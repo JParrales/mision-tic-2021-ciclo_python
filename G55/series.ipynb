{
 "metadata": {
  "language_info": {
   "codemirror_mode": {
    "name": "ipython",
    "version": 3
   },
   "file_extension": ".py",
   "mimetype": "text/x-python",
   "name": "python",
   "nbconvert_exporter": "python",
   "pygments_lexer": "ipython3",
   "version": "3.8.5"
  },
  "orig_nbformat": 4,
  "kernelspec": {
   "name": "python3",
   "display_name": "Python 3.8.5 64-bit"
  },
  "interpreter": {
   "hash": "31f2aee4e71d21fbe5cf8b01ff0e069b9275f58929596ceb00d14d90e3e16cd6"
  }
 },
 "nbformat": 4,
 "nbformat_minor": 2,
 "cells": [
  {
   "cell_type": "code",
   "execution_count": 113,
   "metadata": {},
   "outputs": [],
   "source": [
    "import numpy as np\n",
    "import pandas as pd"
   ]
  },
  {
   "cell_type": "code",
   "execution_count": 115,
   "metadata": {},
   "outputs": [
    {
     "output_type": "execute_result",
     "data": {
      "text/plain": [
       "['a', 'b', 'c']"
      ]
     },
     "metadata": {},
     "execution_count": 115
    }
   ],
   "source": [
    "letras = list('abc')\n",
    "letras"
   ]
  },
  {
   "cell_type": "code",
   "execution_count": 117,
   "metadata": {},
   "outputs": [
    {
     "output_type": "execute_result",
     "data": {
      "text/plain": [
       "[10, 20, 30]"
      ]
     },
     "metadata": {},
     "execution_count": 117
    }
   ],
   "source": [
    "numeros = list(range(10, 40, 10))\n",
    "numeros"
   ]
  },
  {
   "cell_type": "code",
   "execution_count": 119,
   "metadata": {},
   "outputs": [
    {
     "output_type": "stream",
     "name": "stdout",
     "text": [
      "[10 20 30]\n"
     ]
    }
   ],
   "source": [
    "arr = np.array(numeros)\n",
    "print(arr)"
   ]
  },
  {
   "cell_type": "code",
   "execution_count": 121,
   "metadata": {},
   "outputs": [
    {
     "output_type": "execute_result",
     "data": {
      "text/plain": [
       "{'a': 10, 'b': 20, 'c': 30}"
      ]
     },
     "metadata": {},
     "execution_count": 121
    }
   ],
   "source": [
    "dicc = dict(zip(letras, numeros))\n",
    "dicc"
   ]
  },
  {
   "cell_type": "code",
   "execution_count": 123,
   "metadata": {},
   "outputs": [
    {
     "output_type": "execute_result",
     "data": {
      "text/plain": [
       "0    10\n",
       "1    20\n",
       "2    30\n",
       "dtype: int64"
      ]
     },
     "metadata": {},
     "execution_count": 123
    }
   ],
   "source": [
    "pd.Series(numeros)"
   ]
  },
  {
   "cell_type": "code",
   "execution_count": 125,
   "metadata": {},
   "outputs": [
    {
     "output_type": "execute_result",
     "data": {
      "text/plain": [
       "a    10\n",
       "b    20\n",
       "c    30\n",
       "dtype: int64"
      ]
     },
     "metadata": {},
     "execution_count": 125
    }
   ],
   "source": [
    "pd.Series(numeros, index=letras)"
   ]
  },
  {
   "cell_type": "code",
   "execution_count": 127,
   "metadata": {},
   "outputs": [
    {
     "output_type": "stream",
     "name": "stdout",
     "text": [
      "10\n10\n"
     ]
    }
   ],
   "source": [
    "series = pd.Series(numeros, index=letras)\n",
    "print(series[0])\n",
    "print(series['a'])"
   ]
  },
  {
   "cell_type": "code",
   "execution_count": 129,
   "metadata": {},
   "outputs": [
    {
     "output_type": "execute_result",
     "data": {
      "text/plain": [
       "a    10\n",
       "b    20\n",
       "c    30\n",
       "dtype: int64"
      ]
     },
     "metadata": {},
     "execution_count": 129
    }
   ],
   "source": [
    "pd.Series(dicc)"
   ]
  },
  {
   "cell_type": "code",
   "execution_count": 131,
   "metadata": {},
   "outputs": [
    {
     "output_type": "execute_result",
     "data": {
      "text/plain": [
       "0      <built-in function sum>\n",
       "1    <built-in function print>\n",
       "2      <built-in function len>\n",
       "dtype: object"
      ]
     },
     "metadata": {},
     "execution_count": 131
    }
   ],
   "source": [
    "pd.Series([sum, print, len])"
   ]
  },
  {
   "cell_type": "code",
   "execution_count": 133,
   "metadata": {},
   "outputs": [],
   "source": [
    "#DataFrame\n",
    "filas = list('XYZ')\n",
    "columnas = list('ABCDE')"
   ]
  },
  {
   "cell_type": "code",
   "execution_count": 135,
   "metadata": {},
   "outputs": [
    {
     "output_type": "execute_result",
     "data": {
      "text/plain": [
       "array([[-0.8 ,  0.86, -1.03,  0.94, -1.75],\n",
       "       [ 0.5 , -1.27, -0.16, -0.15, -0.33],\n",
       "       [ 1.04,  1.35, -1.03,  1.81, -0.38]])"
      ]
     },
     "metadata": {},
     "execution_count": 135
    }
   ],
   "source": [
    "data = np.round(np.random.randn(3,5),2)\n",
    "data"
   ]
  },
  {
   "cell_type": "code",
   "execution_count": 137,
   "metadata": {},
   "outputs": [
    {
     "output_type": "execute_result",
     "data": {
      "text/plain": [
       "      A     B     C     D     E\n",
       "X -0.80  0.86 -1.03  0.94 -1.75\n",
       "Y  0.50 -1.27 -0.16 -0.15 -0.33\n",
       "Z  1.04  1.35 -1.03  1.81 -0.38"
      ],
      "text/html": "<div>\n<style scoped>\n    .dataframe tbody tr th:only-of-type {\n        vertical-align: middle;\n    }\n\n    .dataframe tbody tr th {\n        vertical-align: top;\n    }\n\n    .dataframe thead th {\n        text-align: right;\n    }\n</style>\n<table border=\"1\" class=\"dataframe\">\n  <thead>\n    <tr style=\"text-align: right;\">\n      <th></th>\n      <th>A</th>\n      <th>B</th>\n      <th>C</th>\n      <th>D</th>\n      <th>E</th>\n    </tr>\n  </thead>\n  <tbody>\n    <tr>\n      <th>X</th>\n      <td>-0.80</td>\n      <td>0.86</td>\n      <td>-1.03</td>\n      <td>0.94</td>\n      <td>-1.75</td>\n    </tr>\n    <tr>\n      <th>Y</th>\n      <td>0.50</td>\n      <td>-1.27</td>\n      <td>-0.16</td>\n      <td>-0.15</td>\n      <td>-0.33</td>\n    </tr>\n    <tr>\n      <th>Z</th>\n      <td>1.04</td>\n      <td>1.35</td>\n      <td>-1.03</td>\n      <td>1.81</td>\n      <td>-0.38</td>\n    </tr>\n  </tbody>\n</table>\n</div>"
     },
     "metadata": {},
     "execution_count": 137
    }
   ],
   "source": [
    "df = pd.DataFrame(data, filas, columnas)\n",
    "df"
   ]
  },
  {
   "cell_type": "code",
   "execution_count": 139,
   "metadata": {},
   "outputs": [
    {
     "output_type": "execute_result",
     "data": {
      "text/plain": [
       "X   -0.80\n",
       "Y    0.50\n",
       "Z    1.04\n",
       "Name: A, dtype: float64"
      ]
     },
     "metadata": {},
     "execution_count": 139
    }
   ],
   "source": [
    "df['A']"
   ]
  },
  {
   "cell_type": "code",
   "execution_count": null,
   "metadata": {},
   "outputs": [],
   "source": [
    "df['E']"
   ]
  },
  {
   "cell_type": "code",
   "execution_count": 126,
   "metadata": {},
   "outputs": [
    {
     "output_type": "execute_result",
     "data": {
      "text/plain": [
       "      A     E\n",
       "X  0.04 -0.58\n",
       "Y  0.29 -0.36\n",
       "Z -1.62 -0.66"
      ],
      "text/html": "<div>\n<style scoped>\n    .dataframe tbody tr th:only-of-type {\n        vertical-align: middle;\n    }\n\n    .dataframe tbody tr th {\n        vertical-align: top;\n    }\n\n    .dataframe thead th {\n        text-align: right;\n    }\n</style>\n<table border=\"1\" class=\"dataframe\">\n  <thead>\n    <tr style=\"text-align: right;\">\n      <th></th>\n      <th>A</th>\n      <th>E</th>\n    </tr>\n  </thead>\n  <tbody>\n    <tr>\n      <th>X</th>\n      <td>0.04</td>\n      <td>-0.58</td>\n    </tr>\n    <tr>\n      <th>Y</th>\n      <td>0.29</td>\n      <td>-0.36</td>\n    </tr>\n    <tr>\n      <th>Z</th>\n      <td>-1.62</td>\n      <td>-0.66</td>\n    </tr>\n  </tbody>\n</table>\n</div>"
     },
     "metadata": {},
     "execution_count": 126
    }
   ],
   "source": [
    "df[['A', 'E']]"
   ]
  },
  {
   "cell_type": "code",
   "execution_count": 128,
   "metadata": {},
   "outputs": [
    {
     "output_type": "execute_result",
     "data": {
      "text/plain": [
       "0.04"
      ]
     },
     "metadata": {},
     "execution_count": 128
    }
   ],
   "source": [
    "df['A']['X']"
   ]
  },
  {
   "cell_type": "code",
   "execution_count": 130,
   "metadata": {},
   "outputs": [
    {
     "output_type": "execute_result",
     "data": {
      "text/plain": [
       "-0.66"
      ]
     },
     "metadata": {},
     "execution_count": 130
    }
   ],
   "source": [
    "df['E']['Z']"
   ]
  },
  {
   "cell_type": "code",
   "execution_count": 132,
   "metadata": {},
   "outputs": [
    {
     "output_type": "execute_result",
     "data": {
      "text/plain": [
       "      A     B     C     D     E\n",
       "X  0.04 -0.02  2.03 -0.43 -0.58\n",
       "Y  0.29  0.99  0.69  0.42 -0.36\n",
       "Z -1.62  0.06  1.81  1.25 -0.66"
      ],
      "text/html": "<div>\n<style scoped>\n    .dataframe tbody tr th:only-of-type {\n        vertical-align: middle;\n    }\n\n    .dataframe tbody tr th {\n        vertical-align: top;\n    }\n\n    .dataframe thead th {\n        text-align: right;\n    }\n</style>\n<table border=\"1\" class=\"dataframe\">\n  <thead>\n    <tr style=\"text-align: right;\">\n      <th></th>\n      <th>A</th>\n      <th>B</th>\n      <th>C</th>\n      <th>D</th>\n      <th>E</th>\n    </tr>\n  </thead>\n  <tbody>\n    <tr>\n      <th>X</th>\n      <td>0.04</td>\n      <td>-0.02</td>\n      <td>2.03</td>\n      <td>-0.43</td>\n      <td>-0.58</td>\n    </tr>\n    <tr>\n      <th>Y</th>\n      <td>0.29</td>\n      <td>0.99</td>\n      <td>0.69</td>\n      <td>0.42</td>\n      <td>-0.36</td>\n    </tr>\n    <tr>\n      <th>Z</th>\n      <td>-1.62</td>\n      <td>0.06</td>\n      <td>1.81</td>\n      <td>1.25</td>\n      <td>-0.66</td>\n    </tr>\n  </tbody>\n</table>\n</div>"
     },
     "metadata": {},
     "execution_count": 132
    }
   ],
   "source": [
    "df"
   ]
  },
  {
   "cell_type": "code",
   "execution_count": 134,
   "metadata": {},
   "outputs": [
    {
     "output_type": "execute_result",
     "data": {
      "text/plain": [
       "      A     B     C     D     E   A+B\n",
       "X  0.04 -0.02  2.03 -0.43 -0.58  0.02\n",
       "Y  0.29  0.99  0.69  0.42 -0.36  1.28\n",
       "Z -1.62  0.06  1.81  1.25 -0.66 -1.56"
      ],
      "text/html": "<div>\n<style scoped>\n    .dataframe tbody tr th:only-of-type {\n        vertical-align: middle;\n    }\n\n    .dataframe tbody tr th {\n        vertical-align: top;\n    }\n\n    .dataframe thead th {\n        text-align: right;\n    }\n</style>\n<table border=\"1\" class=\"dataframe\">\n  <thead>\n    <tr style=\"text-align: right;\">\n      <th></th>\n      <th>A</th>\n      <th>B</th>\n      <th>C</th>\n      <th>D</th>\n      <th>E</th>\n      <th>A+B</th>\n    </tr>\n  </thead>\n  <tbody>\n    <tr>\n      <th>X</th>\n      <td>0.04</td>\n      <td>-0.02</td>\n      <td>2.03</td>\n      <td>-0.43</td>\n      <td>-0.58</td>\n      <td>0.02</td>\n    </tr>\n    <tr>\n      <th>Y</th>\n      <td>0.29</td>\n      <td>0.99</td>\n      <td>0.69</td>\n      <td>0.42</td>\n      <td>-0.36</td>\n      <td>1.28</td>\n    </tr>\n    <tr>\n      <th>Z</th>\n      <td>-1.62</td>\n      <td>0.06</td>\n      <td>1.81</td>\n      <td>1.25</td>\n      <td>-0.66</td>\n      <td>-1.56</td>\n    </tr>\n  </tbody>\n</table>\n</div>"
     },
     "metadata": {},
     "execution_count": 134
    }
   ],
   "source": [
    "df['A+B'] = df['A'] + df['B']\n",
    "df"
   ]
  },
  {
   "cell_type": "code",
   "execution_count": 136,
   "metadata": {},
   "outputs": [
    {
     "output_type": "execute_result",
     "data": {
      "text/plain": [
       "      A     B     C     D     E\n",
       "X  0.04 -0.02  2.03 -0.43 -0.58\n",
       "Y  0.29  0.99  0.69  0.42 -0.36\n",
       "Z -1.62  0.06  1.81  1.25 -0.66"
      ],
      "text/html": "<div>\n<style scoped>\n    .dataframe tbody tr th:only-of-type {\n        vertical-align: middle;\n    }\n\n    .dataframe tbody tr th {\n        vertical-align: top;\n    }\n\n    .dataframe thead th {\n        text-align: right;\n    }\n</style>\n<table border=\"1\" class=\"dataframe\">\n  <thead>\n    <tr style=\"text-align: right;\">\n      <th></th>\n      <th>A</th>\n      <th>B</th>\n      <th>C</th>\n      <th>D</th>\n      <th>E</th>\n    </tr>\n  </thead>\n  <tbody>\n    <tr>\n      <th>X</th>\n      <td>0.04</td>\n      <td>-0.02</td>\n      <td>2.03</td>\n      <td>-0.43</td>\n      <td>-0.58</td>\n    </tr>\n    <tr>\n      <th>Y</th>\n      <td>0.29</td>\n      <td>0.99</td>\n      <td>0.69</td>\n      <td>0.42</td>\n      <td>-0.36</td>\n    </tr>\n    <tr>\n      <th>Z</th>\n      <td>-1.62</td>\n      <td>0.06</td>\n      <td>1.81</td>\n      <td>1.25</td>\n      <td>-0.66</td>\n    </tr>\n  </tbody>\n</table>\n</div>"
     },
     "metadata": {},
     "execution_count": 136
    }
   ],
   "source": [
    "df.drop('A+B', axis=1)"
   ]
  },
  {
   "cell_type": "code",
   "execution_count": 138,
   "metadata": {},
   "outputs": [
    {
     "output_type": "execute_result",
     "data": {
      "text/plain": [
       "      A     B     C     D     E\n",
       "X -0.80  0.86 -1.03  0.94 -1.75\n",
       "Y  0.50 -1.27 -0.16 -0.15 -0.33\n",
       "Z  1.04  1.35 -1.03  1.81 -0.38"
      ],
      "text/html": "<div>\n<style scoped>\n    .dataframe tbody tr th:only-of-type {\n        vertical-align: middle;\n    }\n\n    .dataframe tbody tr th {\n        vertical-align: top;\n    }\n\n    .dataframe thead th {\n        text-align: right;\n    }\n</style>\n<table border=\"1\" class=\"dataframe\">\n  <thead>\n    <tr style=\"text-align: right;\">\n      <th></th>\n      <th>A</th>\n      <th>B</th>\n      <th>C</th>\n      <th>D</th>\n      <th>E</th>\n    </tr>\n  </thead>\n  <tbody>\n    <tr>\n      <th>X</th>\n      <td>-0.80</td>\n      <td>0.86</td>\n      <td>-1.03</td>\n      <td>0.94</td>\n      <td>-1.75</td>\n    </tr>\n    <tr>\n      <th>Y</th>\n      <td>0.50</td>\n      <td>-1.27</td>\n      <td>-0.16</td>\n      <td>-0.15</td>\n      <td>-0.33</td>\n    </tr>\n    <tr>\n      <th>Z</th>\n      <td>1.04</td>\n      <td>1.35</td>\n      <td>-1.03</td>\n      <td>1.81</td>\n      <td>-0.38</td>\n    </tr>\n  </tbody>\n</table>\n</div>"
     },
     "metadata": {},
     "execution_count": 138
    }
   ],
   "source": [
    "df"
   ]
  },
  {
   "cell_type": "code",
   "execution_count": 140,
   "metadata": {},
   "outputs": [
    {
     "output_type": "error",
     "ename": "KeyError",
     "evalue": "\"['A+B'] not found in axis\"",
     "traceback": [
      "\u001b[0;31m---------------------------------------------------------------------------\u001b[0m",
      "\u001b[0;31mKeyError\u001b[0m                                  Traceback (most recent call last)",
      "\u001b[0;32m<ipython-input-140-2aef5875fdaa>\u001b[0m in \u001b[0;36m<module>\u001b[0;34m\u001b[0m\n\u001b[0;32m----> 1\u001b[0;31m \u001b[0mdf\u001b[0m\u001b[0;34m.\u001b[0m\u001b[0mdrop\u001b[0m\u001b[0;34m(\u001b[0m\u001b[0;34m'A+B'\u001b[0m\u001b[0;34m,\u001b[0m \u001b[0maxis\u001b[0m\u001b[0;34m=\u001b[0m\u001b[0;36m1\u001b[0m\u001b[0;34m,\u001b[0m \u001b[0minplace\u001b[0m\u001b[0;34m=\u001b[0m\u001b[0;32mTrue\u001b[0m\u001b[0;34m)\u001b[0m\u001b[0;34m\u001b[0m\u001b[0;34m\u001b[0m\u001b[0m\n\u001b[0m",
      "\u001b[0;32m~/.local/lib/python3.8/site-packages/pandas/core/frame.py\u001b[0m in \u001b[0;36mdrop\u001b[0;34m(self, labels, axis, index, columns, level, inplace, errors)\u001b[0m\n\u001b[1;32m   4306\u001b[0m                 \u001b[0mweight\u001b[0m  \u001b[0;36m1.0\u001b[0m     \u001b[0;36m0.8\u001b[0m\u001b[0;34m\u001b[0m\u001b[0;34m\u001b[0m\u001b[0m\n\u001b[1;32m   4307\u001b[0m         \"\"\"\n\u001b[0;32m-> 4308\u001b[0;31m         return super().drop(\n\u001b[0m\u001b[1;32m   4309\u001b[0m             \u001b[0mlabels\u001b[0m\u001b[0;34m=\u001b[0m\u001b[0mlabels\u001b[0m\u001b[0;34m,\u001b[0m\u001b[0;34m\u001b[0m\u001b[0;34m\u001b[0m\u001b[0m\n\u001b[1;32m   4310\u001b[0m             \u001b[0maxis\u001b[0m\u001b[0;34m=\u001b[0m\u001b[0maxis\u001b[0m\u001b[0;34m,\u001b[0m\u001b[0;34m\u001b[0m\u001b[0;34m\u001b[0m\u001b[0m\n",
      "\u001b[0;32m~/.local/lib/python3.8/site-packages/pandas/core/generic.py\u001b[0m in \u001b[0;36mdrop\u001b[0;34m(self, labels, axis, index, columns, level, inplace, errors)\u001b[0m\n\u001b[1;32m   4151\u001b[0m         \u001b[0;32mfor\u001b[0m \u001b[0maxis\u001b[0m\u001b[0;34m,\u001b[0m \u001b[0mlabels\u001b[0m \u001b[0;32min\u001b[0m \u001b[0maxes\u001b[0m\u001b[0;34m.\u001b[0m\u001b[0mitems\u001b[0m\u001b[0;34m(\u001b[0m\u001b[0;34m)\u001b[0m\u001b[0;34m:\u001b[0m\u001b[0;34m\u001b[0m\u001b[0;34m\u001b[0m\u001b[0m\n\u001b[1;32m   4152\u001b[0m             \u001b[0;32mif\u001b[0m \u001b[0mlabels\u001b[0m \u001b[0;32mis\u001b[0m \u001b[0;32mnot\u001b[0m \u001b[0;32mNone\u001b[0m\u001b[0;34m:\u001b[0m\u001b[0;34m\u001b[0m\u001b[0;34m\u001b[0m\u001b[0m\n\u001b[0;32m-> 4153\u001b[0;31m                 \u001b[0mobj\u001b[0m \u001b[0;34m=\u001b[0m \u001b[0mobj\u001b[0m\u001b[0;34m.\u001b[0m\u001b[0m_drop_axis\u001b[0m\u001b[0;34m(\u001b[0m\u001b[0mlabels\u001b[0m\u001b[0;34m,\u001b[0m \u001b[0maxis\u001b[0m\u001b[0;34m,\u001b[0m \u001b[0mlevel\u001b[0m\u001b[0;34m=\u001b[0m\u001b[0mlevel\u001b[0m\u001b[0;34m,\u001b[0m \u001b[0merrors\u001b[0m\u001b[0;34m=\u001b[0m\u001b[0merrors\u001b[0m\u001b[0;34m)\u001b[0m\u001b[0;34m\u001b[0m\u001b[0;34m\u001b[0m\u001b[0m\n\u001b[0m\u001b[1;32m   4154\u001b[0m \u001b[0;34m\u001b[0m\u001b[0m\n\u001b[1;32m   4155\u001b[0m         \u001b[0;32mif\u001b[0m \u001b[0minplace\u001b[0m\u001b[0;34m:\u001b[0m\u001b[0;34m\u001b[0m\u001b[0;34m\u001b[0m\u001b[0m\n",
      "\u001b[0;32m~/.local/lib/python3.8/site-packages/pandas/core/generic.py\u001b[0m in \u001b[0;36m_drop_axis\u001b[0;34m(self, labels, axis, level, errors)\u001b[0m\n\u001b[1;32m   4186\u001b[0m                 \u001b[0mnew_axis\u001b[0m \u001b[0;34m=\u001b[0m \u001b[0maxis\u001b[0m\u001b[0;34m.\u001b[0m\u001b[0mdrop\u001b[0m\u001b[0;34m(\u001b[0m\u001b[0mlabels\u001b[0m\u001b[0;34m,\u001b[0m \u001b[0mlevel\u001b[0m\u001b[0;34m=\u001b[0m\u001b[0mlevel\u001b[0m\u001b[0;34m,\u001b[0m \u001b[0merrors\u001b[0m\u001b[0;34m=\u001b[0m\u001b[0merrors\u001b[0m\u001b[0;34m)\u001b[0m\u001b[0;34m\u001b[0m\u001b[0;34m\u001b[0m\u001b[0m\n\u001b[1;32m   4187\u001b[0m             \u001b[0;32melse\u001b[0m\u001b[0;34m:\u001b[0m\u001b[0;34m\u001b[0m\u001b[0;34m\u001b[0m\u001b[0m\n\u001b[0;32m-> 4188\u001b[0;31m                 \u001b[0mnew_axis\u001b[0m \u001b[0;34m=\u001b[0m \u001b[0maxis\u001b[0m\u001b[0;34m.\u001b[0m\u001b[0mdrop\u001b[0m\u001b[0;34m(\u001b[0m\u001b[0mlabels\u001b[0m\u001b[0;34m,\u001b[0m \u001b[0merrors\u001b[0m\u001b[0;34m=\u001b[0m\u001b[0merrors\u001b[0m\u001b[0;34m)\u001b[0m\u001b[0;34m\u001b[0m\u001b[0;34m\u001b[0m\u001b[0m\n\u001b[0m\u001b[1;32m   4189\u001b[0m             \u001b[0mresult\u001b[0m \u001b[0;34m=\u001b[0m \u001b[0mself\u001b[0m\u001b[0;34m.\u001b[0m\u001b[0mreindex\u001b[0m\u001b[0;34m(\u001b[0m\u001b[0;34m**\u001b[0m\u001b[0;34m{\u001b[0m\u001b[0maxis_name\u001b[0m\u001b[0;34m:\u001b[0m \u001b[0mnew_axis\u001b[0m\u001b[0;34m}\u001b[0m\u001b[0;34m)\u001b[0m\u001b[0;34m\u001b[0m\u001b[0;34m\u001b[0m\u001b[0m\n\u001b[1;32m   4190\u001b[0m \u001b[0;34m\u001b[0m\u001b[0m\n",
      "\u001b[0;32m~/.local/lib/python3.8/site-packages/pandas/core/indexes/base.py\u001b[0m in \u001b[0;36mdrop\u001b[0;34m(self, labels, errors)\u001b[0m\n\u001b[1;32m   5589\u001b[0m         \u001b[0;32mif\u001b[0m \u001b[0mmask\u001b[0m\u001b[0;34m.\u001b[0m\u001b[0many\u001b[0m\u001b[0;34m(\u001b[0m\u001b[0;34m)\u001b[0m\u001b[0;34m:\u001b[0m\u001b[0;34m\u001b[0m\u001b[0;34m\u001b[0m\u001b[0m\n\u001b[1;32m   5590\u001b[0m             \u001b[0;32mif\u001b[0m \u001b[0merrors\u001b[0m \u001b[0;34m!=\u001b[0m \u001b[0;34m\"ignore\"\u001b[0m\u001b[0;34m:\u001b[0m\u001b[0;34m\u001b[0m\u001b[0;34m\u001b[0m\u001b[0m\n\u001b[0;32m-> 5591\u001b[0;31m                 \u001b[0;32mraise\u001b[0m \u001b[0mKeyError\u001b[0m\u001b[0;34m(\u001b[0m\u001b[0;34mf\"{labels[mask]} not found in axis\"\u001b[0m\u001b[0;34m)\u001b[0m\u001b[0;34m\u001b[0m\u001b[0;34m\u001b[0m\u001b[0m\n\u001b[0m\u001b[1;32m   5592\u001b[0m             \u001b[0mindexer\u001b[0m \u001b[0;34m=\u001b[0m \u001b[0mindexer\u001b[0m\u001b[0;34m[\u001b[0m\u001b[0;34m~\u001b[0m\u001b[0mmask\u001b[0m\u001b[0;34m]\u001b[0m\u001b[0;34m\u001b[0m\u001b[0;34m\u001b[0m\u001b[0m\n\u001b[1;32m   5593\u001b[0m         \u001b[0;32mreturn\u001b[0m \u001b[0mself\u001b[0m\u001b[0;34m.\u001b[0m\u001b[0mdelete\u001b[0m\u001b[0;34m(\u001b[0m\u001b[0mindexer\u001b[0m\u001b[0;34m)\u001b[0m\u001b[0;34m\u001b[0m\u001b[0;34m\u001b[0m\u001b[0m\n",
      "\u001b[0;31mKeyError\u001b[0m: \"['A+B'] not found in axis\""
     ]
    }
   ],
   "source": [
    "df.drop('A+B', axis=1, inplace=True)"
   ]
  },
  {
   "cell_type": "code",
   "execution_count": 142,
   "metadata": {},
   "outputs": [
    {
     "output_type": "execute_result",
     "data": {
      "text/plain": [
       "      A     B     C     D     E\n",
       "X -0.80  0.86 -1.03  0.94 -1.75\n",
       "Y  0.50 -1.27 -0.16 -0.15 -0.33\n",
       "Z  1.04  1.35 -1.03  1.81 -0.38"
      ],
      "text/html": "<div>\n<style scoped>\n    .dataframe tbody tr th:only-of-type {\n        vertical-align: middle;\n    }\n\n    .dataframe tbody tr th {\n        vertical-align: top;\n    }\n\n    .dataframe thead th {\n        text-align: right;\n    }\n</style>\n<table border=\"1\" class=\"dataframe\">\n  <thead>\n    <tr style=\"text-align: right;\">\n      <th></th>\n      <th>A</th>\n      <th>B</th>\n      <th>C</th>\n      <th>D</th>\n      <th>E</th>\n    </tr>\n  </thead>\n  <tbody>\n    <tr>\n      <th>X</th>\n      <td>-0.80</td>\n      <td>0.86</td>\n      <td>-1.03</td>\n      <td>0.94</td>\n      <td>-1.75</td>\n    </tr>\n    <tr>\n      <th>Y</th>\n      <td>0.50</td>\n      <td>-1.27</td>\n      <td>-0.16</td>\n      <td>-0.15</td>\n      <td>-0.33</td>\n    </tr>\n    <tr>\n      <th>Z</th>\n      <td>1.04</td>\n      <td>1.35</td>\n      <td>-1.03</td>\n      <td>1.81</td>\n      <td>-0.38</td>\n    </tr>\n  </tbody>\n</table>\n</div>"
     },
     "metadata": {},
     "execution_count": 142
    }
   ],
   "source": [
    "df"
   ]
  },
  {
   "cell_type": "code",
   "execution_count": 143,
   "metadata": {},
   "outputs": [
    {
     "output_type": "execute_result",
     "data": {
      "text/plain": [
       "      A     B     C     D     E   A+B\n",
       "X -0.80  0.86 -1.03  0.94 -1.75  0.06\n",
       "Y  0.50 -1.27 -0.16 -0.15 -0.33 -0.77\n",
       "Z  1.04  1.35 -1.03  1.81 -0.38  2.39"
      ],
      "text/html": "<div>\n<style scoped>\n    .dataframe tbody tr th:only-of-type {\n        vertical-align: middle;\n    }\n\n    .dataframe tbody tr th {\n        vertical-align: top;\n    }\n\n    .dataframe thead th {\n        text-align: right;\n    }\n</style>\n<table border=\"1\" class=\"dataframe\">\n  <thead>\n    <tr style=\"text-align: right;\">\n      <th></th>\n      <th>A</th>\n      <th>B</th>\n      <th>C</th>\n      <th>D</th>\n      <th>E</th>\n      <th>A+B</th>\n    </tr>\n  </thead>\n  <tbody>\n    <tr>\n      <th>X</th>\n      <td>-0.80</td>\n      <td>0.86</td>\n      <td>-1.03</td>\n      <td>0.94</td>\n      <td>-1.75</td>\n      <td>0.06</td>\n    </tr>\n    <tr>\n      <th>Y</th>\n      <td>0.50</td>\n      <td>-1.27</td>\n      <td>-0.16</td>\n      <td>-0.15</td>\n      <td>-0.33</td>\n      <td>-0.77</td>\n    </tr>\n    <tr>\n      <th>Z</th>\n      <td>1.04</td>\n      <td>1.35</td>\n      <td>-1.03</td>\n      <td>1.81</td>\n      <td>-0.38</td>\n      <td>2.39</td>\n    </tr>\n  </tbody>\n</table>\n</div>"
     },
     "metadata": {},
     "execution_count": 143
    }
   ],
   "source": [
    "df['A+B'] = df['A'] + df['B']\n",
    "df"
   ]
  },
  {
   "cell_type": "code",
   "execution_count": 144,
   "metadata": {},
   "outputs": [
    {
     "output_type": "execute_result",
     "data": {
      "text/plain": [
       "      A     B     C     D     E\n",
       "X -0.80  0.86 -1.03  0.94 -1.75\n",
       "Y  0.50 -1.27 -0.16 -0.15 -0.33\n",
       "Z  1.04  1.35 -1.03  1.81 -0.38"
      ],
      "text/html": "<div>\n<style scoped>\n    .dataframe tbody tr th:only-of-type {\n        vertical-align: middle;\n    }\n\n    .dataframe tbody tr th {\n        vertical-align: top;\n    }\n\n    .dataframe thead th {\n        text-align: right;\n    }\n</style>\n<table border=\"1\" class=\"dataframe\">\n  <thead>\n    <tr style=\"text-align: right;\">\n      <th></th>\n      <th>A</th>\n      <th>B</th>\n      <th>C</th>\n      <th>D</th>\n      <th>E</th>\n    </tr>\n  </thead>\n  <tbody>\n    <tr>\n      <th>X</th>\n      <td>-0.80</td>\n      <td>0.86</td>\n      <td>-1.03</td>\n      <td>0.94</td>\n      <td>-1.75</td>\n    </tr>\n    <tr>\n      <th>Y</th>\n      <td>0.50</td>\n      <td>-1.27</td>\n      <td>-0.16</td>\n      <td>-0.15</td>\n      <td>-0.33</td>\n    </tr>\n    <tr>\n      <th>Z</th>\n      <td>1.04</td>\n      <td>1.35</td>\n      <td>-1.03</td>\n      <td>1.81</td>\n      <td>-0.38</td>\n    </tr>\n  </tbody>\n</table>\n</div>"
     },
     "metadata": {},
     "execution_count": 144
    }
   ],
   "source": [
    "df = df.drop('A+B', axis=1)\n",
    "df"
   ]
  },
  {
   "cell_type": "code",
   "execution_count": 145,
   "metadata": {},
   "outputs": [
    {
     "output_type": "execute_result",
     "data": {
      "text/plain": [
       "     A     B     C     D     E\n",
       "X -0.8  0.86 -1.03  0.94 -1.75\n",
       "Y  0.5 -1.27 -0.16 -0.15 -0.33"
      ],
      "text/html": "<div>\n<style scoped>\n    .dataframe tbody tr th:only-of-type {\n        vertical-align: middle;\n    }\n\n    .dataframe tbody tr th {\n        vertical-align: top;\n    }\n\n    .dataframe thead th {\n        text-align: right;\n    }\n</style>\n<table border=\"1\" class=\"dataframe\">\n  <thead>\n    <tr style=\"text-align: right;\">\n      <th></th>\n      <th>A</th>\n      <th>B</th>\n      <th>C</th>\n      <th>D</th>\n      <th>E</th>\n    </tr>\n  </thead>\n  <tbody>\n    <tr>\n      <th>X</th>\n      <td>-0.8</td>\n      <td>0.86</td>\n      <td>-1.03</td>\n      <td>0.94</td>\n      <td>-1.75</td>\n    </tr>\n    <tr>\n      <th>Y</th>\n      <td>0.5</td>\n      <td>-1.27</td>\n      <td>-0.16</td>\n      <td>-0.15</td>\n      <td>-0.33</td>\n    </tr>\n  </tbody>\n</table>\n</div>"
     },
     "metadata": {},
     "execution_count": 145
    }
   ],
   "source": [
    "df.drop('Z')"
   ]
  },
  {
   "cell_type": "code",
   "execution_count": 146,
   "metadata": {},
   "outputs": [
    {
     "output_type": "execute_result",
     "data": {
      "text/plain": [
       "      A     B     C     D     E\n",
       "X -0.80  0.86 -1.03  0.94 -1.75\n",
       "Y  0.50 -1.27 -0.16 -0.15 -0.33\n",
       "Z  1.04  1.35 -1.03  1.81 -0.38"
      ],
      "text/html": "<div>\n<style scoped>\n    .dataframe tbody tr th:only-of-type {\n        vertical-align: middle;\n    }\n\n    .dataframe tbody tr th {\n        vertical-align: top;\n    }\n\n    .dataframe thead th {\n        text-align: right;\n    }\n</style>\n<table border=\"1\" class=\"dataframe\">\n  <thead>\n    <tr style=\"text-align: right;\">\n      <th></th>\n      <th>A</th>\n      <th>B</th>\n      <th>C</th>\n      <th>D</th>\n      <th>E</th>\n    </tr>\n  </thead>\n  <tbody>\n    <tr>\n      <th>X</th>\n      <td>-0.80</td>\n      <td>0.86</td>\n      <td>-1.03</td>\n      <td>0.94</td>\n      <td>-1.75</td>\n    </tr>\n    <tr>\n      <th>Y</th>\n      <td>0.50</td>\n      <td>-1.27</td>\n      <td>-0.16</td>\n      <td>-0.15</td>\n      <td>-0.33</td>\n    </tr>\n    <tr>\n      <th>Z</th>\n      <td>1.04</td>\n      <td>1.35</td>\n      <td>-1.03</td>\n      <td>1.81</td>\n      <td>-0.38</td>\n    </tr>\n  </tbody>\n</table>\n</div>"
     },
     "metadata": {},
     "execution_count": 146
    }
   ],
   "source": [
    "df"
   ]
  },
  {
   "cell_type": "code",
   "execution_count": 147,
   "metadata": {},
   "outputs": [
    {
     "output_type": "execute_result",
     "data": {
      "text/plain": [
       "X   -1.03\n",
       "Y   -0.16\n",
       "Z   -1.03\n",
       "Name: C, dtype: float64"
      ]
     },
     "metadata": {},
     "execution_count": 147
    }
   ],
   "source": [
    "df['C']"
   ]
  },
  {
   "cell_type": "code",
   "execution_count": 151,
   "metadata": {},
   "outputs": [
    {
     "output_type": "execute_result",
     "data": {
      "text/plain": [
       "A   -0.80\n",
       "B    0.86\n",
       "C   -1.03\n",
       "D    0.94\n",
       "E   -1.75\n",
       "Name: X, dtype: float64"
      ]
     },
     "metadata": {},
     "execution_count": 151
    }
   ],
   "source": [
    "df.loc['X']"
   ]
  },
  {
   "cell_type": "code",
   "execution_count": 150,
   "metadata": {},
   "outputs": [
    {
     "output_type": "execute_result",
     "data": {
      "text/plain": [
       "A   -0.80\n",
       "B    0.86\n",
       "C   -1.03\n",
       "D    0.94\n",
       "E   -1.75\n",
       "Name: X, dtype: float64"
      ]
     },
     "metadata": {},
     "execution_count": 150
    }
   ],
   "source": [
    "df.iloc[0]"
   ]
  },
  {
   "cell_type": "code",
   "execution_count": 152,
   "metadata": {},
   "outputs": [
    {
     "output_type": "execute_result",
     "data": {
      "text/plain": [
       "(3, 5)"
      ]
     },
     "metadata": {},
     "execution_count": 152
    }
   ],
   "source": [
    "df.shape"
   ]
  },
  {
   "cell_type": "code",
   "execution_count": 153,
   "metadata": {},
   "outputs": [
    {
     "output_type": "execute_result",
     "data": {
      "text/plain": [
       "      A     B\n",
       "X -0.80  0.86\n",
       "Y  0.50 -1.27\n",
       "Z  1.04  1.35"
      ],
      "text/html": "<div>\n<style scoped>\n    .dataframe tbody tr th:only-of-type {\n        vertical-align: middle;\n    }\n\n    .dataframe tbody tr th {\n        vertical-align: top;\n    }\n\n    .dataframe thead th {\n        text-align: right;\n    }\n</style>\n<table border=\"1\" class=\"dataframe\">\n  <thead>\n    <tr style=\"text-align: right;\">\n      <th></th>\n      <th>A</th>\n      <th>B</th>\n    </tr>\n  </thead>\n  <tbody>\n    <tr>\n      <th>X</th>\n      <td>-0.80</td>\n      <td>0.86</td>\n    </tr>\n    <tr>\n      <th>Y</th>\n      <td>0.50</td>\n      <td>-1.27</td>\n    </tr>\n    <tr>\n      <th>Z</th>\n      <td>1.04</td>\n      <td>1.35</td>\n    </tr>\n  </tbody>\n</table>\n</div>"
     },
     "metadata": {},
     "execution_count": 153
    }
   ],
   "source": [
    "df[['A', 'B']]"
   ]
  },
  {
   "cell_type": "code",
   "execution_count": 154,
   "metadata": {},
   "outputs": [
    {
     "output_type": "execute_result",
     "data": {
      "text/plain": [
       "     A     B\n",
       "X -0.8  0.86\n",
       "Y  0.5 -1.27"
      ],
      "text/html": "<div>\n<style scoped>\n    .dataframe tbody tr th:only-of-type {\n        vertical-align: middle;\n    }\n\n    .dataframe tbody tr th {\n        vertical-align: top;\n    }\n\n    .dataframe thead th {\n        text-align: right;\n    }\n</style>\n<table border=\"1\" class=\"dataframe\">\n  <thead>\n    <tr style=\"text-align: right;\">\n      <th></th>\n      <th>A</th>\n      <th>B</th>\n    </tr>\n  </thead>\n  <tbody>\n    <tr>\n      <th>X</th>\n      <td>-0.8</td>\n      <td>0.86</td>\n    </tr>\n    <tr>\n      <th>Y</th>\n      <td>0.5</td>\n      <td>-1.27</td>\n    </tr>\n  </tbody>\n</table>\n</div>"
     },
     "metadata": {},
     "execution_count": 154
    }
   ],
   "source": [
    "df[['A', 'B']].loc[['X', 'Y']]"
   ]
  },
  {
   "cell_type": "code",
   "execution_count": 155,
   "metadata": {},
   "outputs": [
    {
     "output_type": "execute_result",
     "data": {
      "text/plain": [
       "      A     B     C     D     E\n",
       "X -0.80  0.86 -1.03  0.94 -1.75\n",
       "Y  0.50 -1.27 -0.16 -0.15 -0.33\n",
       "Z  1.04  1.35 -1.03  1.81 -0.38"
      ],
      "text/html": "<div>\n<style scoped>\n    .dataframe tbody tr th:only-of-type {\n        vertical-align: middle;\n    }\n\n    .dataframe tbody tr th {\n        vertical-align: top;\n    }\n\n    .dataframe thead th {\n        text-align: right;\n    }\n</style>\n<table border=\"1\" class=\"dataframe\">\n  <thead>\n    <tr style=\"text-align: right;\">\n      <th></th>\n      <th>A</th>\n      <th>B</th>\n      <th>C</th>\n      <th>D</th>\n      <th>E</th>\n    </tr>\n  </thead>\n  <tbody>\n    <tr>\n      <th>X</th>\n      <td>-0.80</td>\n      <td>0.86</td>\n      <td>-1.03</td>\n      <td>0.94</td>\n      <td>-1.75</td>\n    </tr>\n    <tr>\n      <th>Y</th>\n      <td>0.50</td>\n      <td>-1.27</td>\n      <td>-0.16</td>\n      <td>-0.15</td>\n      <td>-0.33</td>\n    </tr>\n    <tr>\n      <th>Z</th>\n      <td>1.04</td>\n      <td>1.35</td>\n      <td>-1.03</td>\n      <td>1.81</td>\n      <td>-0.38</td>\n    </tr>\n  </tbody>\n</table>\n</div>"
     },
     "metadata": {},
     "execution_count": 155
    }
   ],
   "source": [
    "df"
   ]
  },
  {
   "cell_type": "code",
   "execution_count": 156,
   "metadata": {},
   "outputs": [
    {
     "output_type": "execute_result",
     "data": {
      "text/plain": [
       "       A      B      C      D      E\n",
       "X  False   True  False   True  False\n",
       "Y  False  False  False  False  False\n",
       "Z   True   True  False   True  False"
      ],
      "text/html": "<div>\n<style scoped>\n    .dataframe tbody tr th:only-of-type {\n        vertical-align: middle;\n    }\n\n    .dataframe tbody tr th {\n        vertical-align: top;\n    }\n\n    .dataframe thead th {\n        text-align: right;\n    }\n</style>\n<table border=\"1\" class=\"dataframe\">\n  <thead>\n    <tr style=\"text-align: right;\">\n      <th></th>\n      <th>A</th>\n      <th>B</th>\n      <th>C</th>\n      <th>D</th>\n      <th>E</th>\n    </tr>\n  </thead>\n  <tbody>\n    <tr>\n      <th>X</th>\n      <td>False</td>\n      <td>True</td>\n      <td>False</td>\n      <td>True</td>\n      <td>False</td>\n    </tr>\n    <tr>\n      <th>Y</th>\n      <td>False</td>\n      <td>False</td>\n      <td>False</td>\n      <td>False</td>\n      <td>False</td>\n    </tr>\n    <tr>\n      <th>Z</th>\n      <td>True</td>\n      <td>True</td>\n      <td>False</td>\n      <td>True</td>\n      <td>False</td>\n    </tr>\n  </tbody>\n</table>\n</div>"
     },
     "metadata": {},
     "execution_count": 156
    }
   ],
   "source": [
    "df > 0.5"
   ]
  },
  {
   "cell_type": "code",
   "execution_count": 158,
   "metadata": {},
   "outputs": [
    {
     "output_type": "execute_result",
     "data": {
      "text/plain": [
       "      A     B   C     D   E\n",
       "X   NaN  0.86 NaN  0.94 NaN\n",
       "Y   NaN   NaN NaN   NaN NaN\n",
       "Z  1.04  1.35 NaN  1.81 NaN"
      ],
      "text/html": "<div>\n<style scoped>\n    .dataframe tbody tr th:only-of-type {\n        vertical-align: middle;\n    }\n\n    .dataframe tbody tr th {\n        vertical-align: top;\n    }\n\n    .dataframe thead th {\n        text-align: right;\n    }\n</style>\n<table border=\"1\" class=\"dataframe\">\n  <thead>\n    <tr style=\"text-align: right;\">\n      <th></th>\n      <th>A</th>\n      <th>B</th>\n      <th>C</th>\n      <th>D</th>\n      <th>E</th>\n    </tr>\n  </thead>\n  <tbody>\n    <tr>\n      <th>X</th>\n      <td>NaN</td>\n      <td>0.86</td>\n      <td>NaN</td>\n      <td>0.94</td>\n      <td>NaN</td>\n    </tr>\n    <tr>\n      <th>Y</th>\n      <td>NaN</td>\n      <td>NaN</td>\n      <td>NaN</td>\n      <td>NaN</td>\n      <td>NaN</td>\n    </tr>\n    <tr>\n      <th>Z</th>\n      <td>1.04</td>\n      <td>1.35</td>\n      <td>NaN</td>\n      <td>1.81</td>\n      <td>NaN</td>\n    </tr>\n  </tbody>\n</table>\n</div>"
     },
     "metadata": {},
     "execution_count": 158
    }
   ],
   "source": [
    "df[df>0.5]"
   ]
  },
  {
   "cell_type": "code",
   "execution_count": 159,
   "metadata": {},
   "outputs": [
    {
     "output_type": "execute_result",
     "data": {
      "text/plain": [
       "      A     B     C     D     E\n",
       "X -0.80  0.86 -1.03  0.94 -1.75\n",
       "Y  0.50 -1.27 -0.16 -0.15 -0.33\n",
       "Z  1.04  1.35 -1.03  1.81 -0.38"
      ],
      "text/html": "<div>\n<style scoped>\n    .dataframe tbody tr th:only-of-type {\n        vertical-align: middle;\n    }\n\n    .dataframe tbody tr th {\n        vertical-align: top;\n    }\n\n    .dataframe thead th {\n        text-align: right;\n    }\n</style>\n<table border=\"1\" class=\"dataframe\">\n  <thead>\n    <tr style=\"text-align: right;\">\n      <th></th>\n      <th>A</th>\n      <th>B</th>\n      <th>C</th>\n      <th>D</th>\n      <th>E</th>\n    </tr>\n  </thead>\n  <tbody>\n    <tr>\n      <th>X</th>\n      <td>-0.80</td>\n      <td>0.86</td>\n      <td>-1.03</td>\n      <td>0.94</td>\n      <td>-1.75</td>\n    </tr>\n    <tr>\n      <th>Y</th>\n      <td>0.50</td>\n      <td>-1.27</td>\n      <td>-0.16</td>\n      <td>-0.15</td>\n      <td>-0.33</td>\n    </tr>\n    <tr>\n      <th>Z</th>\n      <td>1.04</td>\n      <td>1.35</td>\n      <td>-1.03</td>\n      <td>1.81</td>\n      <td>-0.38</td>\n    </tr>\n  </tbody>\n</table>\n</div>"
     },
     "metadata": {},
     "execution_count": 159
    }
   ],
   "source": [
    "df"
   ]
  },
  {
   "cell_type": "code",
   "execution_count": 160,
   "metadata": {},
   "outputs": [
    {
     "output_type": "execute_result",
     "data": {
      "text/plain": [
       "X     True\n",
       "Y    False\n",
       "Z    False\n",
       "Name: A, dtype: bool"
      ]
     },
     "metadata": {},
     "execution_count": 160
    }
   ],
   "source": [
    "df['A']<0"
   ]
  },
  {
   "cell_type": "code",
   "execution_count": 161,
   "metadata": {},
   "outputs": [
    {
     "output_type": "execute_result",
     "data": {
      "text/plain": [
       "     A     B     C     D     E\n",
       "X -0.8  0.86 -1.03  0.94 -1.75"
      ],
      "text/html": "<div>\n<style scoped>\n    .dataframe tbody tr th:only-of-type {\n        vertical-align: middle;\n    }\n\n    .dataframe tbody tr th {\n        vertical-align: top;\n    }\n\n    .dataframe thead th {\n        text-align: right;\n    }\n</style>\n<table border=\"1\" class=\"dataframe\">\n  <thead>\n    <tr style=\"text-align: right;\">\n      <th></th>\n      <th>A</th>\n      <th>B</th>\n      <th>C</th>\n      <th>D</th>\n      <th>E</th>\n    </tr>\n  </thead>\n  <tbody>\n    <tr>\n      <th>X</th>\n      <td>-0.8</td>\n      <td>0.86</td>\n      <td>-1.03</td>\n      <td>0.94</td>\n      <td>-1.75</td>\n    </tr>\n  </tbody>\n</table>\n</div>"
     },
     "metadata": {},
     "execution_count": 161
    }
   ],
   "source": [
    "df[df['A'] <0]"
   ]
  },
  {
   "cell_type": "code",
   "execution_count": 162,
   "metadata": {},
   "outputs": [
    {
     "output_type": "execute_result",
     "data": {
      "text/plain": [
       "A   -0.80\n",
       "B    0.86\n",
       "C   -1.03\n",
       "D    0.94\n",
       "E   -1.75\n",
       "Name: X, dtype: float64"
      ]
     },
     "metadata": {},
     "execution_count": 162
    }
   ],
   "source": [
    "df.loc['X']"
   ]
  },
  {
   "cell_type": "code",
   "execution_count": 163,
   "metadata": {},
   "outputs": [
    {
     "output_type": "execute_result",
     "data": {
      "text/plain": [
       "      A     B     C     D     E\n",
       "X -0.80  0.86 -1.03  0.94 -1.75\n",
       "Y  0.50 -1.27 -0.16 -0.15 -0.33\n",
       "Z  1.04  1.35 -1.03  1.81 -0.38"
      ],
      "text/html": "<div>\n<style scoped>\n    .dataframe tbody tr th:only-of-type {\n        vertical-align: middle;\n    }\n\n    .dataframe tbody tr th {\n        vertical-align: top;\n    }\n\n    .dataframe thead th {\n        text-align: right;\n    }\n</style>\n<table border=\"1\" class=\"dataframe\">\n  <thead>\n    <tr style=\"text-align: right;\">\n      <th></th>\n      <th>A</th>\n      <th>B</th>\n      <th>C</th>\n      <th>D</th>\n      <th>E</th>\n    </tr>\n  </thead>\n  <tbody>\n    <tr>\n      <th>X</th>\n      <td>-0.80</td>\n      <td>0.86</td>\n      <td>-1.03</td>\n      <td>0.94</td>\n      <td>-1.75</td>\n    </tr>\n    <tr>\n      <th>Y</th>\n      <td>0.50</td>\n      <td>-1.27</td>\n      <td>-0.16</td>\n      <td>-0.15</td>\n      <td>-0.33</td>\n    </tr>\n    <tr>\n      <th>Z</th>\n      <td>1.04</td>\n      <td>1.35</td>\n      <td>-1.03</td>\n      <td>1.81</td>\n      <td>-0.38</td>\n    </tr>\n  </tbody>\n</table>\n</div>"
     },
     "metadata": {},
     "execution_count": 163
    }
   ],
   "source": [
    "df"
   ]
  },
  {
   "cell_type": "code",
   "execution_count": 170,
   "metadata": {},
   "outputs": [],
   "source": [
    "df = df.reset_index()"
   ]
  },
  {
   "cell_type": "code",
   "execution_count": 171,
   "metadata": {},
   "outputs": [
    {
     "output_type": "execute_result",
     "data": {
      "text/plain": [
       "  index     A     B     C     D     E\n",
       "0     X -0.80  0.86 -1.03  0.94 -1.75\n",
       "1     Y  0.50 -1.27  0.10 -0.15 -0.33\n",
       "2     Z  1.04  1.35 -1.03  1.81 -0.38"
      ],
      "text/html": "<div>\n<style scoped>\n    .dataframe tbody tr th:only-of-type {\n        vertical-align: middle;\n    }\n\n    .dataframe tbody tr th {\n        vertical-align: top;\n    }\n\n    .dataframe thead th {\n        text-align: right;\n    }\n</style>\n<table border=\"1\" class=\"dataframe\">\n  <thead>\n    <tr style=\"text-align: right;\">\n      <th></th>\n      <th>index</th>\n      <th>A</th>\n      <th>B</th>\n      <th>C</th>\n      <th>D</th>\n      <th>E</th>\n    </tr>\n  </thead>\n  <tbody>\n    <tr>\n      <th>0</th>\n      <td>X</td>\n      <td>-0.80</td>\n      <td>0.86</td>\n      <td>-1.03</td>\n      <td>0.94</td>\n      <td>-1.75</td>\n    </tr>\n    <tr>\n      <th>1</th>\n      <td>Y</td>\n      <td>0.50</td>\n      <td>-1.27</td>\n      <td>0.10</td>\n      <td>-0.15</td>\n      <td>-0.33</td>\n    </tr>\n    <tr>\n      <th>2</th>\n      <td>Z</td>\n      <td>1.04</td>\n      <td>1.35</td>\n      <td>-1.03</td>\n      <td>1.81</td>\n      <td>-0.38</td>\n    </tr>\n  </tbody>\n</table>\n</div>"
     },
     "metadata": {},
     "execution_count": 171
    }
   ],
   "source": [
    "df"
   ]
  },
  {
   "cell_type": "code",
   "execution_count": 172,
   "metadata": {},
   "outputs": [
    {
     "output_type": "execute_result",
     "data": {
      "text/plain": [
       "      index     B     C     D     E\n",
       "A                                  \n",
       "-0.80     X  0.86 -1.03  0.94 -1.75\n",
       " 0.50     Y -1.27  0.10 -0.15 -0.33\n",
       " 1.04     Z  1.35 -1.03  1.81 -0.38"
      ],
      "text/html": "<div>\n<style scoped>\n    .dataframe tbody tr th:only-of-type {\n        vertical-align: middle;\n    }\n\n    .dataframe tbody tr th {\n        vertical-align: top;\n    }\n\n    .dataframe thead th {\n        text-align: right;\n    }\n</style>\n<table border=\"1\" class=\"dataframe\">\n  <thead>\n    <tr style=\"text-align: right;\">\n      <th></th>\n      <th>index</th>\n      <th>B</th>\n      <th>C</th>\n      <th>D</th>\n      <th>E</th>\n    </tr>\n    <tr>\n      <th>A</th>\n      <th></th>\n      <th></th>\n      <th></th>\n      <th></th>\n      <th></th>\n    </tr>\n  </thead>\n  <tbody>\n    <tr>\n      <th>-0.80</th>\n      <td>X</td>\n      <td>0.86</td>\n      <td>-1.03</td>\n      <td>0.94</td>\n      <td>-1.75</td>\n    </tr>\n    <tr>\n      <th>0.50</th>\n      <td>Y</td>\n      <td>-1.27</td>\n      <td>0.10</td>\n      <td>-0.15</td>\n      <td>-0.33</td>\n    </tr>\n    <tr>\n      <th>1.04</th>\n      <td>Z</td>\n      <td>1.35</td>\n      <td>-1.03</td>\n      <td>1.81</td>\n      <td>-0.38</td>\n    </tr>\n  </tbody>\n</table>\n</div>"
     },
     "metadata": {},
     "execution_count": 172
    }
   ],
   "source": [
    "df.set_index('A')"
   ]
  },
  {
   "cell_type": "code",
   "execution_count": 179,
   "metadata": {},
   "outputs": [
    {
     "output_type": "execute_result",
     "data": {
      "text/plain": [
       "[0.86, -1.27, 1.35]"
      ]
     },
     "metadata": {},
     "execution_count": 179
    }
   ],
   "source": [
    "vector = df['B'].to_list()\n",
    "vector"
   ]
  },
  {
   "cell_type": "code",
   "execution_count": 180,
   "metadata": {},
   "outputs": [
    {
     "output_type": "execute_result",
     "data": {
      "text/plain": [
       "list"
      ]
     },
     "metadata": {},
     "execution_count": 180
    }
   ],
   "source": [
    "type(vector)"
   ]
  },
  {
   "cell_type": "code",
   "execution_count": null,
   "metadata": {},
   "outputs": [],
   "source": []
  }
 ]
}