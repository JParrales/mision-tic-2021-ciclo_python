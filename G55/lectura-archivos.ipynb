{
 "metadata": {
  "language_info": {
   "codemirror_mode": {
    "name": "ipython",
    "version": 3
   },
   "file_extension": ".py",
   "mimetype": "text/x-python",
   "name": "python",
   "nbconvert_exporter": "python",
   "pygments_lexer": "ipython3",
   "version": "3.8.5"
  },
  "orig_nbformat": 4,
  "kernelspec": {
   "name": "python3",
   "display_name": "Python 3.8.5 64-bit"
  },
  "interpreter": {
   "hash": "31f2aee4e71d21fbe5cf8b01ff0e069b9275f58929596ceb00d14d90e3e16cd6"
  }
 },
 "nbformat": 4,
 "nbformat_minor": 2,
 "cells": [
  {
   "cell_type": "code",
   "execution_count": 9,
   "metadata": {},
   "outputs": [],
   "source": [
    "import pandas as pd"
   ]
  },
  {
   "cell_type": "code",
   "execution_count": 7,
   "metadata": {},
   "outputs": [
    {
     "output_type": "execute_result",
     "data": {
      "text/plain": [
       "     Nombre  Apellido  Edad\n",
       "0      Juan     Nunoz    22\n",
       "1      Alex  Martinez    17\n",
       "2    Andres      Cruz    18\n",
       "3  Edinson    Viveros    35"
      ],
      "text/html": "<div>\n<style scoped>\n    .dataframe tbody tr th:only-of-type {\n        vertical-align: middle;\n    }\n\n    .dataframe tbody tr th {\n        vertical-align: top;\n    }\n\n    .dataframe thead th {\n        text-align: right;\n    }\n</style>\n<table border=\"1\" class=\"dataframe\">\n  <thead>\n    <tr style=\"text-align: right;\">\n      <th></th>\n      <th>Nombre</th>\n      <th>Apellido</th>\n      <th>Edad</th>\n    </tr>\n  </thead>\n  <tbody>\n    <tr>\n      <th>0</th>\n      <td>Juan</td>\n      <td>Nunoz</td>\n      <td>22</td>\n    </tr>\n    <tr>\n      <th>1</th>\n      <td>Alex</td>\n      <td>Martinez</td>\n      <td>17</td>\n    </tr>\n    <tr>\n      <th>2</th>\n      <td>Andres</td>\n      <td>Cruz</td>\n      <td>18</td>\n    </tr>\n    <tr>\n      <th>3</th>\n      <td>Edinson</td>\n      <td>Viveros</td>\n      <td>35</td>\n    </tr>\n  </tbody>\n</table>\n</div>"
     },
     "metadata": {},
     "execution_count": 7
    }
   ],
   "source": [
    "pd.read_csv('Book1.csv')"
   ]
  },
  {
   "cell_type": "code",
   "execution_count": 12,
   "metadata": {},
   "outputs": [
    {
     "output_type": "execute_result",
     "data": {
      "text/plain": [
       "{'Nombre': ['Juan', 'Alex', 'Andres', 'Edinson'],\n",
       " 'Apellido': ['Nunoz', 'Martinez', 'Cruz', 'Viveros'],\n",
       " 'Edad': [22, 17, 18, 35],\n",
       " 'Trabajo': ['Bibliotecario', 'Florista', 'Enfermero', 'Conserje']}"
      ]
     },
     "metadata": {},
     "execution_count": 12
    }
   ],
   "source": [
    "frame_data = {\n",
    "    'Nombre': ['Juan', 'Alex', 'Andres', 'Edinson'],\n",
    "    'Apellido': ['Nunoz', 'Martinez', 'Cruz', 'Viveros'],\n",
    "    'Edad': [22, 17, 18, 35],\n",
    "    'Trabajo': ['Bibliotecario', 'Florista', 'Enfermero', 'Conserje']\n",
    "}\n",
    "frame_data"
   ]
  },
  {
   "cell_type": "code",
   "execution_count": 13,
   "metadata": {},
   "outputs": [
    {
     "output_type": "execute_result",
     "data": {
      "text/plain": [
       "    Nombre  Apellido  Edad        Trabajo\n",
       "0     Juan     Nunoz    22  Bibliotecario\n",
       "1     Alex  Martinez    17       Florista\n",
       "2   Andres      Cruz    18      Enfermero\n",
       "3  Edinson   Viveros    35       Conserje"
      ],
      "text/html": "<div>\n<style scoped>\n    .dataframe tbody tr th:only-of-type {\n        vertical-align: middle;\n    }\n\n    .dataframe tbody tr th {\n        vertical-align: top;\n    }\n\n    .dataframe thead th {\n        text-align: right;\n    }\n</style>\n<table border=\"1\" class=\"dataframe\">\n  <thead>\n    <tr style=\"text-align: right;\">\n      <th></th>\n      <th>Nombre</th>\n      <th>Apellido</th>\n      <th>Edad</th>\n      <th>Trabajo</th>\n    </tr>\n  </thead>\n  <tbody>\n    <tr>\n      <th>0</th>\n      <td>Juan</td>\n      <td>Nunoz</td>\n      <td>22</td>\n      <td>Bibliotecario</td>\n    </tr>\n    <tr>\n      <th>1</th>\n      <td>Alex</td>\n      <td>Martinez</td>\n      <td>17</td>\n      <td>Florista</td>\n    </tr>\n    <tr>\n      <th>2</th>\n      <td>Andres</td>\n      <td>Cruz</td>\n      <td>18</td>\n      <td>Enfermero</td>\n    </tr>\n    <tr>\n      <th>3</th>\n      <td>Edinson</td>\n      <td>Viveros</td>\n      <td>35</td>\n      <td>Conserje</td>\n    </tr>\n  </tbody>\n</table>\n</div>"
     },
     "metadata": {},
     "execution_count": 13
    }
   ],
   "source": [
    "df = pd.DataFrame(frame_data)\n",
    "df"
   ]
  },
  {
   "cell_type": "code",
   "execution_count": null,
   "metadata": {},
   "outputs": [],
   "source": []
  }
 ]
}