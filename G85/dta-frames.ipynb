{
 "metadata": {
  "language_info": {
   "codemirror_mode": {
    "name": "ipython",
    "version": 3
   },
   "file_extension": ".py",
   "mimetype": "text/x-python",
   "name": "python",
   "nbconvert_exporter": "python",
   "pygments_lexer": "ipython3",
   "version": "3.8.5"
  },
  "orig_nbformat": 4,
  "kernelspec": {
   "name": "python3",
   "display_name": "Python 3.8.5 64-bit"
  },
  "interpreter": {
   "hash": "31f2aee4e71d21fbe5cf8b01ff0e069b9275f58929596ceb00d14d90e3e16cd6"
  }
 },
 "nbformat": 4,
 "nbformat_minor": 2,
 "cells": [
  {
   "cell_type": "code",
   "execution_count": 57,
   "metadata": {},
   "outputs": [],
   "source": [
    "import numpy as np\n",
    "import pandas as pd"
   ]
  },
  {
   "cell_type": "code",
   "execution_count": 58,
   "metadata": {},
   "outputs": [],
   "source": [
    "filas = ['X', 'Y', 'Z']\n",
    "columnas = ['A', 'B', 'C', 'D', 'E']"
   ]
  },
  {
   "cell_type": "code",
   "execution_count": 59,
   "metadata": {},
   "outputs": [
    {
     "output_type": "execute_result",
     "data": {
      "text/plain": [
       "array([[-0.76,  0.55,  0.69, -0.17, -0.73],\n",
       "       [ 0.91,  0.39,  0.28,  1.46, -0.29],\n",
       "       [ 0.13,  0.46, -0.61,  1.64, -1.27]])"
      ]
     },
     "metadata": {},
     "execution_count": 59
    }
   ],
   "source": [
    "data = np.round(np.random.randn(3,5), 2 )\n",
    "data"
   ]
  },
  {
   "cell_type": "code",
   "execution_count": 60,
   "metadata": {},
   "outputs": [
    {
     "output_type": "execute_result",
     "data": {
      "text/plain": [
       "      A     B     C     D     E\n",
       "X -0.76  0.55  0.69 -0.17 -0.73\n",
       "Y  0.91  0.39  0.28  1.46 -0.29\n",
       "Z  0.13  0.46 -0.61  1.64 -1.27"
      ],
      "text/html": "<div>\n<style scoped>\n    .dataframe tbody tr th:only-of-type {\n        vertical-align: middle;\n    }\n\n    .dataframe tbody tr th {\n        vertical-align: top;\n    }\n\n    .dataframe thead th {\n        text-align: right;\n    }\n</style>\n<table border=\"1\" class=\"dataframe\">\n  <thead>\n    <tr style=\"text-align: right;\">\n      <th></th>\n      <th>A</th>\n      <th>B</th>\n      <th>C</th>\n      <th>D</th>\n      <th>E</th>\n    </tr>\n  </thead>\n  <tbody>\n    <tr>\n      <th>X</th>\n      <td>-0.76</td>\n      <td>0.55</td>\n      <td>0.69</td>\n      <td>-0.17</td>\n      <td>-0.73</td>\n    </tr>\n    <tr>\n      <th>Y</th>\n      <td>0.91</td>\n      <td>0.39</td>\n      <td>0.28</td>\n      <td>1.46</td>\n      <td>-0.29</td>\n    </tr>\n    <tr>\n      <th>Z</th>\n      <td>0.13</td>\n      <td>0.46</td>\n      <td>-0.61</td>\n      <td>1.64</td>\n      <td>-1.27</td>\n    </tr>\n  </tbody>\n</table>\n</div>"
     },
     "metadata": {},
     "execution_count": 60
    }
   ],
   "source": [
    "df = pd.DataFrame(data, filas, columnas)\n",
    "df"
   ]
  },
  {
   "cell_type": "code",
   "execution_count": 61,
   "metadata": {},
   "outputs": [
    {
     "output_type": "execute_result",
     "data": {
      "text/plain": [
       "X   -0.76\n",
       "Y    0.91\n",
       "Z    0.13\n",
       "Name: A, dtype: float64"
      ]
     },
     "metadata": {},
     "execution_count": 61
    }
   ],
   "source": [
    "df['A']"
   ]
  },
  {
   "cell_type": "code",
   "execution_count": 62,
   "metadata": {},
   "outputs": [
    {
     "output_type": "execute_result",
     "data": {
      "text/plain": [
       "X   -0.73\n",
       "Y   -0.29\n",
       "Z   -1.27\n",
       "Name: E, dtype: float64"
      ]
     },
     "metadata": {},
     "execution_count": 62
    }
   ],
   "source": [
    "df['E']"
   ]
  },
  {
   "cell_type": "code",
   "execution_count": 63,
   "metadata": {},
   "outputs": [
    {
     "output_type": "execute_result",
     "data": {
      "text/plain": [
       "      A     B\n",
       "X -0.76  0.55\n",
       "Y  0.91  0.39\n",
       "Z  0.13  0.46"
      ],
      "text/html": "<div>\n<style scoped>\n    .dataframe tbody tr th:only-of-type {\n        vertical-align: middle;\n    }\n\n    .dataframe tbody tr th {\n        vertical-align: top;\n    }\n\n    .dataframe thead th {\n        text-align: right;\n    }\n</style>\n<table border=\"1\" class=\"dataframe\">\n  <thead>\n    <tr style=\"text-align: right;\">\n      <th></th>\n      <th>A</th>\n      <th>B</th>\n    </tr>\n  </thead>\n  <tbody>\n    <tr>\n      <th>X</th>\n      <td>-0.76</td>\n      <td>0.55</td>\n    </tr>\n    <tr>\n      <th>Y</th>\n      <td>0.91</td>\n      <td>0.39</td>\n    </tr>\n    <tr>\n      <th>Z</th>\n      <td>0.13</td>\n      <td>0.46</td>\n    </tr>\n  </tbody>\n</table>\n</div>"
     },
     "metadata": {},
     "execution_count": 63
    }
   ],
   "source": [
    "df[['A', 'B']]"
   ]
  },
  {
   "cell_type": "code",
   "execution_count": 64,
   "metadata": {},
   "outputs": [
    {
     "output_type": "execute_result",
     "data": {
      "text/plain": [
       "      A     B     C     D     E\n",
       "X -0.76  0.55  0.69 -0.17 -0.73\n",
       "Y  0.91  0.39  0.28  1.46 -0.29\n",
       "Z  0.13  0.46 -0.61  1.64 -1.27"
      ],
      "text/html": "<div>\n<style scoped>\n    .dataframe tbody tr th:only-of-type {\n        vertical-align: middle;\n    }\n\n    .dataframe tbody tr th {\n        vertical-align: top;\n    }\n\n    .dataframe thead th {\n        text-align: right;\n    }\n</style>\n<table border=\"1\" class=\"dataframe\">\n  <thead>\n    <tr style=\"text-align: right;\">\n      <th></th>\n      <th>A</th>\n      <th>B</th>\n      <th>C</th>\n      <th>D</th>\n      <th>E</th>\n    </tr>\n  </thead>\n  <tbody>\n    <tr>\n      <th>X</th>\n      <td>-0.76</td>\n      <td>0.55</td>\n      <td>0.69</td>\n      <td>-0.17</td>\n      <td>-0.73</td>\n    </tr>\n    <tr>\n      <th>Y</th>\n      <td>0.91</td>\n      <td>0.39</td>\n      <td>0.28</td>\n      <td>1.46</td>\n      <td>-0.29</td>\n    </tr>\n    <tr>\n      <th>Z</th>\n      <td>0.13</td>\n      <td>0.46</td>\n      <td>-0.61</td>\n      <td>1.64</td>\n      <td>-1.27</td>\n    </tr>\n  </tbody>\n</table>\n</div>"
     },
     "metadata": {},
     "execution_count": 64
    }
   ],
   "source": [
    "df"
   ]
  },
  {
   "cell_type": "code",
   "execution_count": 65,
   "metadata": {},
   "outputs": [
    {
     "output_type": "execute_result",
     "data": {
      "text/plain": [
       "1.64"
      ]
     },
     "metadata": {},
     "execution_count": 65
    }
   ],
   "source": [
    "df['D']['Z']"
   ]
  },
  {
   "cell_type": "code",
   "execution_count": 66,
   "metadata": {},
   "outputs": [
    {
     "output_type": "execute_result",
     "data": {
      "text/plain": [
       "      A     B     C     D     E   A+B\n",
       "X -0.76  0.55  0.69 -0.17 -0.73 -0.21\n",
       "Y  0.91  0.39  0.28  1.46 -0.29  1.30\n",
       "Z  0.13  0.46 -0.61  1.64 -1.27  0.59"
      ],
      "text/html": "<div>\n<style scoped>\n    .dataframe tbody tr th:only-of-type {\n        vertical-align: middle;\n    }\n\n    .dataframe tbody tr th {\n        vertical-align: top;\n    }\n\n    .dataframe thead th {\n        text-align: right;\n    }\n</style>\n<table border=\"1\" class=\"dataframe\">\n  <thead>\n    <tr style=\"text-align: right;\">\n      <th></th>\n      <th>A</th>\n      <th>B</th>\n      <th>C</th>\n      <th>D</th>\n      <th>E</th>\n      <th>A+B</th>\n    </tr>\n  </thead>\n  <tbody>\n    <tr>\n      <th>X</th>\n      <td>-0.76</td>\n      <td>0.55</td>\n      <td>0.69</td>\n      <td>-0.17</td>\n      <td>-0.73</td>\n      <td>-0.21</td>\n    </tr>\n    <tr>\n      <th>Y</th>\n      <td>0.91</td>\n      <td>0.39</td>\n      <td>0.28</td>\n      <td>1.46</td>\n      <td>-0.29</td>\n      <td>1.30</td>\n    </tr>\n    <tr>\n      <th>Z</th>\n      <td>0.13</td>\n      <td>0.46</td>\n      <td>-0.61</td>\n      <td>1.64</td>\n      <td>-1.27</td>\n      <td>0.59</td>\n    </tr>\n  </tbody>\n</table>\n</div>"
     },
     "metadata": {},
     "execution_count": 66
    }
   ],
   "source": [
    "df['A+B'] = df['A'] + df['B']\n",
    "df"
   ]
  },
  {
   "cell_type": "code",
   "execution_count": 67,
   "metadata": {},
   "outputs": [],
   "source": [
    "df = df.drop('A+B', axis=1)"
   ]
  },
  {
   "cell_type": "code",
   "execution_count": 68,
   "metadata": {},
   "outputs": [
    {
     "output_type": "execute_result",
     "data": {
      "text/plain": [
       "      A     B     C     D     E\n",
       "X -0.76  0.55  0.69 -0.17 -0.73\n",
       "Y  0.91  0.39  0.28  1.46 -0.29\n",
       "Z  0.13  0.46 -0.61  1.64 -1.27"
      ],
      "text/html": "<div>\n<style scoped>\n    .dataframe tbody tr th:only-of-type {\n        vertical-align: middle;\n    }\n\n    .dataframe tbody tr th {\n        vertical-align: top;\n    }\n\n    .dataframe thead th {\n        text-align: right;\n    }\n</style>\n<table border=\"1\" class=\"dataframe\">\n  <thead>\n    <tr style=\"text-align: right;\">\n      <th></th>\n      <th>A</th>\n      <th>B</th>\n      <th>C</th>\n      <th>D</th>\n      <th>E</th>\n    </tr>\n  </thead>\n  <tbody>\n    <tr>\n      <th>X</th>\n      <td>-0.76</td>\n      <td>0.55</td>\n      <td>0.69</td>\n      <td>-0.17</td>\n      <td>-0.73</td>\n    </tr>\n    <tr>\n      <th>Y</th>\n      <td>0.91</td>\n      <td>0.39</td>\n      <td>0.28</td>\n      <td>1.46</td>\n      <td>-0.29</td>\n    </tr>\n    <tr>\n      <th>Z</th>\n      <td>0.13</td>\n      <td>0.46</td>\n      <td>-0.61</td>\n      <td>1.64</td>\n      <td>-1.27</td>\n    </tr>\n  </tbody>\n</table>\n</div>"
     },
     "metadata": {},
     "execution_count": 68
    }
   ],
   "source": [
    "df"
   ]
  },
  {
   "cell_type": "code",
   "execution_count": 69,
   "metadata": {},
   "outputs": [
    {
     "output_type": "execute_result",
     "data": {
      "text/plain": [
       "      A     B     C     D     E\n",
       "X -0.76  0.55  0.69 -0.17 -0.73\n",
       "Y  0.91  0.39  0.28  1.46 -0.29"
      ],
      "text/html": "<div>\n<style scoped>\n    .dataframe tbody tr th:only-of-type {\n        vertical-align: middle;\n    }\n\n    .dataframe tbody tr th {\n        vertical-align: top;\n    }\n\n    .dataframe thead th {\n        text-align: right;\n    }\n</style>\n<table border=\"1\" class=\"dataframe\">\n  <thead>\n    <tr style=\"text-align: right;\">\n      <th></th>\n      <th>A</th>\n      <th>B</th>\n      <th>C</th>\n      <th>D</th>\n      <th>E</th>\n    </tr>\n  </thead>\n  <tbody>\n    <tr>\n      <th>X</th>\n      <td>-0.76</td>\n      <td>0.55</td>\n      <td>0.69</td>\n      <td>-0.17</td>\n      <td>-0.73</td>\n    </tr>\n    <tr>\n      <th>Y</th>\n      <td>0.91</td>\n      <td>0.39</td>\n      <td>0.28</td>\n      <td>1.46</td>\n      <td>-0.29</td>\n    </tr>\n  </tbody>\n</table>\n</div>"
     },
     "metadata": {},
     "execution_count": 69
    }
   ],
   "source": [
    "df.drop('Z')"
   ]
  },
  {
   "cell_type": "code",
   "execution_count": null,
   "metadata": {},
   "outputs": [],
   "source": []
  }
 ]
}