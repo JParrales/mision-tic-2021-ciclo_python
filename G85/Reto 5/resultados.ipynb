{
 "metadata": {
  "language_info": {
   "codemirror_mode": {
    "name": "ipython",
    "version": 3
   },
   "file_extension": ".py",
   "mimetype": "text/x-python",
   "name": "python",
   "nbconvert_exporter": "python",
   "pygments_lexer": "ipython3",
   "version": "3.8.5"
  },
  "orig_nbformat": 4,
  "kernelspec": {
   "name": "python3",
   "display_name": "Python 3.8.5 64-bit"
  },
  "interpreter": {
   "hash": "31f2aee4e71d21fbe5cf8b01ff0e069b9275f58929596ceb00d14d90e3e16cd6"
  }
 },
 "nbformat": 4,
 "nbformat_minor": 2,
 "cells": [
  {
   "cell_type": "code",
   "execution_count": 141,
   "metadata": {},
   "outputs": [],
   "source": [
    "import numpy as np\n",
    "import pandas as pd"
   ]
  },
  {
   "cell_type": "code",
   "execution_count": 142,
   "metadata": {},
   "outputs": [
    {
     "output_type": "execute_result",
     "data": {
      "text/plain": [
       "                           ESTUDIANTE  MATEMATICA  LENGUAJE  CIENCIAS  \\\n",
       "0        SUAREZ ROLDAN MONICA YULIETH          27        49        98   \n",
       "1                PLAZA SANCHEZ ALBERT          47         8        68   \n",
       "2         AGUIRRE RUBIANO RUBEN DARIO          53        21        38   \n",
       "3        BUITRAGO CARDOZO DIANA PAOLA          49        34        20   \n",
       "4          MOTTA CADENA LAURA NATALIA          12        77        89   \n",
       "5           CABRERA CHAVARRO NATHALIE          14        18        42   \n",
       "6             LOPEZ PAEZ MIGUEL ANGEL          91        61        34   \n",
       "7        GUEVARA PINILLA FABIAN DAVID          40        47        25   \n",
       "8        SANCHEZ PERDOMO RODRIGO JOSE          47        92        68   \n",
       "9     RODRIGUEZ GONZALEZ NESTOR DAVID           5        27        12   \n",
       "10     PARRASI YANGUMA JUAN SEBASTIAN          28        78        32   \n",
       "11        SIERRA TRUJILLO JUAN CARLOS          96        14        64   \n",
       "12     PASTRANA ARDILA JUAN SEBASTIAN          98        21        89   \n",
       "13  QUINTERO CARDOZO NESTOR ALEJANDRO          98        15        90   \n",
       "14          MOTTA DUSSAN PAULA ANDREA          20        20        10   \n",
       "15     LAMILLA TRUJILLO MARIA DEL MAR          76        71        26   \n",
       "16     RINCON HERNANDEZ HEIDY TATIANA          32        50         4   \n",
       "17             VILLALBA QUESADA SONIA          29        36        66   \n",
       "18       RIOS RODRIGUEZ ANDRES FELIPE          83        46        21   \n",
       "19        CHARRY MORENO ANDRES FELIPE           8        95        11   \n",
       "20    MANCHOLA PERDOMO MARIA FERNANDA           3        77        81   \n",
       "21        CADENA DIAZ DIEGO ALEJANDRO          78         2        51   \n",
       "22         MONROY ARDILA KELLY VANESA          42        74        80   \n",
       "23      ARROYAVE QUEZADA JOSE ORLANDO          21        87         6   \n",
       "24       RAMIREZ BARRETO DIEGO ANDRES          69        57        75   \n",
       "25        SALAZAR CANO JULY ALEXANDRA           5        33        50   \n",
       "26       TRUJILLO CUERVO LUIS GONZAGA           9        33        81   \n",
       "27         JAVELA MASMELA LUIS EVELIO          82         2        59   \n",
       "28              CUELLAR YUSTRES FREDY          40        88        34   \n",
       "29        SANTANA CORREA DAVID CAMILO          41        75        10   \n",
       "30   AVILES HERNANDEZ CRISTIAN ADOLFO          37        58        94   \n",
       "31          GAHONA RAMIREZ JUAN DAVID         100         4        36   \n",
       "32            AGRONO CLAROS KATHERINE          73        93        97   \n",
       "33           RODRIGUEZ VANEGAS JANIER          83        39         4   \n",
       "34                      MOLANO JULI@N          89         4        46   \n",
       "35         CAMACHO CABRERA JUAN DAVID          56        28        79   \n",
       "36       GUZMAN ROSERO CARLOS ENRIQUE          78        61        77   \n",
       "37                  FERNANDO CRISTIAN          89        93        71   \n",
       "38           GARCES ORTIZ JUAN CARLOS          77        42        53   \n",
       "39       GARCIA QUIMBAYA CINDY YAZMIN          71        43        83   \n",
       "40           PARRA GASPAR JUAN CAMILO          47        90        48   \n",
       "41           NARVAEZ TORRES JHONATHAN          29        35        55   \n",
       "42       RUBIANO FIERRO DIANA MARCELA          83         4        76   \n",
       "43      CEDENO GUZMAN CRISTIAN JULIAN          81        25        20   \n",
       "44      MONTES MOSQUERA CAMILO ANDRES          86        60        63   \n",
       "45        ALDANA GUZMAN CRISTIAN IVAN          74        83         3   \n",
       "46       QUINTERO CARDOZO DUVAN DARIO          79         8        29   \n",
       "47     HERNANDEZ LUGO PABLO FRANCISCO          91        88        90   \n",
       "48       MENDEZ MEDINA EDGAR HERNANDO          80        36        57   \n",
       "49           CRUZ INFANTE MAYCOL JOSE          88        22        94   \n",
       "50      JIMENEZ ESCOBAR ANGIE DANIELA          68        41        34   \n",
       "51         PARRALES TORRES JOSE DAVID          49        62        68   \n",
       "52  JIMENEZ RODRIGUEZ DEIVY ALEXANDER           1        58        66   \n",
       "53             RODRIGUEZ TIQUE NESTOR          95         8        65   \n",
       "54    GARNICA CIFUENTES JUAN FERNANDO          34        58        24   \n",
       "55       SANDOVAL ORTIZ PAOLY EUGENIA          64        71        12   \n",
       "56   CORREDOR CAJICA ESTEBAN FERNANDO           9         4        72   \n",
       "\n",
       "    CIUDADANAS  IDIOMAS  \n",
       "0            8       79  \n",
       "1           54       94  \n",
       "2           59       14  \n",
       "3           65       11  \n",
       "4           57       84  \n",
       "5           86       39  \n",
       "6           29      100  \n",
       "7           77       52  \n",
       "8           26       54  \n",
       "9           12       54  \n",
       "10          79       66  \n",
       "11          51       55  \n",
       "12          31       62  \n",
       "13           3       60  \n",
       "14           7        5  \n",
       "15          33       49  \n",
       "16          56       46  \n",
       "17           7       17  \n",
       "18          29       52  \n",
       "19           5       83  \n",
       "20          92       83  \n",
       "21          84        7  \n",
       "22           9      100  \n",
       "23          40       61  \n",
       "24          46        9  \n",
       "25           7       74  \n",
       "26          30       46  \n",
       "27          65       66  \n",
       "28          10       36  \n",
       "29           6       54  \n",
       "30          39       31  \n",
       "31          86       67  \n",
       "32          35       17  \n",
       "33          52       97  \n",
       "34          76       36  \n",
       "35          52       29  \n",
       "36          54        5  \n",
       "37          11       77  \n",
       "38          24       36  \n",
       "39          59       35  \n",
       "40          34       96  \n",
       "41          84       36  \n",
       "42          97       26  \n",
       "43         100       38  \n",
       "44          66       87  \n",
       "45           8        1  \n",
       "46          15       32  \n",
       "47          66       79  \n",
       "48         100       96  \n",
       "49          16       72  \n",
       "50          89       29  \n",
       "51          68        5  \n",
       "52          33       82  \n",
       "53          81       89  \n",
       "54           8       11  \n",
       "55          37       44  \n",
       "56          64       47  "
      ],
      "text/html": "<div>\n<style scoped>\n    .dataframe tbody tr th:only-of-type {\n        vertical-align: middle;\n    }\n\n    .dataframe tbody tr th {\n        vertical-align: top;\n    }\n\n    .dataframe thead th {\n        text-align: right;\n    }\n</style>\n<table border=\"1\" class=\"dataframe\">\n  <thead>\n    <tr style=\"text-align: right;\">\n      <th></th>\n      <th>ESTUDIANTE</th>\n      <th>MATEMATICA</th>\n      <th>LENGUAJE</th>\n      <th>CIENCIAS</th>\n      <th>CIUDADANAS</th>\n      <th>IDIOMAS</th>\n    </tr>\n  </thead>\n  <tbody>\n    <tr>\n      <th>0</th>\n      <td>SUAREZ ROLDAN MONICA YULIETH</td>\n      <td>27</td>\n      <td>49</td>\n      <td>98</td>\n      <td>8</td>\n      <td>79</td>\n    </tr>\n    <tr>\n      <th>1</th>\n      <td>PLAZA SANCHEZ ALBERT</td>\n      <td>47</td>\n      <td>8</td>\n      <td>68</td>\n      <td>54</td>\n      <td>94</td>\n    </tr>\n    <tr>\n      <th>2</th>\n      <td>AGUIRRE RUBIANO RUBEN DARIO</td>\n      <td>53</td>\n      <td>21</td>\n      <td>38</td>\n      <td>59</td>\n      <td>14</td>\n    </tr>\n    <tr>\n      <th>3</th>\n      <td>BUITRAGO CARDOZO DIANA PAOLA</td>\n      <td>49</td>\n      <td>34</td>\n      <td>20</td>\n      <td>65</td>\n      <td>11</td>\n    </tr>\n    <tr>\n      <th>4</th>\n      <td>MOTTA CADENA LAURA NATALIA</td>\n      <td>12</td>\n      <td>77</td>\n      <td>89</td>\n      <td>57</td>\n      <td>84</td>\n    </tr>\n    <tr>\n      <th>5</th>\n      <td>CABRERA CHAVARRO NATHALIE</td>\n      <td>14</td>\n      <td>18</td>\n      <td>42</td>\n      <td>86</td>\n      <td>39</td>\n    </tr>\n    <tr>\n      <th>6</th>\n      <td>LOPEZ PAEZ MIGUEL ANGEL</td>\n      <td>91</td>\n      <td>61</td>\n      <td>34</td>\n      <td>29</td>\n      <td>100</td>\n    </tr>\n    <tr>\n      <th>7</th>\n      <td>GUEVARA PINILLA FABIAN DAVID</td>\n      <td>40</td>\n      <td>47</td>\n      <td>25</td>\n      <td>77</td>\n      <td>52</td>\n    </tr>\n    <tr>\n      <th>8</th>\n      <td>SANCHEZ PERDOMO RODRIGO JOSE</td>\n      <td>47</td>\n      <td>92</td>\n      <td>68</td>\n      <td>26</td>\n      <td>54</td>\n    </tr>\n    <tr>\n      <th>9</th>\n      <td>RODRIGUEZ GONZALEZ NESTOR DAVID</td>\n      <td>5</td>\n      <td>27</td>\n      <td>12</td>\n      <td>12</td>\n      <td>54</td>\n    </tr>\n    <tr>\n      <th>10</th>\n      <td>PARRASI YANGUMA JUAN SEBASTIAN</td>\n      <td>28</td>\n      <td>78</td>\n      <td>32</td>\n      <td>79</td>\n      <td>66</td>\n    </tr>\n    <tr>\n      <th>11</th>\n      <td>SIERRA TRUJILLO JUAN CARLOS</td>\n      <td>96</td>\n      <td>14</td>\n      <td>64</td>\n      <td>51</td>\n      <td>55</td>\n    </tr>\n    <tr>\n      <th>12</th>\n      <td>PASTRANA ARDILA JUAN SEBASTIAN</td>\n      <td>98</td>\n      <td>21</td>\n      <td>89</td>\n      <td>31</td>\n      <td>62</td>\n    </tr>\n    <tr>\n      <th>13</th>\n      <td>QUINTERO CARDOZO NESTOR ALEJANDRO</td>\n      <td>98</td>\n      <td>15</td>\n      <td>90</td>\n      <td>3</td>\n      <td>60</td>\n    </tr>\n    <tr>\n      <th>14</th>\n      <td>MOTTA DUSSAN PAULA ANDREA</td>\n      <td>20</td>\n      <td>20</td>\n      <td>10</td>\n      <td>7</td>\n      <td>5</td>\n    </tr>\n    <tr>\n      <th>15</th>\n      <td>LAMILLA TRUJILLO MARIA DEL MAR</td>\n      <td>76</td>\n      <td>71</td>\n      <td>26</td>\n      <td>33</td>\n      <td>49</td>\n    </tr>\n    <tr>\n      <th>16</th>\n      <td>RINCON HERNANDEZ HEIDY TATIANA</td>\n      <td>32</td>\n      <td>50</td>\n      <td>4</td>\n      <td>56</td>\n      <td>46</td>\n    </tr>\n    <tr>\n      <th>17</th>\n      <td>VILLALBA QUESADA SONIA</td>\n      <td>29</td>\n      <td>36</td>\n      <td>66</td>\n      <td>7</td>\n      <td>17</td>\n    </tr>\n    <tr>\n      <th>18</th>\n      <td>RIOS RODRIGUEZ ANDRES FELIPE</td>\n      <td>83</td>\n      <td>46</td>\n      <td>21</td>\n      <td>29</td>\n      <td>52</td>\n    </tr>\n    <tr>\n      <th>19</th>\n      <td>CHARRY MORENO ANDRES FELIPE</td>\n      <td>8</td>\n      <td>95</td>\n      <td>11</td>\n      <td>5</td>\n      <td>83</td>\n    </tr>\n    <tr>\n      <th>20</th>\n      <td>MANCHOLA PERDOMO MARIA FERNANDA</td>\n      <td>3</td>\n      <td>77</td>\n      <td>81</td>\n      <td>92</td>\n      <td>83</td>\n    </tr>\n    <tr>\n      <th>21</th>\n      <td>CADENA DIAZ DIEGO ALEJANDRO</td>\n      <td>78</td>\n      <td>2</td>\n      <td>51</td>\n      <td>84</td>\n      <td>7</td>\n    </tr>\n    <tr>\n      <th>22</th>\n      <td>MONROY ARDILA KELLY VANESA</td>\n      <td>42</td>\n      <td>74</td>\n      <td>80</td>\n      <td>9</td>\n      <td>100</td>\n    </tr>\n    <tr>\n      <th>23</th>\n      <td>ARROYAVE QUEZADA JOSE ORLANDO</td>\n      <td>21</td>\n      <td>87</td>\n      <td>6</td>\n      <td>40</td>\n      <td>61</td>\n    </tr>\n    <tr>\n      <th>24</th>\n      <td>RAMIREZ BARRETO DIEGO ANDRES</td>\n      <td>69</td>\n      <td>57</td>\n      <td>75</td>\n      <td>46</td>\n      <td>9</td>\n    </tr>\n    <tr>\n      <th>25</th>\n      <td>SALAZAR CANO JULY ALEXANDRA</td>\n      <td>5</td>\n      <td>33</td>\n      <td>50</td>\n      <td>7</td>\n      <td>74</td>\n    </tr>\n    <tr>\n      <th>26</th>\n      <td>TRUJILLO CUERVO LUIS GONZAGA</td>\n      <td>9</td>\n      <td>33</td>\n      <td>81</td>\n      <td>30</td>\n      <td>46</td>\n    </tr>\n    <tr>\n      <th>27</th>\n      <td>JAVELA MASMELA LUIS EVELIO</td>\n      <td>82</td>\n      <td>2</td>\n      <td>59</td>\n      <td>65</td>\n      <td>66</td>\n    </tr>\n    <tr>\n      <th>28</th>\n      <td>CUELLAR YUSTRES FREDY</td>\n      <td>40</td>\n      <td>88</td>\n      <td>34</td>\n      <td>10</td>\n      <td>36</td>\n    </tr>\n    <tr>\n      <th>29</th>\n      <td>SANTANA CORREA DAVID CAMILO</td>\n      <td>41</td>\n      <td>75</td>\n      <td>10</td>\n      <td>6</td>\n      <td>54</td>\n    </tr>\n    <tr>\n      <th>30</th>\n      <td>AVILES HERNANDEZ CRISTIAN ADOLFO</td>\n      <td>37</td>\n      <td>58</td>\n      <td>94</td>\n      <td>39</td>\n      <td>31</td>\n    </tr>\n    <tr>\n      <th>31</th>\n      <td>GAHONA RAMIREZ JUAN DAVID</td>\n      <td>100</td>\n      <td>4</td>\n      <td>36</td>\n      <td>86</td>\n      <td>67</td>\n    </tr>\n    <tr>\n      <th>32</th>\n      <td>AGRONO CLAROS KATHERINE</td>\n      <td>73</td>\n      <td>93</td>\n      <td>97</td>\n      <td>35</td>\n      <td>17</td>\n    </tr>\n    <tr>\n      <th>33</th>\n      <td>RODRIGUEZ VANEGAS JANIER</td>\n      <td>83</td>\n      <td>39</td>\n      <td>4</td>\n      <td>52</td>\n      <td>97</td>\n    </tr>\n    <tr>\n      <th>34</th>\n      <td>MOLANO JULI@N</td>\n      <td>89</td>\n      <td>4</td>\n      <td>46</td>\n      <td>76</td>\n      <td>36</td>\n    </tr>\n    <tr>\n      <th>35</th>\n      <td>CAMACHO CABRERA JUAN DAVID</td>\n      <td>56</td>\n      <td>28</td>\n      <td>79</td>\n      <td>52</td>\n      <td>29</td>\n    </tr>\n    <tr>\n      <th>36</th>\n      <td>GUZMAN ROSERO CARLOS ENRIQUE</td>\n      <td>78</td>\n      <td>61</td>\n      <td>77</td>\n      <td>54</td>\n      <td>5</td>\n    </tr>\n    <tr>\n      <th>37</th>\n      <td>FERNANDO CRISTIAN</td>\n      <td>89</td>\n      <td>93</td>\n      <td>71</td>\n      <td>11</td>\n      <td>77</td>\n    </tr>\n    <tr>\n      <th>38</th>\n      <td>GARCES ORTIZ JUAN CARLOS</td>\n      <td>77</td>\n      <td>42</td>\n      <td>53</td>\n      <td>24</td>\n      <td>36</td>\n    </tr>\n    <tr>\n      <th>39</th>\n      <td>GARCIA QUIMBAYA CINDY YAZMIN</td>\n      <td>71</td>\n      <td>43</td>\n      <td>83</td>\n      <td>59</td>\n      <td>35</td>\n    </tr>\n    <tr>\n      <th>40</th>\n      <td>PARRA GASPAR JUAN CAMILO</td>\n      <td>47</td>\n      <td>90</td>\n      <td>48</td>\n      <td>34</td>\n      <td>96</td>\n    </tr>\n    <tr>\n      <th>41</th>\n      <td>NARVAEZ TORRES JHONATHAN</td>\n      <td>29</td>\n      <td>35</td>\n      <td>55</td>\n      <td>84</td>\n      <td>36</td>\n    </tr>\n    <tr>\n      <th>42</th>\n      <td>RUBIANO FIERRO DIANA MARCELA</td>\n      <td>83</td>\n      <td>4</td>\n      <td>76</td>\n      <td>97</td>\n      <td>26</td>\n    </tr>\n    <tr>\n      <th>43</th>\n      <td>CEDENO GUZMAN CRISTIAN JULIAN</td>\n      <td>81</td>\n      <td>25</td>\n      <td>20</td>\n      <td>100</td>\n      <td>38</td>\n    </tr>\n    <tr>\n      <th>44</th>\n      <td>MONTES MOSQUERA CAMILO ANDRES</td>\n      <td>86</td>\n      <td>60</td>\n      <td>63</td>\n      <td>66</td>\n      <td>87</td>\n    </tr>\n    <tr>\n      <th>45</th>\n      <td>ALDANA GUZMAN CRISTIAN IVAN</td>\n      <td>74</td>\n      <td>83</td>\n      <td>3</td>\n      <td>8</td>\n      <td>1</td>\n    </tr>\n    <tr>\n      <th>46</th>\n      <td>QUINTERO CARDOZO DUVAN DARIO</td>\n      <td>79</td>\n      <td>8</td>\n      <td>29</td>\n      <td>15</td>\n      <td>32</td>\n    </tr>\n    <tr>\n      <th>47</th>\n      <td>HERNANDEZ LUGO PABLO FRANCISCO</td>\n      <td>91</td>\n      <td>88</td>\n      <td>90</td>\n      <td>66</td>\n      <td>79</td>\n    </tr>\n    <tr>\n      <th>48</th>\n      <td>MENDEZ MEDINA EDGAR HERNANDO</td>\n      <td>80</td>\n      <td>36</td>\n      <td>57</td>\n      <td>100</td>\n      <td>96</td>\n    </tr>\n    <tr>\n      <th>49</th>\n      <td>CRUZ INFANTE MAYCOL JOSE</td>\n      <td>88</td>\n      <td>22</td>\n      <td>94</td>\n      <td>16</td>\n      <td>72</td>\n    </tr>\n    <tr>\n      <th>50</th>\n      <td>JIMENEZ ESCOBAR ANGIE DANIELA</td>\n      <td>68</td>\n      <td>41</td>\n      <td>34</td>\n      <td>89</td>\n      <td>29</td>\n    </tr>\n    <tr>\n      <th>51</th>\n      <td>PARRALES TORRES JOSE DAVID</td>\n      <td>49</td>\n      <td>62</td>\n      <td>68</td>\n      <td>68</td>\n      <td>5</td>\n    </tr>\n    <tr>\n      <th>52</th>\n      <td>JIMENEZ RODRIGUEZ DEIVY ALEXANDER</td>\n      <td>1</td>\n      <td>58</td>\n      <td>66</td>\n      <td>33</td>\n      <td>82</td>\n    </tr>\n    <tr>\n      <th>53</th>\n      <td>RODRIGUEZ TIQUE NESTOR</td>\n      <td>95</td>\n      <td>8</td>\n      <td>65</td>\n      <td>81</td>\n      <td>89</td>\n    </tr>\n    <tr>\n      <th>54</th>\n      <td>GARNICA CIFUENTES JUAN FERNANDO</td>\n      <td>34</td>\n      <td>58</td>\n      <td>24</td>\n      <td>8</td>\n      <td>11</td>\n    </tr>\n    <tr>\n      <th>55</th>\n      <td>SANDOVAL ORTIZ PAOLY EUGENIA</td>\n      <td>64</td>\n      <td>71</td>\n      <td>12</td>\n      <td>37</td>\n      <td>44</td>\n    </tr>\n    <tr>\n      <th>56</th>\n      <td>CORREDOR CAJICA ESTEBAN FERNANDO</td>\n      <td>9</td>\n      <td>4</td>\n      <td>72</td>\n      <td>64</td>\n      <td>47</td>\n    </tr>\n  </tbody>\n</table>\n</div>"
     },
     "metadata": {},
     "execution_count": 142
    }
   ],
   "source": [
    "archivo = pd.read_csv('https://raw.githubusercontent.com/JParrales/mision-tic-2021-ciclo_python/master/G25/Reto%205/notas.csv')\n",
    "archivo"
   ]
  },
  {
   "cell_type": "code",
   "execution_count": 143,
   "metadata": {},
   "outputs": [
    {
     "output_type": "execute_result",
     "data": {
      "text/plain": [
       "pandas.core.frame.DataFrame"
      ]
     },
     "metadata": {},
     "execution_count": 143
    }
   ],
   "source": [
    "type(archivo)"
   ]
  },
  {
   "cell_type": "code",
   "execution_count": 144,
   "metadata": {},
   "outputs": [
    {
     "output_type": "execute_result",
     "data": {
      "text/plain": [
       "Index(['ESTUDIANTE', 'MATEMATICA', 'LENGUAJE', 'CIENCIAS', 'CIUDADANAS',\n",
       "       'IDIOMAS'],\n",
       "      dtype='object')"
      ]
     },
     "metadata": {},
     "execution_count": 144
    }
   ],
   "source": [
    "archivo.columns "
   ]
  },
  {
   "cell_type": "code",
   "execution_count": 145,
   "metadata": {},
   "outputs": [
    {
     "output_type": "execute_result",
     "data": {
      "text/plain": [
       "RangeIndex(start=0, stop=57, step=1)"
      ]
     },
     "metadata": {},
     "execution_count": 145
    }
   ],
   "source": [
    "archivo.index"
   ]
  },
  {
   "cell_type": "code",
   "execution_count": 146,
   "metadata": {},
   "outputs": [
    {
     "output_type": "execute_result",
     "data": {
      "text/plain": [
       "                        ESTUDIANTE  MATEMATICA  LENGUAJE  CIENCIAS  \\\n",
       "0     SUAREZ ROLDAN MONICA YULIETH          27        49        98   \n",
       "1             PLAZA SANCHEZ ALBERT          47         8        68   \n",
       "2      AGUIRRE RUBIANO RUBEN DARIO          53        21        38   \n",
       "3     BUITRAGO CARDOZO DIANA PAOLA          49        34        20   \n",
       "4       MOTTA CADENA LAURA NATALIA          12        77        89   \n",
       "5        CABRERA CHAVARRO NATHALIE          14        18        42   \n",
       "6          LOPEZ PAEZ MIGUEL ANGEL          91        61        34   \n",
       "7     GUEVARA PINILLA FABIAN DAVID          40        47        25   \n",
       "8     SANCHEZ PERDOMO RODRIGO JOSE          47        92        68   \n",
       "9  RODRIGUEZ GONZALEZ NESTOR DAVID           5        27        12   \n",
       "\n",
       "   CIUDADANAS  IDIOMAS  \n",
       "0           8       79  \n",
       "1          54       94  \n",
       "2          59       14  \n",
       "3          65       11  \n",
       "4          57       84  \n",
       "5          86       39  \n",
       "6          29      100  \n",
       "7          77       52  \n",
       "8          26       54  \n",
       "9          12       54  "
      ],
      "text/html": "<div>\n<style scoped>\n    .dataframe tbody tr th:only-of-type {\n        vertical-align: middle;\n    }\n\n    .dataframe tbody tr th {\n        vertical-align: top;\n    }\n\n    .dataframe thead th {\n        text-align: right;\n    }\n</style>\n<table border=\"1\" class=\"dataframe\">\n  <thead>\n    <tr style=\"text-align: right;\">\n      <th></th>\n      <th>ESTUDIANTE</th>\n      <th>MATEMATICA</th>\n      <th>LENGUAJE</th>\n      <th>CIENCIAS</th>\n      <th>CIUDADANAS</th>\n      <th>IDIOMAS</th>\n    </tr>\n  </thead>\n  <tbody>\n    <tr>\n      <th>0</th>\n      <td>SUAREZ ROLDAN MONICA YULIETH</td>\n      <td>27</td>\n      <td>49</td>\n      <td>98</td>\n      <td>8</td>\n      <td>79</td>\n    </tr>\n    <tr>\n      <th>1</th>\n      <td>PLAZA SANCHEZ ALBERT</td>\n      <td>47</td>\n      <td>8</td>\n      <td>68</td>\n      <td>54</td>\n      <td>94</td>\n    </tr>\n    <tr>\n      <th>2</th>\n      <td>AGUIRRE RUBIANO RUBEN DARIO</td>\n      <td>53</td>\n      <td>21</td>\n      <td>38</td>\n      <td>59</td>\n      <td>14</td>\n    </tr>\n    <tr>\n      <th>3</th>\n      <td>BUITRAGO CARDOZO DIANA PAOLA</td>\n      <td>49</td>\n      <td>34</td>\n      <td>20</td>\n      <td>65</td>\n      <td>11</td>\n    </tr>\n    <tr>\n      <th>4</th>\n      <td>MOTTA CADENA LAURA NATALIA</td>\n      <td>12</td>\n      <td>77</td>\n      <td>89</td>\n      <td>57</td>\n      <td>84</td>\n    </tr>\n    <tr>\n      <th>5</th>\n      <td>CABRERA CHAVARRO NATHALIE</td>\n      <td>14</td>\n      <td>18</td>\n      <td>42</td>\n      <td>86</td>\n      <td>39</td>\n    </tr>\n    <tr>\n      <th>6</th>\n      <td>LOPEZ PAEZ MIGUEL ANGEL</td>\n      <td>91</td>\n      <td>61</td>\n      <td>34</td>\n      <td>29</td>\n      <td>100</td>\n    </tr>\n    <tr>\n      <th>7</th>\n      <td>GUEVARA PINILLA FABIAN DAVID</td>\n      <td>40</td>\n      <td>47</td>\n      <td>25</td>\n      <td>77</td>\n      <td>52</td>\n    </tr>\n    <tr>\n      <th>8</th>\n      <td>SANCHEZ PERDOMO RODRIGO JOSE</td>\n      <td>47</td>\n      <td>92</td>\n      <td>68</td>\n      <td>26</td>\n      <td>54</td>\n    </tr>\n    <tr>\n      <th>9</th>\n      <td>RODRIGUEZ GONZALEZ NESTOR DAVID</td>\n      <td>5</td>\n      <td>27</td>\n      <td>12</td>\n      <td>12</td>\n      <td>54</td>\n    </tr>\n  </tbody>\n</table>\n</div>"
     },
     "metadata": {},
     "execution_count": 146
    }
   ],
   "source": [
    "archivo.head(10)"
   ]
  },
  {
   "cell_type": "code",
   "execution_count": 147,
   "metadata": {},
   "outputs": [
    {
     "output_type": "execute_result",
     "data": {
      "text/plain": [
       "                     ESTUDIANTE  MATEMATICA  LENGUAJE  CIENCIAS  CIUDADANAS  \\\n",
       "0  SUAREZ ROLDAN MONICA YULIETH          27        49        98           8   \n",
       "1          PLAZA SANCHEZ ALBERT          47         8        68          54   \n",
       "2   AGUIRRE RUBIANO RUBEN DARIO          53        21        38          59   \n",
       "3  BUITRAGO CARDOZO DIANA PAOLA          49        34        20          65   \n",
       "4    MOTTA CADENA LAURA NATALIA          12        77        89          57   \n",
       "\n",
       "   IDIOMAS  PUNTAJE  \n",
       "0       79      261  \n",
       "1       94      271  \n",
       "2       14      185  \n",
       "3       11      179  \n",
       "4       84      319  "
      ],
      "text/html": "<div>\n<style scoped>\n    .dataframe tbody tr th:only-of-type {\n        vertical-align: middle;\n    }\n\n    .dataframe tbody tr th {\n        vertical-align: top;\n    }\n\n    .dataframe thead th {\n        text-align: right;\n    }\n</style>\n<table border=\"1\" class=\"dataframe\">\n  <thead>\n    <tr style=\"text-align: right;\">\n      <th></th>\n      <th>ESTUDIANTE</th>\n      <th>MATEMATICA</th>\n      <th>LENGUAJE</th>\n      <th>CIENCIAS</th>\n      <th>CIUDADANAS</th>\n      <th>IDIOMAS</th>\n      <th>PUNTAJE</th>\n    </tr>\n  </thead>\n  <tbody>\n    <tr>\n      <th>0</th>\n      <td>SUAREZ ROLDAN MONICA YULIETH</td>\n      <td>27</td>\n      <td>49</td>\n      <td>98</td>\n      <td>8</td>\n      <td>79</td>\n      <td>261</td>\n    </tr>\n    <tr>\n      <th>1</th>\n      <td>PLAZA SANCHEZ ALBERT</td>\n      <td>47</td>\n      <td>8</td>\n      <td>68</td>\n      <td>54</td>\n      <td>94</td>\n      <td>271</td>\n    </tr>\n    <tr>\n      <th>2</th>\n      <td>AGUIRRE RUBIANO RUBEN DARIO</td>\n      <td>53</td>\n      <td>21</td>\n      <td>38</td>\n      <td>59</td>\n      <td>14</td>\n      <td>185</td>\n    </tr>\n    <tr>\n      <th>3</th>\n      <td>BUITRAGO CARDOZO DIANA PAOLA</td>\n      <td>49</td>\n      <td>34</td>\n      <td>20</td>\n      <td>65</td>\n      <td>11</td>\n      <td>179</td>\n    </tr>\n    <tr>\n      <th>4</th>\n      <td>MOTTA CADENA LAURA NATALIA</td>\n      <td>12</td>\n      <td>77</td>\n      <td>89</td>\n      <td>57</td>\n      <td>84</td>\n      <td>319</td>\n    </tr>\n  </tbody>\n</table>\n</div>"
     },
     "metadata": {},
     "execution_count": 147
    }
   ],
   "source": [
    "archivo['PUNTAJE'] = archivo['MATEMATICA'] + archivo['LENGUAJE'] + archivo['CIENCIAS'] + archivo['CIUDADANAS'] + archivo['IDIOMAS']\n",
    "archivo.head()"
   ]
  },
  {
   "cell_type": "code",
   "execution_count": 148,
   "metadata": {},
   "outputs": [
    {
     "output_type": "execute_result",
     "data": {
      "text/plain": [
       "                           ESTUDIANTE  MATEMATICA  LENGUAJE  CIENCIAS  \\\n",
       "32            AGRONO CLAROS KATHERINE          73        93        97   \n",
       "2         AGUIRRE RUBIANO RUBEN DARIO          53        21        38   \n",
       "45        ALDANA GUZMAN CRISTIAN IVAN          74        83         3   \n",
       "23      ARROYAVE QUEZADA JOSE ORLANDO          21        87         6   \n",
       "30   AVILES HERNANDEZ CRISTIAN ADOLFO          37        58        94   \n",
       "3        BUITRAGO CARDOZO DIANA PAOLA          49        34        20   \n",
       "5           CABRERA CHAVARRO NATHALIE          14        18        42   \n",
       "21        CADENA DIAZ DIEGO ALEJANDRO          78         2        51   \n",
       "35         CAMACHO CABRERA JUAN DAVID          56        28        79   \n",
       "43      CEDENO GUZMAN CRISTIAN JULIAN          81        25        20   \n",
       "19        CHARRY MORENO ANDRES FELIPE           8        95        11   \n",
       "56   CORREDOR CAJICA ESTEBAN FERNANDO           9         4        72   \n",
       "49           CRUZ INFANTE MAYCOL JOSE          88        22        94   \n",
       "28              CUELLAR YUSTRES FREDY          40        88        34   \n",
       "37                  FERNANDO CRISTIAN          89        93        71   \n",
       "31          GAHONA RAMIREZ JUAN DAVID         100         4        36   \n",
       "38           GARCES ORTIZ JUAN CARLOS          77        42        53   \n",
       "39       GARCIA QUIMBAYA CINDY YAZMIN          71        43        83   \n",
       "54    GARNICA CIFUENTES JUAN FERNANDO          34        58        24   \n",
       "7        GUEVARA PINILLA FABIAN DAVID          40        47        25   \n",
       "36       GUZMAN ROSERO CARLOS ENRIQUE          78        61        77   \n",
       "47     HERNANDEZ LUGO PABLO FRANCISCO          91        88        90   \n",
       "27         JAVELA MASMELA LUIS EVELIO          82         2        59   \n",
       "50      JIMENEZ ESCOBAR ANGIE DANIELA          68        41        34   \n",
       "52  JIMENEZ RODRIGUEZ DEIVY ALEXANDER           1        58        66   \n",
       "15     LAMILLA TRUJILLO MARIA DEL MAR          76        71        26   \n",
       "6             LOPEZ PAEZ MIGUEL ANGEL          91        61        34   \n",
       "20    MANCHOLA PERDOMO MARIA FERNANDA           3        77        81   \n",
       "48       MENDEZ MEDINA EDGAR HERNANDO          80        36        57   \n",
       "34                      MOLANO JULI@N          89         4        46   \n",
       "22         MONROY ARDILA KELLY VANESA          42        74        80   \n",
       "44      MONTES MOSQUERA CAMILO ANDRES          86        60        63   \n",
       "4          MOTTA CADENA LAURA NATALIA          12        77        89   \n",
       "14          MOTTA DUSSAN PAULA ANDREA          20        20        10   \n",
       "41           NARVAEZ TORRES JHONATHAN          29        35        55   \n",
       "40           PARRA GASPAR JUAN CAMILO          47        90        48   \n",
       "51         PARRALES TORRES JOSE DAVID          49        62        68   \n",
       "10     PARRASI YANGUMA JUAN SEBASTIAN          28        78        32   \n",
       "12     PASTRANA ARDILA JUAN SEBASTIAN          98        21        89   \n",
       "1                PLAZA SANCHEZ ALBERT          47         8        68   \n",
       "46       QUINTERO CARDOZO DUVAN DARIO          79         8        29   \n",
       "13  QUINTERO CARDOZO NESTOR ALEJANDRO          98        15        90   \n",
       "24       RAMIREZ BARRETO DIEGO ANDRES          69        57        75   \n",
       "16     RINCON HERNANDEZ HEIDY TATIANA          32        50         4   \n",
       "18       RIOS RODRIGUEZ ANDRES FELIPE          83        46        21   \n",
       "9     RODRIGUEZ GONZALEZ NESTOR DAVID           5        27        12   \n",
       "53             RODRIGUEZ TIQUE NESTOR          95         8        65   \n",
       "33           RODRIGUEZ VANEGAS JANIER          83        39         4   \n",
       "42       RUBIANO FIERRO DIANA MARCELA          83         4        76   \n",
       "25        SALAZAR CANO JULY ALEXANDRA           5        33        50   \n",
       "8        SANCHEZ PERDOMO RODRIGO JOSE          47        92        68   \n",
       "55       SANDOVAL ORTIZ PAOLY EUGENIA          64        71        12   \n",
       "29        SANTANA CORREA DAVID CAMILO          41        75        10   \n",
       "11        SIERRA TRUJILLO JUAN CARLOS          96        14        64   \n",
       "0        SUAREZ ROLDAN MONICA YULIETH          27        49        98   \n",
       "26       TRUJILLO CUERVO LUIS GONZAGA           9        33        81   \n",
       "17             VILLALBA QUESADA SONIA          29        36        66   \n",
       "\n",
       "    CIUDADANAS  IDIOMAS  PUNTAJE  \n",
       "32          35       17      315  \n",
       "2           59       14      185  \n",
       "45           8        1      169  \n",
       "23          40       61      215  \n",
       "30          39       31      259  \n",
       "3           65       11      179  \n",
       "5           86       39      199  \n",
       "21          84        7      222  \n",
       "35          52       29      244  \n",
       "43         100       38      264  \n",
       "19           5       83      202  \n",
       "56          64       47      196  \n",
       "49          16       72      292  \n",
       "28          10       36      208  \n",
       "37          11       77      341  \n",
       "31          86       67      293  \n",
       "38          24       36      232  \n",
       "39          59       35      291  \n",
       "54           8       11      135  \n",
       "7           77       52      241  \n",
       "36          54        5      275  \n",
       "47          66       79      414  \n",
       "27          65       66      274  \n",
       "50          89       29      261  \n",
       "52          33       82      240  \n",
       "15          33       49      255  \n",
       "6           29      100      315  \n",
       "20          92       83      336  \n",
       "48         100       96      369  \n",
       "34          76       36      251  \n",
       "22           9      100      305  \n",
       "44          66       87      362  \n",
       "4           57       84      319  \n",
       "14           7        5       62  \n",
       "41          84       36      239  \n",
       "40          34       96      315  \n",
       "51          68        5      252  \n",
       "10          79       66      283  \n",
       "12          31       62      301  \n",
       "1           54       94      271  \n",
       "46          15       32      163  \n",
       "13           3       60      266  \n",
       "24          46        9      256  \n",
       "16          56       46      188  \n",
       "18          29       52      231  \n",
       "9           12       54      110  \n",
       "53          81       89      338  \n",
       "33          52       97      275  \n",
       "42          97       26      286  \n",
       "25           7       74      169  \n",
       "8           26       54      287  \n",
       "55          37       44      228  \n",
       "29           6       54      186  \n",
       "11          51       55      280  \n",
       "0            8       79      261  \n",
       "26          30       46      199  \n",
       "17           7       17      155  "
      ],
      "text/html": "<div>\n<style scoped>\n    .dataframe tbody tr th:only-of-type {\n        vertical-align: middle;\n    }\n\n    .dataframe tbody tr th {\n        vertical-align: top;\n    }\n\n    .dataframe thead th {\n        text-align: right;\n    }\n</style>\n<table border=\"1\" class=\"dataframe\">\n  <thead>\n    <tr style=\"text-align: right;\">\n      <th></th>\n      <th>ESTUDIANTE</th>\n      <th>MATEMATICA</th>\n      <th>LENGUAJE</th>\n      <th>CIENCIAS</th>\n      <th>CIUDADANAS</th>\n      <th>IDIOMAS</th>\n      <th>PUNTAJE</th>\n    </tr>\n  </thead>\n  <tbody>\n    <tr>\n      <th>32</th>\n      <td>AGRONO CLAROS KATHERINE</td>\n      <td>73</td>\n      <td>93</td>\n      <td>97</td>\n      <td>35</td>\n      <td>17</td>\n      <td>315</td>\n    </tr>\n    <tr>\n      <th>2</th>\n      <td>AGUIRRE RUBIANO RUBEN DARIO</td>\n      <td>53</td>\n      <td>21</td>\n      <td>38</td>\n      <td>59</td>\n      <td>14</td>\n      <td>185</td>\n    </tr>\n    <tr>\n      <th>45</th>\n      <td>ALDANA GUZMAN CRISTIAN IVAN</td>\n      <td>74</td>\n      <td>83</td>\n      <td>3</td>\n      <td>8</td>\n      <td>1</td>\n      <td>169</td>\n    </tr>\n    <tr>\n      <th>23</th>\n      <td>ARROYAVE QUEZADA JOSE ORLANDO</td>\n      <td>21</td>\n      <td>87</td>\n      <td>6</td>\n      <td>40</td>\n      <td>61</td>\n      <td>215</td>\n    </tr>\n    <tr>\n      <th>30</th>\n      <td>AVILES HERNANDEZ CRISTIAN ADOLFO</td>\n      <td>37</td>\n      <td>58</td>\n      <td>94</td>\n      <td>39</td>\n      <td>31</td>\n      <td>259</td>\n    </tr>\n    <tr>\n      <th>3</th>\n      <td>BUITRAGO CARDOZO DIANA PAOLA</td>\n      <td>49</td>\n      <td>34</td>\n      <td>20</td>\n      <td>65</td>\n      <td>11</td>\n      <td>179</td>\n    </tr>\n    <tr>\n      <th>5</th>\n      <td>CABRERA CHAVARRO NATHALIE</td>\n      <td>14</td>\n      <td>18</td>\n      <td>42</td>\n      <td>86</td>\n      <td>39</td>\n      <td>199</td>\n    </tr>\n    <tr>\n      <th>21</th>\n      <td>CADENA DIAZ DIEGO ALEJANDRO</td>\n      <td>78</td>\n      <td>2</td>\n      <td>51</td>\n      <td>84</td>\n      <td>7</td>\n      <td>222</td>\n    </tr>\n    <tr>\n      <th>35</th>\n      <td>CAMACHO CABRERA JUAN DAVID</td>\n      <td>56</td>\n      <td>28</td>\n      <td>79</td>\n      <td>52</td>\n      <td>29</td>\n      <td>244</td>\n    </tr>\n    <tr>\n      <th>43</th>\n      <td>CEDENO GUZMAN CRISTIAN JULIAN</td>\n      <td>81</td>\n      <td>25</td>\n      <td>20</td>\n      <td>100</td>\n      <td>38</td>\n      <td>264</td>\n    </tr>\n    <tr>\n      <th>19</th>\n      <td>CHARRY MORENO ANDRES FELIPE</td>\n      <td>8</td>\n      <td>95</td>\n      <td>11</td>\n      <td>5</td>\n      <td>83</td>\n      <td>202</td>\n    </tr>\n    <tr>\n      <th>56</th>\n      <td>CORREDOR CAJICA ESTEBAN FERNANDO</td>\n      <td>9</td>\n      <td>4</td>\n      <td>72</td>\n      <td>64</td>\n      <td>47</td>\n      <td>196</td>\n    </tr>\n    <tr>\n      <th>49</th>\n      <td>CRUZ INFANTE MAYCOL JOSE</td>\n      <td>88</td>\n      <td>22</td>\n      <td>94</td>\n      <td>16</td>\n      <td>72</td>\n      <td>292</td>\n    </tr>\n    <tr>\n      <th>28</th>\n      <td>CUELLAR YUSTRES FREDY</td>\n      <td>40</td>\n      <td>88</td>\n      <td>34</td>\n      <td>10</td>\n      <td>36</td>\n      <td>208</td>\n    </tr>\n    <tr>\n      <th>37</th>\n      <td>FERNANDO CRISTIAN</td>\n      <td>89</td>\n      <td>93</td>\n      <td>71</td>\n      <td>11</td>\n      <td>77</td>\n      <td>341</td>\n    </tr>\n    <tr>\n      <th>31</th>\n      <td>GAHONA RAMIREZ JUAN DAVID</td>\n      <td>100</td>\n      <td>4</td>\n      <td>36</td>\n      <td>86</td>\n      <td>67</td>\n      <td>293</td>\n    </tr>\n    <tr>\n      <th>38</th>\n      <td>GARCES ORTIZ JUAN CARLOS</td>\n      <td>77</td>\n      <td>42</td>\n      <td>53</td>\n      <td>24</td>\n      <td>36</td>\n      <td>232</td>\n    </tr>\n    <tr>\n      <th>39</th>\n      <td>GARCIA QUIMBAYA CINDY YAZMIN</td>\n      <td>71</td>\n      <td>43</td>\n      <td>83</td>\n      <td>59</td>\n      <td>35</td>\n      <td>291</td>\n    </tr>\n    <tr>\n      <th>54</th>\n      <td>GARNICA CIFUENTES JUAN FERNANDO</td>\n      <td>34</td>\n      <td>58</td>\n      <td>24</td>\n      <td>8</td>\n      <td>11</td>\n      <td>135</td>\n    </tr>\n    <tr>\n      <th>7</th>\n      <td>GUEVARA PINILLA FABIAN DAVID</td>\n      <td>40</td>\n      <td>47</td>\n      <td>25</td>\n      <td>77</td>\n      <td>52</td>\n      <td>241</td>\n    </tr>\n    <tr>\n      <th>36</th>\n      <td>GUZMAN ROSERO CARLOS ENRIQUE</td>\n      <td>78</td>\n      <td>61</td>\n      <td>77</td>\n      <td>54</td>\n      <td>5</td>\n      <td>275</td>\n    </tr>\n    <tr>\n      <th>47</th>\n      <td>HERNANDEZ LUGO PABLO FRANCISCO</td>\n      <td>91</td>\n      <td>88</td>\n      <td>90</td>\n      <td>66</td>\n      <td>79</td>\n      <td>414</td>\n    </tr>\n    <tr>\n      <th>27</th>\n      <td>JAVELA MASMELA LUIS EVELIO</td>\n      <td>82</td>\n      <td>2</td>\n      <td>59</td>\n      <td>65</td>\n      <td>66</td>\n      <td>274</td>\n    </tr>\n    <tr>\n      <th>50</th>\n      <td>JIMENEZ ESCOBAR ANGIE DANIELA</td>\n      <td>68</td>\n      <td>41</td>\n      <td>34</td>\n      <td>89</td>\n      <td>29</td>\n      <td>261</td>\n    </tr>\n    <tr>\n      <th>52</th>\n      <td>JIMENEZ RODRIGUEZ DEIVY ALEXANDER</td>\n      <td>1</td>\n      <td>58</td>\n      <td>66</td>\n      <td>33</td>\n      <td>82</td>\n      <td>240</td>\n    </tr>\n    <tr>\n      <th>15</th>\n      <td>LAMILLA TRUJILLO MARIA DEL MAR</td>\n      <td>76</td>\n      <td>71</td>\n      <td>26</td>\n      <td>33</td>\n      <td>49</td>\n      <td>255</td>\n    </tr>\n    <tr>\n      <th>6</th>\n      <td>LOPEZ PAEZ MIGUEL ANGEL</td>\n      <td>91</td>\n      <td>61</td>\n      <td>34</td>\n      <td>29</td>\n      <td>100</td>\n      <td>315</td>\n    </tr>\n    <tr>\n      <th>20</th>\n      <td>MANCHOLA PERDOMO MARIA FERNANDA</td>\n      <td>3</td>\n      <td>77</td>\n      <td>81</td>\n      <td>92</td>\n      <td>83</td>\n      <td>336</td>\n    </tr>\n    <tr>\n      <th>48</th>\n      <td>MENDEZ MEDINA EDGAR HERNANDO</td>\n      <td>80</td>\n      <td>36</td>\n      <td>57</td>\n      <td>100</td>\n      <td>96</td>\n      <td>369</td>\n    </tr>\n    <tr>\n      <th>34</th>\n      <td>MOLANO JULI@N</td>\n      <td>89</td>\n      <td>4</td>\n      <td>46</td>\n      <td>76</td>\n      <td>36</td>\n      <td>251</td>\n    </tr>\n    <tr>\n      <th>22</th>\n      <td>MONROY ARDILA KELLY VANESA</td>\n      <td>42</td>\n      <td>74</td>\n      <td>80</td>\n      <td>9</td>\n      <td>100</td>\n      <td>305</td>\n    </tr>\n    <tr>\n      <th>44</th>\n      <td>MONTES MOSQUERA CAMILO ANDRES</td>\n      <td>86</td>\n      <td>60</td>\n      <td>63</td>\n      <td>66</td>\n      <td>87</td>\n      <td>362</td>\n    </tr>\n    <tr>\n      <th>4</th>\n      <td>MOTTA CADENA LAURA NATALIA</td>\n      <td>12</td>\n      <td>77</td>\n      <td>89</td>\n      <td>57</td>\n      <td>84</td>\n      <td>319</td>\n    </tr>\n    <tr>\n      <th>14</th>\n      <td>MOTTA DUSSAN PAULA ANDREA</td>\n      <td>20</td>\n      <td>20</td>\n      <td>10</td>\n      <td>7</td>\n      <td>5</td>\n      <td>62</td>\n    </tr>\n    <tr>\n      <th>41</th>\n      <td>NARVAEZ TORRES JHONATHAN</td>\n      <td>29</td>\n      <td>35</td>\n      <td>55</td>\n      <td>84</td>\n      <td>36</td>\n      <td>239</td>\n    </tr>\n    <tr>\n      <th>40</th>\n      <td>PARRA GASPAR JUAN CAMILO</td>\n      <td>47</td>\n      <td>90</td>\n      <td>48</td>\n      <td>34</td>\n      <td>96</td>\n      <td>315</td>\n    </tr>\n    <tr>\n      <th>51</th>\n      <td>PARRALES TORRES JOSE DAVID</td>\n      <td>49</td>\n      <td>62</td>\n      <td>68</td>\n      <td>68</td>\n      <td>5</td>\n      <td>252</td>\n    </tr>\n    <tr>\n      <th>10</th>\n      <td>PARRASI YANGUMA JUAN SEBASTIAN</td>\n      <td>28</td>\n      <td>78</td>\n      <td>32</td>\n      <td>79</td>\n      <td>66</td>\n      <td>283</td>\n    </tr>\n    <tr>\n      <th>12</th>\n      <td>PASTRANA ARDILA JUAN SEBASTIAN</td>\n      <td>98</td>\n      <td>21</td>\n      <td>89</td>\n      <td>31</td>\n      <td>62</td>\n      <td>301</td>\n    </tr>\n    <tr>\n      <th>1</th>\n      <td>PLAZA SANCHEZ ALBERT</td>\n      <td>47</td>\n      <td>8</td>\n      <td>68</td>\n      <td>54</td>\n      <td>94</td>\n      <td>271</td>\n    </tr>\n    <tr>\n      <th>46</th>\n      <td>QUINTERO CARDOZO DUVAN DARIO</td>\n      <td>79</td>\n      <td>8</td>\n      <td>29</td>\n      <td>15</td>\n      <td>32</td>\n      <td>163</td>\n    </tr>\n    <tr>\n      <th>13</th>\n      <td>QUINTERO CARDOZO NESTOR ALEJANDRO</td>\n      <td>98</td>\n      <td>15</td>\n      <td>90</td>\n      <td>3</td>\n      <td>60</td>\n      <td>266</td>\n    </tr>\n    <tr>\n      <th>24</th>\n      <td>RAMIREZ BARRETO DIEGO ANDRES</td>\n      <td>69</td>\n      <td>57</td>\n      <td>75</td>\n      <td>46</td>\n      <td>9</td>\n      <td>256</td>\n    </tr>\n    <tr>\n      <th>16</th>\n      <td>RINCON HERNANDEZ HEIDY TATIANA</td>\n      <td>32</td>\n      <td>50</td>\n      <td>4</td>\n      <td>56</td>\n      <td>46</td>\n      <td>188</td>\n    </tr>\n    <tr>\n      <th>18</th>\n      <td>RIOS RODRIGUEZ ANDRES FELIPE</td>\n      <td>83</td>\n      <td>46</td>\n      <td>21</td>\n      <td>29</td>\n      <td>52</td>\n      <td>231</td>\n    </tr>\n    <tr>\n      <th>9</th>\n      <td>RODRIGUEZ GONZALEZ NESTOR DAVID</td>\n      <td>5</td>\n      <td>27</td>\n      <td>12</td>\n      <td>12</td>\n      <td>54</td>\n      <td>110</td>\n    </tr>\n    <tr>\n      <th>53</th>\n      <td>RODRIGUEZ TIQUE NESTOR</td>\n      <td>95</td>\n      <td>8</td>\n      <td>65</td>\n      <td>81</td>\n      <td>89</td>\n      <td>338</td>\n    </tr>\n    <tr>\n      <th>33</th>\n      <td>RODRIGUEZ VANEGAS JANIER</td>\n      <td>83</td>\n      <td>39</td>\n      <td>4</td>\n      <td>52</td>\n      <td>97</td>\n      <td>275</td>\n    </tr>\n    <tr>\n      <th>42</th>\n      <td>RUBIANO FIERRO DIANA MARCELA</td>\n      <td>83</td>\n      <td>4</td>\n      <td>76</td>\n      <td>97</td>\n      <td>26</td>\n      <td>286</td>\n    </tr>\n    <tr>\n      <th>25</th>\n      <td>SALAZAR CANO JULY ALEXANDRA</td>\n      <td>5</td>\n      <td>33</td>\n      <td>50</td>\n      <td>7</td>\n      <td>74</td>\n      <td>169</td>\n    </tr>\n    <tr>\n      <th>8</th>\n      <td>SANCHEZ PERDOMO RODRIGO JOSE</td>\n      <td>47</td>\n      <td>92</td>\n      <td>68</td>\n      <td>26</td>\n      <td>54</td>\n      <td>287</td>\n    </tr>\n    <tr>\n      <th>55</th>\n      <td>SANDOVAL ORTIZ PAOLY EUGENIA</td>\n      <td>64</td>\n      <td>71</td>\n      <td>12</td>\n      <td>37</td>\n      <td>44</td>\n      <td>228</td>\n    </tr>\n    <tr>\n      <th>29</th>\n      <td>SANTANA CORREA DAVID CAMILO</td>\n      <td>41</td>\n      <td>75</td>\n      <td>10</td>\n      <td>6</td>\n      <td>54</td>\n      <td>186</td>\n    </tr>\n    <tr>\n      <th>11</th>\n      <td>SIERRA TRUJILLO JUAN CARLOS</td>\n      <td>96</td>\n      <td>14</td>\n      <td>64</td>\n      <td>51</td>\n      <td>55</td>\n      <td>280</td>\n    </tr>\n    <tr>\n      <th>0</th>\n      <td>SUAREZ ROLDAN MONICA YULIETH</td>\n      <td>27</td>\n      <td>49</td>\n      <td>98</td>\n      <td>8</td>\n      <td>79</td>\n      <td>261</td>\n    </tr>\n    <tr>\n      <th>26</th>\n      <td>TRUJILLO CUERVO LUIS GONZAGA</td>\n      <td>9</td>\n      <td>33</td>\n      <td>81</td>\n      <td>30</td>\n      <td>46</td>\n      <td>199</td>\n    </tr>\n    <tr>\n      <th>17</th>\n      <td>VILLALBA QUESADA SONIA</td>\n      <td>29</td>\n      <td>36</td>\n      <td>66</td>\n      <td>7</td>\n      <td>17</td>\n      <td>155</td>\n    </tr>\n  </tbody>\n</table>\n</div>"
     },
     "metadata": {},
     "execution_count": 148
    }
   ],
   "source": [
    "by_estudiante = archivo.sort_values('ESTUDIANTE')\n",
    "by_estudiante"
   ]
  },
  {
   "cell_type": "code",
   "execution_count": 149,
   "metadata": {},
   "outputs": [
    {
     "output_type": "execute_result",
     "data": {
      "text/plain": [
       "                        ESTUDIANTE  MATEMATICA  LENGUAJE  CIENCIAS  \\\n",
       "47  HERNANDEZ LUGO PABLO FRANCISCO          91        88        90   \n",
       "48    MENDEZ MEDINA EDGAR HERNANDO          80        36        57   \n",
       "44   MONTES MOSQUERA CAMILO ANDRES          86        60        63   \n",
       "37               FERNANDO CRISTIAN          89        93        71   \n",
       "53          RODRIGUEZ TIQUE NESTOR          95         8        65   \n",
       "\n",
       "    CIUDADANAS  IDIOMAS  PUNTAJE  \n",
       "47          66       79      414  \n",
       "48         100       96      369  \n",
       "44          66       87      362  \n",
       "37          11       77      341  \n",
       "53          81       89      338  "
      ],
      "text/html": "<div>\n<style scoped>\n    .dataframe tbody tr th:only-of-type {\n        vertical-align: middle;\n    }\n\n    .dataframe tbody tr th {\n        vertical-align: top;\n    }\n\n    .dataframe thead th {\n        text-align: right;\n    }\n</style>\n<table border=\"1\" class=\"dataframe\">\n  <thead>\n    <tr style=\"text-align: right;\">\n      <th></th>\n      <th>ESTUDIANTE</th>\n      <th>MATEMATICA</th>\n      <th>LENGUAJE</th>\n      <th>CIENCIAS</th>\n      <th>CIUDADANAS</th>\n      <th>IDIOMAS</th>\n      <th>PUNTAJE</th>\n    </tr>\n  </thead>\n  <tbody>\n    <tr>\n      <th>47</th>\n      <td>HERNANDEZ LUGO PABLO FRANCISCO</td>\n      <td>91</td>\n      <td>88</td>\n      <td>90</td>\n      <td>66</td>\n      <td>79</td>\n      <td>414</td>\n    </tr>\n    <tr>\n      <th>48</th>\n      <td>MENDEZ MEDINA EDGAR HERNANDO</td>\n      <td>80</td>\n      <td>36</td>\n      <td>57</td>\n      <td>100</td>\n      <td>96</td>\n      <td>369</td>\n    </tr>\n    <tr>\n      <th>44</th>\n      <td>MONTES MOSQUERA CAMILO ANDRES</td>\n      <td>86</td>\n      <td>60</td>\n      <td>63</td>\n      <td>66</td>\n      <td>87</td>\n      <td>362</td>\n    </tr>\n    <tr>\n      <th>37</th>\n      <td>FERNANDO CRISTIAN</td>\n      <td>89</td>\n      <td>93</td>\n      <td>71</td>\n      <td>11</td>\n      <td>77</td>\n      <td>341</td>\n    </tr>\n    <tr>\n      <th>53</th>\n      <td>RODRIGUEZ TIQUE NESTOR</td>\n      <td>95</td>\n      <td>8</td>\n      <td>65</td>\n      <td>81</td>\n      <td>89</td>\n      <td>338</td>\n    </tr>\n  </tbody>\n</table>\n</div>"
     },
     "metadata": {},
     "execution_count": 149
    }
   ],
   "source": [
    "by_puntaje = archivo.sort_values('PUNTAJE', ascending=False).head()\n",
    "by_puntaje"
   ]
  },
  {
   "cell_type": "code",
   "execution_count": 150,
   "metadata": {},
   "outputs": [
    {
     "output_type": "execute_result",
     "data": {
      "text/plain": [
       "                                MATEMATICA  LENGUAJE  CIENCIAS  CIUDADANAS  \\\n",
       "ESTUDIANTE                                                                   \n",
       "HERNANDEZ LUGO PABLO FRANCISCO          91        88        90          66   \n",
       "MENDEZ MEDINA EDGAR HERNANDO            80        36        57         100   \n",
       "MONTES MOSQUERA CAMILO ANDRES           86        60        63          66   \n",
       "FERNANDO CRISTIAN                       89        93        71          11   \n",
       "RODRIGUEZ TIQUE NESTOR                  95         8        65          81   \n",
       "\n",
       "                                IDIOMAS  PUNTAJE  \n",
       "ESTUDIANTE                                        \n",
       "HERNANDEZ LUGO PABLO FRANCISCO       79      414  \n",
       "MENDEZ MEDINA EDGAR HERNANDO         96      369  \n",
       "MONTES MOSQUERA CAMILO ANDRES        87      362  \n",
       "FERNANDO CRISTIAN                    77      341  \n",
       "RODRIGUEZ TIQUE NESTOR               89      338  "
      ],
      "text/html": "<div>\n<style scoped>\n    .dataframe tbody tr th:only-of-type {\n        vertical-align: middle;\n    }\n\n    .dataframe tbody tr th {\n        vertical-align: top;\n    }\n\n    .dataframe thead th {\n        text-align: right;\n    }\n</style>\n<table border=\"1\" class=\"dataframe\">\n  <thead>\n    <tr style=\"text-align: right;\">\n      <th></th>\n      <th>MATEMATICA</th>\n      <th>LENGUAJE</th>\n      <th>CIENCIAS</th>\n      <th>CIUDADANAS</th>\n      <th>IDIOMAS</th>\n      <th>PUNTAJE</th>\n    </tr>\n    <tr>\n      <th>ESTUDIANTE</th>\n      <th></th>\n      <th></th>\n      <th></th>\n      <th></th>\n      <th></th>\n      <th></th>\n    </tr>\n  </thead>\n  <tbody>\n    <tr>\n      <th>HERNANDEZ LUGO PABLO FRANCISCO</th>\n      <td>91</td>\n      <td>88</td>\n      <td>90</td>\n      <td>66</td>\n      <td>79</td>\n      <td>414</td>\n    </tr>\n    <tr>\n      <th>MENDEZ MEDINA EDGAR HERNANDO</th>\n      <td>80</td>\n      <td>36</td>\n      <td>57</td>\n      <td>100</td>\n      <td>96</td>\n      <td>369</td>\n    </tr>\n    <tr>\n      <th>MONTES MOSQUERA CAMILO ANDRES</th>\n      <td>86</td>\n      <td>60</td>\n      <td>63</td>\n      <td>66</td>\n      <td>87</td>\n      <td>362</td>\n    </tr>\n    <tr>\n      <th>FERNANDO CRISTIAN</th>\n      <td>89</td>\n      <td>93</td>\n      <td>71</td>\n      <td>11</td>\n      <td>77</td>\n      <td>341</td>\n    </tr>\n    <tr>\n      <th>RODRIGUEZ TIQUE NESTOR</th>\n      <td>95</td>\n      <td>8</td>\n      <td>65</td>\n      <td>81</td>\n      <td>89</td>\n      <td>338</td>\n    </tr>\n  </tbody>\n</table>\n</div>"
     },
     "metadata": {},
     "execution_count": 150
    }
   ],
   "source": [
    "by_estudiante = by_puntaje.set_index('ESTUDIANTE')\n",
    "by_estudiante"
   ]
  },
  {
   "cell_type": "code",
   "execution_count": 151,
   "metadata": {},
   "outputs": [
    {
     "output_type": "execute_result",
     "data": {
      "text/plain": [
       "                        ESTUDIANTE  PUNTAJE\n",
       "47  HERNANDEZ LUGO PABLO FRANCISCO      414\n",
       "48    MENDEZ MEDINA EDGAR HERNANDO      369\n",
       "44   MONTES MOSQUERA CAMILO ANDRES      362\n",
       "37               FERNANDO CRISTIAN      341\n",
       "53          RODRIGUEZ TIQUE NESTOR      338"
      ],
      "text/html": "<div>\n<style scoped>\n    .dataframe tbody tr th:only-of-type {\n        vertical-align: middle;\n    }\n\n    .dataframe tbody tr th {\n        vertical-align: top;\n    }\n\n    .dataframe thead th {\n        text-align: right;\n    }\n</style>\n<table border=\"1\" class=\"dataframe\">\n  <thead>\n    <tr style=\"text-align: right;\">\n      <th></th>\n      <th>ESTUDIANTE</th>\n      <th>PUNTAJE</th>\n    </tr>\n  </thead>\n  <tbody>\n    <tr>\n      <th>47</th>\n      <td>HERNANDEZ LUGO PABLO FRANCISCO</td>\n      <td>414</td>\n    </tr>\n    <tr>\n      <th>48</th>\n      <td>MENDEZ MEDINA EDGAR HERNANDO</td>\n      <td>369</td>\n    </tr>\n    <tr>\n      <th>44</th>\n      <td>MONTES MOSQUERA CAMILO ANDRES</td>\n      <td>362</td>\n    </tr>\n    <tr>\n      <th>37</th>\n      <td>FERNANDO CRISTIAN</td>\n      <td>341</td>\n    </tr>\n    <tr>\n      <th>53</th>\n      <td>RODRIGUEZ TIQUE NESTOR</td>\n      <td>338</td>\n    </tr>\n  </tbody>\n</table>\n</div>"
     },
     "metadata": {},
     "execution_count": 151
    }
   ],
   "source": [
    "tabla_1 = by_puntaje[['ESTUDIANTE', 'PUNTAJE']]\n",
    "tabla_1"
   ]
  },
  {
   "cell_type": "code",
   "execution_count": 152,
   "metadata": {},
   "outputs": [
    {
     "output_type": "execute_result",
     "data": {
      "text/plain": [
       "                            ESTUDIANTE  MATEMATICA  LENGUAJE  CIENCIAS  \\\n",
       "PUESTO                                                                   \n",
       "1       HERNANDEZ LUGO PABLO FRANCISCO          91        88        90   \n",
       "2         MENDEZ MEDINA EDGAR HERNANDO          80        36        57   \n",
       "3        MONTES MOSQUERA CAMILO ANDRES          86        60        63   \n",
       "4                    FERNANDO CRISTIAN          89        93        71   \n",
       "5               RODRIGUEZ TIQUE NESTOR          95         8        65   \n",
       "\n",
       "        CIUDADANAS  IDIOMAS  PUNTAJE  \n",
       "PUESTO                                \n",
       "1               66       79      414  \n",
       "2              100       96      369  \n",
       "3               66       87      362  \n",
       "4               11       77      341  \n",
       "5               81       89      338  "
      ],
      "text/html": "<div>\n<style scoped>\n    .dataframe tbody tr th:only-of-type {\n        vertical-align: middle;\n    }\n\n    .dataframe tbody tr th {\n        vertical-align: top;\n    }\n\n    .dataframe thead th {\n        text-align: right;\n    }\n</style>\n<table border=\"1\" class=\"dataframe\">\n  <thead>\n    <tr style=\"text-align: right;\">\n      <th></th>\n      <th>ESTUDIANTE</th>\n      <th>MATEMATICA</th>\n      <th>LENGUAJE</th>\n      <th>CIENCIAS</th>\n      <th>CIUDADANAS</th>\n      <th>IDIOMAS</th>\n      <th>PUNTAJE</th>\n    </tr>\n    <tr>\n      <th>PUESTO</th>\n      <th></th>\n      <th></th>\n      <th></th>\n      <th></th>\n      <th></th>\n      <th></th>\n      <th></th>\n    </tr>\n  </thead>\n  <tbody>\n    <tr>\n      <th>1</th>\n      <td>HERNANDEZ LUGO PABLO FRANCISCO</td>\n      <td>91</td>\n      <td>88</td>\n      <td>90</td>\n      <td>66</td>\n      <td>79</td>\n      <td>414</td>\n    </tr>\n    <tr>\n      <th>2</th>\n      <td>MENDEZ MEDINA EDGAR HERNANDO</td>\n      <td>80</td>\n      <td>36</td>\n      <td>57</td>\n      <td>100</td>\n      <td>96</td>\n      <td>369</td>\n    </tr>\n    <tr>\n      <th>3</th>\n      <td>MONTES MOSQUERA CAMILO ANDRES</td>\n      <td>86</td>\n      <td>60</td>\n      <td>63</td>\n      <td>66</td>\n      <td>87</td>\n      <td>362</td>\n    </tr>\n    <tr>\n      <th>4</th>\n      <td>FERNANDO CRISTIAN</td>\n      <td>89</td>\n      <td>93</td>\n      <td>71</td>\n      <td>11</td>\n      <td>77</td>\n      <td>341</td>\n    </tr>\n    <tr>\n      <th>5</th>\n      <td>RODRIGUEZ TIQUE NESTOR</td>\n      <td>95</td>\n      <td>8</td>\n      <td>65</td>\n      <td>81</td>\n      <td>89</td>\n      <td>338</td>\n    </tr>\n  </tbody>\n</table>\n</div>"
     },
     "metadata": {},
     "execution_count": 152
    }
   ],
   "source": [
    "puestos = [1,2,3,4,5]\n",
    "tabla_1 = by_puntaje.set_index(np.array(puestos))\n",
    "tabla_1.index.name = 'PUESTO'\n",
    "tabla_1"
   ]
  },
  {
   "cell_type": "code",
   "execution_count": 153,
   "metadata": {},
   "outputs": [
    {
     "output_type": "execute_result",
     "data": {
      "text/plain": [
       "7"
      ]
     },
     "metadata": {},
     "execution_count": 153
    }
   ],
   "source": [
    "dimensiones = tabla_1.shape\n",
    "dimensiones[1]"
   ]
  },
  {
   "cell_type": "code",
   "execution_count": 154,
   "metadata": {},
   "outputs": [
    {
     "output_type": "execute_result",
     "data": {
      "text/plain": [
       "                            ESTUDIANTE  MATEMATICA  LENGUAJE  CIENCIAS  \\\n",
       "PUESTO                                                                   \n",
       "1       HERNANDEZ LUGO PABLO FRANCISCO          91        88        90   \n",
       "2         MENDEZ MEDINA EDGAR HERNANDO          80        36        57   \n",
       "3        MONTES MOSQUERA CAMILO ANDRES          86        60        63   \n",
       "4                    FERNANDO CRISTIAN          89        93        71   \n",
       "5               RODRIGUEZ TIQUE NESTOR          95         8        65   \n",
       "\n",
       "        CIUDADANAS  IDIOMAS  PUNTAJE  PUESTO  \n",
       "PUESTO                                        \n",
       "1               66       79      414       1  \n",
       "2              100       96      369       2  \n",
       "3               66       87      362       3  \n",
       "4               11       77      341       4  \n",
       "5               81       89      338       5  "
      ],
      "text/html": "<div>\n<style scoped>\n    .dataframe tbody tr th:only-of-type {\n        vertical-align: middle;\n    }\n\n    .dataframe tbody tr th {\n        vertical-align: top;\n    }\n\n    .dataframe thead th {\n        text-align: right;\n    }\n</style>\n<table border=\"1\" class=\"dataframe\">\n  <thead>\n    <tr style=\"text-align: right;\">\n      <th></th>\n      <th>ESTUDIANTE</th>\n      <th>MATEMATICA</th>\n      <th>LENGUAJE</th>\n      <th>CIENCIAS</th>\n      <th>CIUDADANAS</th>\n      <th>IDIOMAS</th>\n      <th>PUNTAJE</th>\n      <th>PUESTO</th>\n    </tr>\n    <tr>\n      <th>PUESTO</th>\n      <th></th>\n      <th></th>\n      <th></th>\n      <th></th>\n      <th></th>\n      <th></th>\n      <th></th>\n      <th></th>\n    </tr>\n  </thead>\n  <tbody>\n    <tr>\n      <th>1</th>\n      <td>HERNANDEZ LUGO PABLO FRANCISCO</td>\n      <td>91</td>\n      <td>88</td>\n      <td>90</td>\n      <td>66</td>\n      <td>79</td>\n      <td>414</td>\n      <td>1</td>\n    </tr>\n    <tr>\n      <th>2</th>\n      <td>MENDEZ MEDINA EDGAR HERNANDO</td>\n      <td>80</td>\n      <td>36</td>\n      <td>57</td>\n      <td>100</td>\n      <td>96</td>\n      <td>369</td>\n      <td>2</td>\n    </tr>\n    <tr>\n      <th>3</th>\n      <td>MONTES MOSQUERA CAMILO ANDRES</td>\n      <td>86</td>\n      <td>60</td>\n      <td>63</td>\n      <td>66</td>\n      <td>87</td>\n      <td>362</td>\n      <td>3</td>\n    </tr>\n    <tr>\n      <th>4</th>\n      <td>FERNANDO CRISTIAN</td>\n      <td>89</td>\n      <td>93</td>\n      <td>71</td>\n      <td>11</td>\n      <td>77</td>\n      <td>341</td>\n      <td>4</td>\n    </tr>\n    <tr>\n      <th>5</th>\n      <td>RODRIGUEZ TIQUE NESTOR</td>\n      <td>95</td>\n      <td>8</td>\n      <td>65</td>\n      <td>81</td>\n      <td>89</td>\n      <td>338</td>\n      <td>5</td>\n    </tr>\n  </tbody>\n</table>\n</div>"
     },
     "metadata": {},
     "execution_count": 154
    }
   ],
   "source": [
    "tabla_1['PUESTO'] = list(range(1, tabla_1.shape[0] + 1))\n",
    "tabla_1"
   ]
  },
  {
   "cell_type": "code",
   "execution_count": 155,
   "metadata": {},
   "outputs": [
    {
     "output_type": "execute_result",
     "data": {
      "text/plain": [
       "                            ESTUDIANTE  MATEMATICA  LENGUAJE  CIENCIAS  \\\n",
       "PUESTO                                                                   \n",
       "1       HERNANDEZ LUGO PABLO FRANCISCO          91        88        90   \n",
       "2         MENDEZ MEDINA EDGAR HERNANDO          80        36        57   \n",
       "3        MONTES MOSQUERA CAMILO ANDRES          86        60        63   \n",
       "4                    FERNANDO CRISTIAN          89        93        71   \n",
       "5               RODRIGUEZ TIQUE NESTOR          95         8        65   \n",
       "\n",
       "        CIUDADANAS  IDIOMAS  PUNTAJE  PUESTO  Promedio  \n",
       "PUESTO                                                  \n",
       "1               66       79      414       1      82.8  \n",
       "2              100       96      369       2      73.8  \n",
       "3               66       87      362       3      72.4  \n",
       "4               11       77      341       4      68.2  \n",
       "5               81       89      338       5      67.6  "
      ],
      "text/html": "<div>\n<style scoped>\n    .dataframe tbody tr th:only-of-type {\n        vertical-align: middle;\n    }\n\n    .dataframe tbody tr th {\n        vertical-align: top;\n    }\n\n    .dataframe thead th {\n        text-align: right;\n    }\n</style>\n<table border=\"1\" class=\"dataframe\">\n  <thead>\n    <tr style=\"text-align: right;\">\n      <th></th>\n      <th>ESTUDIANTE</th>\n      <th>MATEMATICA</th>\n      <th>LENGUAJE</th>\n      <th>CIENCIAS</th>\n      <th>CIUDADANAS</th>\n      <th>IDIOMAS</th>\n      <th>PUNTAJE</th>\n      <th>PUESTO</th>\n      <th>Promedio</th>\n    </tr>\n    <tr>\n      <th>PUESTO</th>\n      <th></th>\n      <th></th>\n      <th></th>\n      <th></th>\n      <th></th>\n      <th></th>\n      <th></th>\n      <th></th>\n      <th></th>\n    </tr>\n  </thead>\n  <tbody>\n    <tr>\n      <th>1</th>\n      <td>HERNANDEZ LUGO PABLO FRANCISCO</td>\n      <td>91</td>\n      <td>88</td>\n      <td>90</td>\n      <td>66</td>\n      <td>79</td>\n      <td>414</td>\n      <td>1</td>\n      <td>82.8</td>\n    </tr>\n    <tr>\n      <th>2</th>\n      <td>MENDEZ MEDINA EDGAR HERNANDO</td>\n      <td>80</td>\n      <td>36</td>\n      <td>57</td>\n      <td>100</td>\n      <td>96</td>\n      <td>369</td>\n      <td>2</td>\n      <td>73.8</td>\n    </tr>\n    <tr>\n      <th>3</th>\n      <td>MONTES MOSQUERA CAMILO ANDRES</td>\n      <td>86</td>\n      <td>60</td>\n      <td>63</td>\n      <td>66</td>\n      <td>87</td>\n      <td>362</td>\n      <td>3</td>\n      <td>72.4</td>\n    </tr>\n    <tr>\n      <th>4</th>\n      <td>FERNANDO CRISTIAN</td>\n      <td>89</td>\n      <td>93</td>\n      <td>71</td>\n      <td>11</td>\n      <td>77</td>\n      <td>341</td>\n      <td>4</td>\n      <td>68.2</td>\n    </tr>\n    <tr>\n      <th>5</th>\n      <td>RODRIGUEZ TIQUE NESTOR</td>\n      <td>95</td>\n      <td>8</td>\n      <td>65</td>\n      <td>81</td>\n      <td>89</td>\n      <td>338</td>\n      <td>5</td>\n      <td>67.6</td>\n    </tr>\n  </tbody>\n</table>\n</div>"
     },
     "metadata": {},
     "execution_count": 155
    }
   ],
   "source": [
    "tabla_1['Promedio']= tabla_1[['MATEMATICA','LENGUAJE','CIENCIAS','CIUDADANAS','IDIOMAS']].mean(axis=1)\n",
    "tabla_1"
   ]
  },
  {
   "cell_type": "code",
   "execution_count": 156,
   "metadata": {},
   "outputs": [
    {
     "output_type": "execute_result",
     "data": {
      "text/plain": [
       "MATEMATICA     55.33\n",
       "LENGUAJE       46.07\n",
       "CIENCIAS       51.75\n",
       "CIUDADANAS     45.91\n",
       "IDIOMAS        51.09\n",
       "PUNTAJE       250.16\n",
       "dtype: float64"
      ]
     },
     "metadata": {},
     "execution_count": 156
    }
   ],
   "source": [
    "promedio = archivo.mean()\n",
    "promedio.round(2)"
   ]
  },
  {
   "cell_type": "code",
   "execution_count": 157,
   "metadata": {},
   "outputs": [
    {
     "output_type": "execute_result",
     "data": {
      "text/plain": [
       "pandas.core.series.Series"
      ]
     },
     "metadata": {},
     "execution_count": 157
    }
   ],
   "source": [
    "type(promedio)"
   ]
  },
  {
   "cell_type": "code",
   "execution_count": 158,
   "metadata": {},
   "outputs": [
    {
     "output_type": "execute_result",
     "data": {
      "text/plain": [
       "                     0\n",
       "MATEMATICA   55.333333\n",
       "LENGUAJE     46.070175\n",
       "CIENCIAS     51.754386\n",
       "CIUDADANAS   45.912281\n",
       "IDIOMAS      51.087719\n",
       "PUNTAJE     250.157895"
      ],
      "text/html": "<div>\n<style scoped>\n    .dataframe tbody tr th:only-of-type {\n        vertical-align: middle;\n    }\n\n    .dataframe tbody tr th {\n        vertical-align: top;\n    }\n\n    .dataframe thead th {\n        text-align: right;\n    }\n</style>\n<table border=\"1\" class=\"dataframe\">\n  <thead>\n    <tr style=\"text-align: right;\">\n      <th></th>\n      <th>0</th>\n    </tr>\n  </thead>\n  <tbody>\n    <tr>\n      <th>MATEMATICA</th>\n      <td>55.333333</td>\n    </tr>\n    <tr>\n      <th>LENGUAJE</th>\n      <td>46.070175</td>\n    </tr>\n    <tr>\n      <th>CIENCIAS</th>\n      <td>51.754386</td>\n    </tr>\n    <tr>\n      <th>CIUDADANAS</th>\n      <td>45.912281</td>\n    </tr>\n    <tr>\n      <th>IDIOMAS</th>\n      <td>51.087719</td>\n    </tr>\n    <tr>\n      <th>PUNTAJE</th>\n      <td>250.157895</td>\n    </tr>\n  </tbody>\n</table>\n</div>"
     },
     "metadata": {},
     "execution_count": 158
    }
   ],
   "source": [
    "tabla_2 = pd.DataFrame(promedio)\n",
    "tabla_2"
   ]
  },
  {
   "cell_type": "code",
   "execution_count": 159,
   "metadata": {},
   "outputs": [
    {
     "output_type": "execute_result",
     "data": {
      "text/plain": [
       "              PROMEDIO\n",
       "PRUEBAS               \n",
       "MATEMATICA   55.333333\n",
       "LENGUAJE     46.070175\n",
       "CIENCIAS     51.754386\n",
       "CIUDADANAS   45.912281\n",
       "IDIOMAS      51.087719\n",
       "PUNTAJE     250.157895"
      ],
      "text/html": "<div>\n<style scoped>\n    .dataframe tbody tr th:only-of-type {\n        vertical-align: middle;\n    }\n\n    .dataframe tbody tr th {\n        vertical-align: top;\n    }\n\n    .dataframe thead th {\n        text-align: right;\n    }\n</style>\n<table border=\"1\" class=\"dataframe\">\n  <thead>\n    <tr style=\"text-align: right;\">\n      <th></th>\n      <th>PROMEDIO</th>\n    </tr>\n    <tr>\n      <th>PRUEBAS</th>\n      <th></th>\n    </tr>\n  </thead>\n  <tbody>\n    <tr>\n      <th>MATEMATICA</th>\n      <td>55.333333</td>\n    </tr>\n    <tr>\n      <th>LENGUAJE</th>\n      <td>46.070175</td>\n    </tr>\n    <tr>\n      <th>CIENCIAS</th>\n      <td>51.754386</td>\n    </tr>\n    <tr>\n      <th>CIUDADANAS</th>\n      <td>45.912281</td>\n    </tr>\n    <tr>\n      <th>IDIOMAS</th>\n      <td>51.087719</td>\n    </tr>\n    <tr>\n      <th>PUNTAJE</th>\n      <td>250.157895</td>\n    </tr>\n  </tbody>\n</table>\n</div>"
     },
     "metadata": {},
     "execution_count": 159
    }
   ],
   "source": [
    "tabla_2.columns = ['PROMEDIO']\n",
    "tabla_2.index.name = 'PRUEBAS'\n",
    "tabla_2"
   ]
  },
  {
   "cell_type": "code",
   "execution_count": 160,
   "metadata": {},
   "outputs": [],
   "source": [
    "import os\n",
    "os.mkdir('dir')\n"
   ]
  },
  {
   "cell_type": "code",
   "execution_count": 163,
   "metadata": {},
   "outputs": [],
   "source": [
    "tabla_1.to_csv(r'./dir/promedios.csv')"
   ]
  },
  {
   "cell_type": "code",
   "execution_count": 164,
   "metadata": {},
   "outputs": [
    {
     "output_type": "execute_result",
     "data": {
      "text/plain": [
       "8"
      ]
     },
     "metadata": {},
     "execution_count": 164
    }
   ],
   "source": [
    "a = 3\n",
    "b = 5"
   ]
  },
  {
   "cell_type": "code",
   "execution_count": null,
   "metadata": {},
   "outputs": [],
   "source": []
  }
 ]
}